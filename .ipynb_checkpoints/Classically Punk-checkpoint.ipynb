{
 "cells": [
  {
   "cell_type": "markdown",
   "id": "8c1bcd0e",
   "metadata": {},
   "source": [
    "<h2><center> Classically Punk</h2></center>\n",
    "<figure>\n",
    "<center><img src =\"https://www.servomagazine.com/uploads/articles/SV_0220_Keshri_Large.jpg\" width = \"750\" height = '500' alt=\"Financial Fraud Detection\"/>"
   ]
  },
  {
   "cell_type": "markdown",
   "id": "348f1af0",
   "metadata": {},
   "source": [
    "## Authors: \n",
    "\n",
    "Date: [Current Date]"
   ]
  },
  {
   "cell_type": "markdown",
   "id": "2ad33f76",
   "metadata": {},
   "source": [
    "[Table of Contents](#table-of-contents)\n",
    "\n",
    "- [Introduction](#introduction)\n",
    "  * [Overview](#overview)\n",
    "  * [Problem Statement](#problem-statement)\n",
    "- [Importing Libraries](#importing-dependencies)\n",
    "- [Data](#data)\n",
    "- [Exploratory Data Analysis](#exploratory-data-analysis)\n",
    "  * [Data Exploration](#data-exploration)\n",
    "  * [Data Visualization](#data-visualization)\n",
    "  * [Summary Statistics](#summary-statistics)\n",
    "  * [Feature Correlation](#feature-correlation)\n",
    "- [Data Preparation](#data-preparation)\n",
    "  * [Data Cleaning](#data-cleaning)\n",
    "  * [Feature Engineering](#feature-engineering)\n",
    "  * [Data Transformation](#data-transformation)\n",
    "- [Modeling](#modeling)\n",
    "  * [Model Selection](#model-selection)\n",
    "  * [Model Training](#model-training)\n",
    "  * [Model Evaluation](#model-evaluation)\n",
    "  * [Hyperparameter Tuning](#hyperparameter-tuning)\n",
    "- [Results](#results)\n",
    "  * [Analysis Results](#analysis-results)\n",
    "  * [Model Performance](#model-performance)\n",
    "  * [Feature Importance](#feature-importance)\n",
    "  * [Implications](#implications)\n",
    "- [Conclusion](#conclusion)\n",
    "  * [Summary](#summary)\n",
    "  * [Limitations](#limitations)\n",
    "  * [Recommendations](#recommendations)\n",
    "- [References](#references)\n",
    "- [Code](#code)"
   ]
  },
  {
   "cell_type": "markdown",
   "id": "cb7bc0f0",
   "metadata": {},
   "source": [
    "<a id='introduction'></a>\n",
    "### Introduction\n",
    "[back to top](#table-of-contents)"
   ]
  },
  {
   "cell_type": "markdown",
   "id": "da06c58d",
   "metadata": {},
   "source": [
    "<a id='overview'></a>\n",
    "#### Overview\n",
    "[back to top](#table-of-contents)"
   ]
  },
  {
   "cell_type": "markdown",
   "id": "74cb2b87",
   "metadata": {},
   "source": [
    "<a id='problem-statement'></a>\n",
    "#### Problem Statement\n",
    "[back to top](#table-of-contents)"
   ]
  },
  {
   "cell_type": "markdown",
   "id": "bafda93c",
   "metadata": {},
   "source": [
    "<a id='importing-dependencies'></a>\n",
    "### Importing Dependencies\n",
    "[back to top](#table-of-contents)"
   ]
  },
  {
   "cell_type": "code",
   "execution_count": 2,
   "id": "415c17cb",
   "metadata": {},
   "outputs": [],
   "source": [
    "import os\n",
    "import sys\n",
    "import librosa\n",
    "import librosa.display\n",
    "import seaborn as sns\n",
    "import matplotlib.pyplot as plt\n",
    "import matplotlib.ticker as ticker\n",
    "from IPython.display import Audio\n",
    "import numpy as np\n",
    "import scipy\n",
    "import pickle\n",
    "import tarfile\n",
    "import tensorflow as tf\n",
    "from tensorflow import keras\n",
    "import pandas as pd\n",
    "from sklearn.model_selection import train_test_split\n",
    "\n",
    "import warnings\n",
    "warnings.filterwarnings('ignore')\n",
    "pd.set_option('display.max_rows', 200)\n",
    "pd.set_option('display.max_columns', 200)"
   ]
  },
  {
   "cell_type": "code",
   "execution_count": 71,
   "id": "41038a4b",
   "metadata": {},
   "outputs": [],
   "source": [
    "df1 = pd.read_csv('only_wood_customer_us_1.csv')\n",
    "df2 = pd.read_csv('only_wood_customer_us_2.csv', header=None, sep=';')\n",
    "df3 = pd.read_csv('only_wood_customer_us_3.csv')"
   ]
  },
  {
   "cell_type": "code",
   "execution_count": 72,
   "id": "b2dedb2a",
   "metadata": {},
   "outputs": [
    {
     "data": {
      "text/html": [
       "<div>\n",
       "<style scoped>\n",
       "    .dataframe tbody tr th:only-of-type {\n",
       "        vertical-align: middle;\n",
       "    }\n",
       "\n",
       "    .dataframe tbody tr th {\n",
       "        vertical-align: top;\n",
       "    }\n",
       "\n",
       "    .dataframe thead th {\n",
       "        text-align: right;\n",
       "    }\n",
       "</style>\n",
       "<table border=\"1\" class=\"dataframe\">\n",
       "  <thead>\n",
       "    <tr style=\"text-align: right;\">\n",
       "      <th></th>\n",
       "      <th>Gender</th>\n",
       "      <th>FirstName</th>\n",
       "      <th>LastName</th>\n",
       "      <th>UserName</th>\n",
       "      <th>Email</th>\n",
       "      <th>Age</th>\n",
       "      <th>City</th>\n",
       "      <th>Country</th>\n",
       "    </tr>\n",
       "  </thead>\n",
       "  <tbody>\n",
       "    <tr>\n",
       "      <th>0</th>\n",
       "      <td>Female</td>\n",
       "      <td>latesha</td>\n",
       "      <td>Barton</td>\n",
       "      <td>latesha</td>\n",
       "      <td>forgottoask@woodinc</td>\n",
       "      <td>85</td>\n",
       "      <td>INDIANAPOLIS</td>\n",
       "      <td>United State Of America</td>\n",
       "    </tr>\n",
       "    <tr>\n",
       "      <th>1</th>\n",
       "      <td>Female</td>\n",
       "      <td>Yolando</td>\n",
       "      <td>Jast</td>\n",
       "      <td>yolando</td>\n",
       "      <td>yolando_jast@yahoo.com</td>\n",
       "      <td>53</td>\n",
       "      <td>Columbus</td>\n",
       "      <td>12</td>\n",
       "    </tr>\n",
       "    <tr>\n",
       "      <th>2</th>\n",
       "      <td>Male</td>\n",
       "      <td>STACY</td>\n",
       "      <td>JOHNSON</td>\n",
       "      <td>stacy</td>\n",
       "      <td>stacy.johnson@yahoo.com</td>\n",
       "      <td>64</td>\n",
       "      <td>Indianapolis</td>\n",
       "      <td>NaN</td>\n",
       "    </tr>\n",
       "    <tr>\n",
       "      <th>3</th>\n",
       "      <td>Male</td>\n",
       "      <td>ABDUL</td>\n",
       "      <td>Mayert</td>\n",
       "      <td>abdul</td>\n",
       "      <td>mayert.abdul@hotmail.com</td>\n",
       "      <td>79</td>\n",
       "      <td>phoenix</td>\n",
       "      <td>USA</td>\n",
       "    </tr>\n",
       "    <tr>\n",
       "      <th>4</th>\n",
       "      <td>0</td>\n",
       "      <td>JULIUS</td>\n",
       "      <td>REINGER</td>\n",
       "      <td>julius</td>\n",
       "      <td>reinger_julius@hotmail.com</td>\n",
       "      <td>65</td>\n",
       "      <td>Jacksonville</td>\n",
       "      <td>NaN</td>\n",
       "    </tr>\n",
       "  </tbody>\n",
       "</table>\n",
       "</div>"
      ],
      "text/plain": [
       "   Gender FirstName LastName UserName                       Email  Age  \\\n",
       "0  Female   latesha   Barton  latesha         forgottoask@woodinc   85   \n",
       "1  Female   Yolando     Jast  yolando      yolando_jast@yahoo.com   53   \n",
       "2    Male     STACY  JOHNSON    stacy     stacy.johnson@yahoo.com   64   \n",
       "3    Male     ABDUL   Mayert    abdul    mayert.abdul@hotmail.com   79   \n",
       "4       0    JULIUS  REINGER   julius  reinger_julius@hotmail.com   65   \n",
       "\n",
       "           City                  Country  \n",
       "0  INDIANAPOLIS  United State Of America  \n",
       "1      Columbus                       12  \n",
       "2  Indianapolis                      NaN  \n",
       "3       phoenix                      USA  \n",
       "4  Jacksonville                      NaN  "
      ]
     },
     "execution_count": 72,
     "metadata": {},
     "output_type": "execute_result"
    }
   ],
   "source": [
    "df1.head()"
   ]
  },
  {
   "cell_type": "code",
   "execution_count": 73,
   "id": "4c2dda70",
   "metadata": {},
   "outputs": [
    {
     "data": {
      "text/plain": [
       "Female    4076\n",
       "Male      4033\n",
       "1          533\n",
       "M          478\n",
       "0          449\n",
       "F          431\n",
       "Name: Gender, dtype: int64"
      ]
     },
     "execution_count": 73,
     "metadata": {},
     "output_type": "execute_result"
    }
   ],
   "source": [
    "df1['Gender'].value_counts()"
   ]
  },
  {
   "cell_type": "code",
   "execution_count": 74,
   "id": "82a2173d",
   "metadata": {},
   "outputs": [],
   "source": [
    "df1['City'] = df1['City'].str.replace('-', ' ', regex=True).str.replace('_', ' ', regex=True).str.lower()\n",
    "df1['FirstName'] = df1['FirstName'].str.replace('\\\\', '', regex=True).str.replace('\"', '', regex=True)\n",
    "df1['LastName'] = df1['LastName'].str.replace('\\\\', '', regex=True).str.replace('\"', '', regex=True)\n",
    "df1['Country'] = 'USA'\n",
    "df1['Gender'] = df1['Gender'].str.replace('0', 'Male', regex=True).str.replace('1', 'Female', regex=True)\n",
    "df1['Gender'] = df1['Gender'].replace({'M': 'Male', 'F': 'Female'})\n",
    "df1[['Gender', 'FirstName', 'LastName', 'UserName', 'Email', 'Age', 'City', 'Country']] = df1[['Gender', 'FirstName', 'LastName', 'UserName', 'Email', 'Age', 'City', 'Country']].astype(str)"
   ]
  },
  {
   "cell_type": "code",
   "execution_count": 75,
   "id": "39c5b56a",
   "metadata": {},
   "outputs": [
    {
     "data": {
      "text/plain": [
       "['Female', 'Male']"
      ]
     },
     "execution_count": 75,
     "metadata": {},
     "output_type": "execute_result"
    }
   ],
   "source": [
    "gender_values = sorted(set(df1['Gender'].values.tolist()))\n",
    "gender_values"
   ]
  },
  {
   "cell_type": "code",
   "execution_count": 76,
   "id": "88a7ebcc",
   "metadata": {},
   "outputs": [],
   "source": [
    "    df2.columns =['Age', 'City', 'Gender', 'Name', 'Email']\n",
    "    df2['Gender'] = df2['Gender'].replace({'M': 'Male', 'F': 'Female'})\n",
    "    df2[['FirstName', 'LastName']] = df2['Name'].str.split(' ', expand=True)\n",
    "    df2['UserName'] = df2['LastName'].str.lower() + '.' + df2['FirstName'].str.lower()\n",
    "    df2 = df2.drop(['Name'], axis=1)\n",
    "    df2 = df2[['Gender', 'FirstName', 'LastName', 'UserName', 'Email', 'Age', 'City']]\n",
    "    df2['Country'] = 'USA'\n",
    "    df2['FirstName'] = df2['FirstName'].str.replace('\\\\', '', regex=True).str.replace('\"', '', regex=True)\n",
    "    df2['LastName'] = df2['LastName'].str.replace('\\\\', '', regex=True).str.replace('\"', '', regex=True)\n",
    "    df2['Email'] = df2['Email'].str.replace('_', '.', regex=True)\n",
    "    df2['Age'] = df2['Age'].str.replace('years', '', regex=True).str.replace('year', '', regex=True)\n",
    "    df2['UserName'] = df2['UserName'].str.replace('\\\\', '', regex=True).str.replace('\"', '', regex=True)\n",
    "    df2['Gender'] = df2['Gender'].str.replace('0', 'Male', regex=True).str.replace('1', 'Female', regex=True)\n",
    "    \n",
    "    df2['City'] = df2['City'].str.replace('-', ' ', regex=True).str.replace('_', ' ', regex=True).str.lower()\n",
    "    df2[['Gender', 'FirstName', 'LastName', 'UserName', 'Email', 'Age', 'City', 'Country']] = df2[['Gender', 'FirstName', 'LastName', 'UserName', 'Email', 'Age', 'City', 'Country']].astype(str)\n"
   ]
  },
  {
   "cell_type": "code",
   "execution_count": 77,
   "id": "431879ea",
   "metadata": {},
   "outputs": [
    {
     "data": {
      "text/html": [
       "<div>\n",
       "<style scoped>\n",
       "    .dataframe tbody tr th:only-of-type {\n",
       "        vertical-align: middle;\n",
       "    }\n",
       "\n",
       "    .dataframe tbody tr th {\n",
       "        vertical-align: top;\n",
       "    }\n",
       "\n",
       "    .dataframe thead th {\n",
       "        text-align: right;\n",
       "    }\n",
       "</style>\n",
       "<table border=\"1\" class=\"dataframe\">\n",
       "  <thead>\n",
       "    <tr style=\"text-align: right;\">\n",
       "      <th></th>\n",
       "      <th>Gender</th>\n",
       "      <th>FirstName</th>\n",
       "      <th>LastName</th>\n",
       "      <th>UserName</th>\n",
       "      <th>Email</th>\n",
       "      <th>Age</th>\n",
       "      <th>City</th>\n",
       "      <th>Country</th>\n",
       "    </tr>\n",
       "  </thead>\n",
       "  <tbody>\n",
       "    <tr>\n",
       "      <th>0</th>\n",
       "      <td>Female</td>\n",
       "      <td>lorette</td>\n",
       "      <td>kutch</td>\n",
       "      <td>kutch.lorette</td>\n",
       "      <td>Kutch.lorette@gmail.com</td>\n",
       "      <td>51</td>\n",
       "      <td>austin</td>\n",
       "      <td>USA</td>\n",
       "    </tr>\n",
       "    <tr>\n",
       "      <th>1</th>\n",
       "      <td>Female</td>\n",
       "      <td>CLORINDA</td>\n",
       "      <td>WIZA</td>\n",
       "      <td>wiza.clorinda</td>\n",
       "      <td>clorinda.wiza@gmail.com</td>\n",
       "      <td>84</td>\n",
       "      <td>san diego</td>\n",
       "      <td>USA</td>\n",
       "    </tr>\n",
       "    <tr>\n",
       "      <th>2</th>\n",
       "      <td>Male</td>\n",
       "      <td>Joesph</td>\n",
       "      <td>littel</td>\n",
       "      <td>littel.joesph</td>\n",
       "      <td>LITTEL.JOESPH@GMAIL.COM</td>\n",
       "      <td>97</td>\n",
       "      <td>columbus</td>\n",
       "      <td>USA</td>\n",
       "    </tr>\n",
       "    <tr>\n",
       "      <th>3</th>\n",
       "      <td>Male</td>\n",
       "      <td>carlo</td>\n",
       "      <td>Stokes</td>\n",
       "      <td>stokes.carlo</td>\n",
       "      <td>carlo.stokes@gmail.com</td>\n",
       "      <td>90</td>\n",
       "      <td>jacksonville</td>\n",
       "      <td>USA</td>\n",
       "    </tr>\n",
       "    <tr>\n",
       "      <th>4</th>\n",
       "      <td>Male</td>\n",
       "      <td>KASEY</td>\n",
       "      <td>prosacco</td>\n",
       "      <td>prosacco.kasey</td>\n",
       "      <td>Kasey.prosacco@hotmail.com</td>\n",
       "      <td>57</td>\n",
       "      <td>charlotte</td>\n",
       "      <td>USA</td>\n",
       "    </tr>\n",
       "  </tbody>\n",
       "</table>\n",
       "</div>"
      ],
      "text/plain": [
       "   Gender FirstName  LastName        UserName                       Email Age  \\\n",
       "0  Female   lorette     kutch   kutch.lorette     Kutch.lorette@gmail.com  51   \n",
       "1  Female  CLORINDA      WIZA   wiza.clorinda     clorinda.wiza@gmail.com  84   \n",
       "2    Male    Joesph    littel   littel.joesph     LITTEL.JOESPH@GMAIL.COM  97   \n",
       "3    Male     carlo    Stokes    stokes.carlo      carlo.stokes@gmail.com  90   \n",
       "4    Male     KASEY  prosacco  prosacco.kasey  Kasey.prosacco@hotmail.com  57   \n",
       "\n",
       "           City Country  \n",
       "0        austin     USA  \n",
       "1     san diego     USA  \n",
       "2      columbus     USA  \n",
       "3  jacksonville     USA  \n",
       "4     charlotte     USA  "
      ]
     },
     "execution_count": 77,
     "metadata": {},
     "output_type": "execute_result"
    }
   ],
   "source": [
    "df2.head()"
   ]
  },
  {
   "cell_type": "code",
   "execution_count": 78,
   "id": "5ccac0c2",
   "metadata": {},
   "outputs": [
    {
     "data": {
      "text/plain": [
       "['Female', 'Male']"
      ]
     },
     "execution_count": 78,
     "metadata": {},
     "output_type": "execute_result"
    }
   ],
   "source": [
    "gender_values = sorted(set(df2['Gender'].values.tolist()))\n",
    "gender_values"
   ]
  },
  {
   "cell_type": "code",
   "execution_count": 79,
   "id": "34b6ebd3",
   "metadata": {},
   "outputs": [],
   "source": [
    "    df3['Gender'] = df3['Gender'].str.replace('string_', '', regex=True).str.replace('tstring_', '', regex=True)\n",
    "    df3[['Gender', 'Name', 'Email', 'Age', 'City', 'Country']] = df3['Gender'].str.split('\\t', expand=True)\n",
    "    df3['Name'] = df3['Name'].str.replace('\\\\', '', regex=True).str.replace('\"', '', regex=True)\n",
    "    df3[['FirstName', 'LastName']] = df3['Name'].str.split(' ', expand=True)\n",
    "    df3['UserName'] = df3['LastName'].str.lower() + '.' + df2['FirstName'].str.lower()\n",
    "    df3 = df3.drop(['Name'], axis=1)\n",
    "    df3 = df3[['Gender', 'FirstName', 'LastName', 'UserName', 'Email', 'Age', 'City', 'Country']]\n",
    "    df3['Age'] = df3['Age'].str.replace('integer_', '', regex=True).str.replace('\"', '', regex=True)\n",
    "    df3['Gender'] = df3['Gender'].str.replace('character_M', 'Male', regex=True).str.replace('boolean_0', 'Female', regex=True).str.replace('boolean_1', 'Male', regex=True)\n",
    "    df3['Age'] = df3['Age'].str.replace('years', '', regex=True).str.replace('year', '', regex=True).str.replace('yo', '', regex=True)\n",
    "    df3['Country'] = 'USA'\n",
    "    df3['City'] = df3['City'].str.replace('-', ' ', regex=True).str.replace('_', ' ', regex=True).str.lower()\n",
    "    df3[['Gender', 'FirstName', 'LastName', 'UserName', 'Email', 'Age', 'City', 'Country']] = df3[['Gender', 'FirstName', 'LastName', 'UserName', 'Email', 'Age', 'City', 'Country']].astype(str)\n"
   ]
  },
  {
   "cell_type": "code",
   "execution_count": 80,
   "id": "f5548664",
   "metadata": {},
   "outputs": [
    {
     "data": {
      "text/plain": [
       "['Female', 'Male']"
      ]
     },
     "execution_count": 80,
     "metadata": {},
     "output_type": "execute_result"
    }
   ],
   "source": [
    "gender_values = sorted(set(df3['Gender'].values.tolist()))\n",
    "gender_values"
   ]
  },
  {
   "cell_type": "code",
   "execution_count": 81,
   "id": "8d49ee73",
   "metadata": {},
   "outputs": [
    {
     "data": {
      "text/html": [
       "<div>\n",
       "<style scoped>\n",
       "    .dataframe tbody tr th:only-of-type {\n",
       "        vertical-align: middle;\n",
       "    }\n",
       "\n",
       "    .dataframe tbody tr th {\n",
       "        vertical-align: top;\n",
       "    }\n",
       "\n",
       "    .dataframe thead th {\n",
       "        text-align: right;\n",
       "    }\n",
       "</style>\n",
       "<table border=\"1\" class=\"dataframe\">\n",
       "  <thead>\n",
       "    <tr style=\"text-align: right;\">\n",
       "      <th></th>\n",
       "      <th>Gender</th>\n",
       "      <th>FirstName</th>\n",
       "      <th>LastName</th>\n",
       "      <th>UserName</th>\n",
       "      <th>Email</th>\n",
       "      <th>Age</th>\n",
       "      <th>City</th>\n",
       "      <th>Country</th>\n",
       "    </tr>\n",
       "  </thead>\n",
       "  <tbody>\n",
       "    <tr>\n",
       "      <th>0</th>\n",
       "      <td>Male</td>\n",
       "      <td>kendall</td>\n",
       "      <td>DACH</td>\n",
       "      <td>dach.lorette</td>\n",
       "      <td>DACH.KENDALL@HOTMAIL.COM</td>\n",
       "      <td>26</td>\n",
       "      <td>dallas</td>\n",
       "      <td>USA</td>\n",
       "    </tr>\n",
       "    <tr>\n",
       "      <th>1</th>\n",
       "      <td>Male</td>\n",
       "      <td>jonathon</td>\n",
       "      <td>schneider</td>\n",
       "      <td>schneider.clorinda</td>\n",
       "      <td>Jonathon.schneider@gmail.com</td>\n",
       "      <td>91</td>\n",
       "      <td>indianapolis</td>\n",
       "      <td>USA</td>\n",
       "    </tr>\n",
       "    <tr>\n",
       "      <th>2</th>\n",
       "      <td>Male</td>\n",
       "      <td>JAROD</td>\n",
       "      <td>konopelski</td>\n",
       "      <td>konopelski.joesph</td>\n",
       "      <td>KONOPELSKI_JAROD@HOTMAIL.COM</td>\n",
       "      <td>38</td>\n",
       "      <td>chicago</td>\n",
       "      <td>USA</td>\n",
       "    </tr>\n",
       "    <tr>\n",
       "      <th>3</th>\n",
       "      <td>Male</td>\n",
       "      <td>Glen</td>\n",
       "      <td>upton</td>\n",
       "      <td>upton.carlo</td>\n",
       "      <td>upton_glen@gmail.com</td>\n",
       "      <td>30</td>\n",
       "      <td>austin</td>\n",
       "      <td>USA</td>\n",
       "    </tr>\n",
       "    <tr>\n",
       "      <th>4</th>\n",
       "      <td>Male</td>\n",
       "      <td>tracey</td>\n",
       "      <td>Ratke</td>\n",
       "      <td>ratke.kasey</td>\n",
       "      <td>Ratke.tracey@hotmail.com</td>\n",
       "      <td>51</td>\n",
       "      <td>austin</td>\n",
       "      <td>USA</td>\n",
       "    </tr>\n",
       "  </tbody>\n",
       "</table>\n",
       "</div>"
      ],
      "text/plain": [
       "  Gender FirstName    LastName            UserName  \\\n",
       "0   Male   kendall        DACH        dach.lorette   \n",
       "1   Male  jonathon   schneider  schneider.clorinda   \n",
       "2   Male     JAROD  konopelski   konopelski.joesph   \n",
       "3   Male      Glen       upton         upton.carlo   \n",
       "4   Male    tracey       Ratke         ratke.kasey   \n",
       "\n",
       "                          Email Age          City Country  \n",
       "0      DACH.KENDALL@HOTMAIL.COM  26        dallas     USA  \n",
       "1  Jonathon.schneider@gmail.com  91  indianapolis     USA  \n",
       "2  KONOPELSKI_JAROD@HOTMAIL.COM  38       chicago     USA  \n",
       "3          upton_glen@gmail.com  30        austin     USA  \n",
       "4      Ratke.tracey@hotmail.com  51        austin     USA  "
      ]
     },
     "execution_count": 81,
     "metadata": {},
     "output_type": "execute_result"
    }
   ],
   "source": [
    "df3.head()"
   ]
  },
  {
   "cell_type": "code",
   "execution_count": null,
   "id": "cbb1b499",
   "metadata": {},
   "outputs": [],
   "source": [
    "import sqlite3\n",
    "import csv\n",
    "import pandas as pd\n",
    "from io import StringIO\n",
    "import re\n",
    "\n",
    "def csv_to_sql(csv_content, database, table_name):\n",
    "    conn = sqlite3.connect(database)\n",
    "    cursor = conn.cursor()\n",
    "    cursor.execute('''\n",
    "        CREATE TABLE volcanos (\n",
    "            \"Volcano Name\" varchar(100),\n",
    "            \"Country\" varchar(100),\n",
    "            \"Type\" varchar(100),\n",
    "            \"Latitude (dd)\" real,\n",
    "            \"Longitude (dd)\" real,\n",
    "            \"Elevation (m)\" real\n",
    "            )\n",
    "    ''')\n",
    "    csv_data = csv_content.getvalue() \n",
    "    reader = csv.DictReader(csv_data.splitlines()) \n",
    "    to_db = [(i['Volcano Name'], i['Country'], i['Type'], i['Latitude (dd)'], i['Longitude (dd)'], i['Elevation (m)']) for i in reader]\n",
    "    cursor.executemany(\"INSERT INTO volcanos (\\\"Volcano Name\\\", \\\"Country\\\", \\\"Type\\\", \\\"Latitude (dd)\\\", \\\"Longitude (dd)\\\", \\\"Elevation (m)\\\") VALUES (?, ?, ?, ?, ?, ?)\", to_db)\n",
    "    conn.commit()\n",
    "    conn.close()"
   ]
  },
  {
   "cell_type": "markdown",
   "id": "7193821a",
   "metadata": {},
   "source": [
    "<a id='data'></a>\n",
    "### Data\n",
    "[back to top](#table-of-contents)"
   ]
  },
  {
   "cell_type": "markdown",
   "id": "5d5b57fe",
   "metadata": {},
   "source": [
    "<a id='exploratory-data-analysis'></a>\n",
    "### Exploratory Data Analysis\n",
    "[back to top](#table-of-contents)"
   ]
  },
  {
   "cell_type": "markdown",
   "id": "613915dc",
   "metadata": {},
   "source": [
    "<a id='data-exploration'></a>\n",
    "#### Data Exploration\n",
    "[back to top](#table-of-contents)"
   ]
  },
  {
   "cell_type": "markdown",
   "id": "fab1d39c",
   "metadata": {},
   "source": [
    "<a id='data-visualization'></a>\n",
    "#### Data Visualization\n",
    "[back to top](#table-of-contents)"
   ]
  },
  {
   "cell_type": "markdown",
   "id": "a80e01e0",
   "metadata": {},
   "source": [
    "<a id='summary-statistics'></a>\n",
    "#### Summary Statistics\n",
    "[back to top](#table-of-contents)"
   ]
  },
  {
   "cell_type": "markdown",
   "id": "2377a37f",
   "metadata": {},
   "source": [
    "<a id='feature-correlation'></a>\n",
    "#### Feature Correlation\n",
    "[back to top](#table-of-contents)"
   ]
  },
  {
   "cell_type": "markdown",
   "id": "98e0bd7c",
   "metadata": {},
   "source": [
    "<a id='data-preparation'></a>\n",
    "### Data Preparation\n",
    "[back to top](#table-of-contents)"
   ]
  },
  {
   "cell_type": "markdown",
   "id": "c77fdda0",
   "metadata": {},
   "source": [
    "<a id='data-cleaning'></a>\n",
    "#### Data Cleaning\n",
    "[back to top](#table-of-contents)"
   ]
  },
  {
   "cell_type": "markdown",
   "id": "502405d3",
   "metadata": {},
   "source": [
    "<a id='feature-engineering'></a>\n",
    "#### Feature Engineering\n",
    "[back to top](#table-of-contents)"
   ]
  },
  {
   "cell_type": "markdown",
   "id": "36f53cc7",
   "metadata": {},
   "source": [
    "<a id='data-transformation'></a>\n",
    "#### Data Transformation\n",
    "[back to top](#table-of-contents)\n",
    "<a id='modeling'></a>"
   ]
  },
  {
   "cell_type": "markdown",
   "id": "9bcb7bb7",
   "metadata": {},
   "source": [
    "<a id='modeling'></a>\n",
    "\n",
    "### Modeling\n",
    "[back to top](#table-of-contents)"
   ]
  },
  {
   "cell_type": "markdown",
   "id": "97d63bf1",
   "metadata": {},
   "source": [
    "<a id='model-selection'></a>\n",
    "\n",
    "#### Model Selection\n",
    "[back to top](#table-of-contents)"
   ]
  },
  {
   "cell_type": "markdown",
   "id": "d6bd781a",
   "metadata": {},
   "source": [
    "<a id='model-training'></a>\n",
    "\n",
    "#### Model Training\n",
    "[back to top](#table-of-contents)"
   ]
  },
  {
   "cell_type": "markdown",
   "id": "81842569",
   "metadata": {},
   "source": [
    "<a id='model-evaluation'></a>\n",
    "\n",
    "#### Model Evaluation\n",
    "[back to top](#table-of-contents)"
   ]
  },
  {
   "cell_type": "markdown",
   "id": "f908bff1",
   "metadata": {},
   "source": [
    "<a id='hyperparameter-tuning'></a>\n",
    "#### Hyperparameter Tuning\n",
    "[back to top](#table-of-contents)\n",
    "\n"
   ]
  },
  {
   "cell_type": "markdown",
   "id": "3e6f9884",
   "metadata": {},
   "source": [
    "<a id='results'></a>\n",
    "### Results\n",
    "[back to top](#table-of-contents)"
   ]
  },
  {
   "cell_type": "markdown",
   "id": "6fe4e0a3",
   "metadata": {},
   "source": [
    "<a id='analysis-results'></a>\n",
    "\n",
    "#### Analysis Results\n",
    "[back to top](#table-of-contents)"
   ]
  },
  {
   "cell_type": "markdown",
   "id": "9268d80c",
   "metadata": {},
   "source": [
    "<a id='model-performance'></a>\n",
    "\n",
    "#### Model Performance\n",
    "[back to top](#table-of-contents)"
   ]
  },
  {
   "cell_type": "markdown",
   "id": "29dac22e",
   "metadata": {},
   "source": [
    "<a id='feature-importance'></a>\n",
    "\n",
    "#### Feature Importance\n",
    "[back to top](#table-of-contents)"
   ]
  },
  {
   "cell_type": "markdown",
   "id": "174d7db0",
   "metadata": {},
   "source": [
    "<a id='implications'></a>\n",
    "\n",
    "#### Implications\n",
    "[back to top](#table-of-contents)"
   ]
  },
  {
   "cell_type": "markdown",
   "id": "9c89320c",
   "metadata": {},
   "source": [
    "<a id='conclusion'></a>\n",
    "\n",
    "### Conclusion\n",
    "[back to top](#table-of-contents)"
   ]
  },
  {
   "cell_type": "markdown",
   "id": "a229a94a",
   "metadata": {},
   "source": [
    "<a id='summary'></a>\n",
    "\n",
    "#### Summary\n",
    "[back to top](#table-of-contents)"
   ]
  },
  {
   "cell_type": "markdown",
   "id": "3ecf1484",
   "metadata": {},
   "source": [
    "<a id='limitations'></a>\n",
    "\n",
    "#### Limitations\n",
    "[back to top](#table-of-contents)"
   ]
  },
  {
   "cell_type": "markdown",
   "id": "ecd40bb0",
   "metadata": {},
   "source": [
    "<a id='recommendations'></a>\n",
    "\n",
    "#### Recommendations\n",
    "[back to top](#table-of-contents)"
   ]
  },
  {
   "cell_type": "markdown",
   "id": "a1d54afe",
   "metadata": {},
   "source": [
    "<a id='references'></a>\n",
    "\n",
    "#### References\n",
    "[back to top](#table-of-contents)"
   ]
  },
  {
   "cell_type": "markdown",
   "id": "622a91ec",
   "metadata": {},
   "source": [
    "<a id='code'></a>\n",
    "\n",
    "#### Code\n",
    "[back to top](#table-of-contents)"
   ]
  }
 ],
 "metadata": {
  "kernelspec": {
   "display_name": "Python 3 (ipykernel)",
   "language": "python",
   "name": "python3"
  },
  "language_info": {
   "codemirror_mode": {
    "name": "ipython",
    "version": 3
   },
   "file_extension": ".py",
   "mimetype": "text/x-python",
   "name": "python",
   "nbconvert_exporter": "python",
   "pygments_lexer": "ipython3",
   "version": "3.10.9"
  }
 },
 "nbformat": 4,
 "nbformat_minor": 5
}
