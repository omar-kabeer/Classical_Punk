{
 "cells": [
  {
   "cell_type": "markdown",
   "id": "a9bfb526",
   "metadata": {},
   "source": [
    "<font size=\"+3\" color='#053c96'><h2><center> Financial Statement Fraud Detection Notebook</h2></center></font>\n",
    "<figure>\n",
    "<center><img src =\"https://www.netsuite.com/portal/assets/img/business-articles/accounting-software/bnr-financial-statement-fraud.jpg\" width = \"750\" height = '600' alt=\"Financial Fraud Detection\"/>"
   ]
  },
  {
   "cell_type": "markdown",
   "id": "0fd8aca5",
   "metadata": {},
   "source": [
    "## Authors: \n",
    "\n",
    "Date: [Current Date]"
   ]
  },
  {
   "cell_type": "markdown",
   "id": "5c866556",
   "metadata": {},
   "source": [
    "[Table of Contents](#table-of-contents)\n",
    "\n",
    "- [Introduction](#introduction)\n",
    "  * [Overview](#overview)\n",
    "  * [Problem Statement](#problem-statement)\n",
    "  * [Objectives](#goals)\n",
    "- [Importing Libraries](#importing-dependencies)\n",
    "- [Data](#data)\n",
    "- [Exploratory Data Analysis](#exploratory-data-analysis)\n",
    "  * [Data Exploration](#data-exploration)\n",
    "  * [Data Visualization](#data-visualization)\n",
    "  * [Summary Statistics](#summary-statistics)\n",
    "  * [Feature Correlation](#feature-correlation)\n",
    "- [Data Preparation](#data-preparation)\n",
    "  * [Data Cleaning](#data-cleaning)\n",
    "  * [Feature Engineering](#feature-engineering)\n",
    "  * [Data Transformation](#data-transformation)\n",
    "- [Modeling](#modeling)\n",
    "  * [Model Selection](#model-selection)\n",
    "  * [Model Training](#model-training)\n",
    "  * [Model Evaluation](#model-evaluation)\n",
    "  * [Hyperparameter Tuning](#hyperparameter-tuning)\n",
    "- [Results](#results)\n",
    "  * [Analysis Results](#analysis-results)\n",
    "  * [Model Performance](#model-performance)\n",
    "  * [Feature Importance](#feature-importance)\n",
    "  * [Implications](#implications)\n",
    "- [Conclusion](#conclusion)\n",
    "  * [Summary](#summary)\n",
    "  * [Limitations](#limitations)\n",
    "  * [Recommendations](#recommendations)\n",
    "- [References](#references)"
   ]
  },
  {
   "cell_type": "markdown",
   "id": "836292fd",
   "metadata": {},
   "source": [
    "<a id='introduction'></a>\n",
    "<font size=\"+2\" color='#053c96'><b> Introduction</b></font>  \n",
    "[back to top](#table-of-contents)  \n",
    "\n",
    "This project aims to flag fraudulent financial statements from companies that have been issued a guarantee from an insurance company. The purpose is to ensure the financial information used in the credit risk modelling process is sound. The deliverables include a statistical (or other) model that predicts and flags fraudulent financial statements, an analysis of the predicted fraud across different buckets (e.g. industry, year, financial type), and a fraud indicator (or probability) that will allow the use of an extra variable in the credit risk model and give insight into the appropriateness of the data for modelling purposes. Ultimately, the credit underwriters will be the end-users of the output."
   ]
  },
  {
   "cell_type": "markdown",
   "id": "06537a61",
   "metadata": {},
   "source": [
    "<a id='overview'></a>\n",
    "<font size=\"+1\" color='#780404'><b> Overview</b></font>  \n",
    "[back to top](#table-of-contents)"
   ]
  },
  {
   "cell_type": "markdown",
   "id": "33ab98ba",
   "metadata": {},
   "source": [
    "Financial Statement - a complete report on the health of a business taking in balance sheet, income and cash flow. The Financial Statement determines is a business has cash flowto pay bills or repair loans and purchase stock. It tells where thebusiness generate cashfrom and where the cash goes. It tells business profitability and gives overview of the condition of the business, flaging signs of future problems where there is one. The cost of Financial Statement Fraud is estimated at $572 billion Dollars per year in the US. Apart from the direct cost, this phenomenon has negatively affected the employees and investors, undermining the reliabilityof corporate financial statements resulting in higher transactional cost and less efficient markets."
   ]
  },
  {
   "cell_type": "markdown",
   "id": "b5a08599",
   "metadata": {},
   "source": [
    "<a id='problem-statement'></a>\n",
    "<font size=\"+1\" color='#780404'><b> Problem Statement</b></font>  \n",
    "[back to top](#table-of-contents)  \n",
    "\n",
    "Financial statement fraud refers to the intentional misrepresentation of financial information in order to deceive stakeholders. South Africa has had a number of high-profile cases of financial statement fraud in recent years. One of the most notable cases involved the retail giant Steinhoff International, which was embroiled in a massive accounting scandal in 2017. The company was accused of inflating its earnings and assets, and its share price plummeted as a result. Steinhoff is still dealing with the aftermath of the scandal, which is considered one of the biggest corporate frauds in South African history.  \n",
    "\n",
    "Financial statement fraud is not limited to South Africa; it is a global issue that affects companies all over the world, including those in Europe, Africa, Asia and America.  \n",
    "\n",
    "For this project, the problem is that there is a need to ensure that the information used in the credit risk modelling process is sound by identifying and flagging fraudulent financial statements from companies that have been issued a guarantee from an insurance company. Currently, the methods for identifying these fraudulent financial statements are not reliable, which can lead to negative credit risk modelling and financial losses for the insurance company."
   ]
  },
  {
   "cell_type": "markdown",
   "id": "65055b3b",
   "metadata": {},
   "source": [
    "<a id='goals'></a>\n",
    "<font size=\"+1\" color='#780404'><b> Objectives</b></font>  \n",
    "[back to top](#table-of-contents)  \n",
    "\n",
    "1. Develop a statistical (or other) model that predicts/flags fraudulent financial statements\n",
    "2. Have a detailed analysis of predicted fraud across different buckets (e.g. industry, year, financial type) and it’s correlation with default\n",
    "3. Develop a fraud indicator or probability that can be used as an extra variable in the credit risk model to improve the accuracy of credit risk assessments. Having a fraud indicator (or probability) will allow us to:\n",
    " - Use it as an extra variable in our credit risk model\n",
    " - Give us insight into the appropriateness of the data to be used for modelling purposes\n",
    "4. Provide insights into the appropriateness of the financial data for credit risk modeling purposes.\n",
    "5. Provide credit underwriters with accurate and reliable information to make informed decisions about the creditworthiness of companies\n",
    "6. Help insurance companies to identify potential fraud and reduce their exposure to financial losses.\n",
    "7. Increase the efficiency of the credit risk modeling process by improving the accuracy of the financial data used in the process.\n",
    "8. Provide possible solution and recommendations for improving financial reporting standards and regulations to prevent financial statement fraud."
   ]
  },
  {
   "cell_type": "markdown",
   "id": "63c48e75",
   "metadata": {},
   "source": [
    "<a id='importing-dependencies'></a>\n",
    "<font size=\"+2\" color='#053c96'><b> Importing Libraries</b></font>  \n",
    "[back to top](#table-of-contents)"
   ]
  },
  {
   "cell_type": "code",
   "execution_count": 3,
   "id": "86426d4c",
   "metadata": {},
   "outputs": [],
   "source": [
    "import os\n",
    "import sys\n",
    "import librosa\n",
    "import librosa.display\n",
    "import seaborn as sns\n",
    "import matplotlib.pyplot as plt\n",
    "import matplotlib.ticker as ticker\n",
    "import plotly.graph_objs as go\n",
    "from scipy.stats import skew, kurtosis\n",
    "from IPython.display import Audio\n",
    "import numpy as np\n",
    "import scipy\n",
    "import pickle\n",
    "import tarfile\n",
    "import tensorflow as tf\n",
    "from tensorflow import keras\n",
    "import pandas as pd\n",
    "from sklearn.model_selection import train_test_split\n",
    "\n",
    "import warnings\n",
    "warnings.filterwarnings('ignore')\n",
    "pd.set_option('display.max_rows', 200)\n",
    "pd.set_option('display.max_columns', 200)"
   ]
  },
  {
   "cell_type": "markdown",
   "id": "8e2a29aa",
   "metadata": {},
   "source": [
    "<a id='data'></a>\n",
    "<font size=\"+2\" color='#053c96'><b> Data</b></font>  \n",
    "[back to top](#table-of-contents)"
   ]
  },
  {
   "cell_type": "code",
   "execution_count": null,
   "id": "4def2d98",
   "metadata": {},
   "outputs": [],
   "source": [
    "genres = ['blues', 'classical', 'country', 'disco', 'hiphop', 'jazz', 'metal', 'pop', 'reggae', 'rock']\n",
    "data = []\n",
    "\n",
    "for genre in genres:\n",
    "    genre_dir = f'genres/{genre}'\n",
    "    for filename in os.listdir(genre_dir):\n",
    "        if filename.endswith('.wav'):\n",
    "            audio_path = os.path.join(genre_dir, filename)\n",
    "            y, sr = librosa.load(audio_path)\n",
    "\n",
    "            # Extract features\n",
    "            central_moments = np.asarray([np.mean((y - np.mean(y)) ** i) for i in range(1, 5)])\n",
    "            zero_crossing_rate = librosa.feature.zero_crossing_rate(y)\n",
    "            rmse = librosa.feature.rms(y=y)\n",
    "            tempo, beats = librosa.beat.beat_track(y=y, sr=sr)\n",
    "            spectral_contrast = librosa.feature.spectral_contrast(y=y, sr=sr)\n",
    "            spectral_rolloff = librosa.feature.spectral_rolloff(y=y, sr=sr)\n",
    "            mfccs = librosa.feature.mfcc(y=y, sr=sr, n_mfcc=13)\n",
    "            chroma = librosa.feature.chroma_stft(y=y, sr=sr)\n",
    "            spectral_centroid = librosa.feature.spectral_centroid(y=y, sr=sr)\n",
    "            spectral_bandwidth = librosa.feature.spectral_bandwidth(y=y, sr=sr)\n",
    "\n",
    "            # Add features to dataframe\n",
    "            features = [genre, filename, beats, sr, central_moments, zero_crossing_rate[0], rmse[0], tempo, spectral_contrast, spectral_rolloff, mfccs, chroma, spectral_centroid, spectral_bandwidth]\n",
    "            data.append(features)\n",
    "\n",
    "df = pd.DataFrame(data, columns=['Genre', 'Filename', 'Beats', 'SR', 'Central Moments', 'Zero Crossing Rate', 'RMSE', 'Tempo', 'Spectral Contrast', 'Spectral Roll-off', 'MFCC', 'Chroma', 'Spectral Centroid', 'Spectral Bandwidth'])\n"
   ]
  },
  {
   "cell_type": "code",
   "execution_count": null,
   "id": "c6d43d5c",
   "metadata": {},
   "outputs": [],
   "source": [
    "df.head()"
   ]
  },
  {
   "cell_type": "code",
   "execution_count": null,
   "id": "7a2d7a3d",
   "metadata": {},
   "outputs": [],
   "source": [
    "df['Beats Mean'] = df['Beats'].apply(lambda x: np.mean(x))\n",
    "df['Central Moments Mean'] = df['Central Moments'].apply(lambda x: np.mean(x))\n",
    "df['Zero Crossing Rate Mean'] = df['Zero Crossing Rate'].apply(lambda x: np.mean(x))\n",
    "df['RMSE Mean'] = df['RMSE'].apply(lambda x: np.mean(x))\n",
    "df['Spectral Contrast Mean'] = df['Spectral Contrast'].apply(lambda x: np.mean(x))\n",
    "df['Spectral Roll-off Mean'] = df['Spectral Roll-off'].apply(lambda x: np.mean(x))\n",
    "df['MFCC Mean'] = df['MFCC'].apply(lambda x: np.mean(x))\n",
    "df['Chroma Mean'] = df['Chroma'].apply(lambda x: np.mean(x))\n",
    "df['Spectral Centroid Mean'] = df['Spectral Centroid'].apply(lambda x: np.mean(x))\n",
    "df['Spectral Bandwidth Mean'] = df['Spectral Bandwidth'].apply(lambda x: np.mean(x))"
   ]
  },
  {
   "cell_type": "code",
   "execution_count": null,
   "id": "45bad210",
   "metadata": {},
   "outputs": [],
   "source": [
    "df['Beats Var'] = df['Beats'].apply(lambda x: np.var(x))\n",
    "df['Central Moments Var'] = df['Central Moments'].apply(lambda x: np.var(x))\n",
    "df['Zero Crossing Rate Var'] = df['Zero Crossing Rate'].apply(lambda x: np.var(x))\n",
    "df['RMSE Var'] = df['RMSE'].apply(lambda x: np.var(x))\n",
    "df['Spectral Contrast Var'] = df['Spectral Contrast'].apply(lambda x: np.var(x))\n",
    "df['Spectral Roll-off Var'] = df['Spectral Roll-off'].apply(lambda x: np.var(x))\n",
    "df['MFCC Var'] = df['MFCC'].apply(lambda x: np.var(x))\n",
    "df['Chroma Var'] = df['Chroma'].apply(lambda x: np.var(x))\n",
    "df['Spectral Centroid Var'] = df['Spectral Centroid'].apply(lambda x: np.var(x))\n",
    "df['Spectral Bandwidth Var'] = df['Spectral Bandwidth'].apply(lambda x: np.var(x))"
   ]
  },
  {
   "cell_type": "code",
   "execution_count": null,
   "id": "719bd3d6",
   "metadata": {},
   "outputs": [],
   "source": [
    "df['Beats Std'] = df['Beats'].apply(lambda x: np.std(x))\n",
    "df['Central Moments Std'] = df['Central Moments'].apply(lambda x: np.std(x))\n",
    "df['Zero Crossing Rate Std'] = df['Zero Crossing Rate'].apply(lambda x: np.std(x))\n",
    "df['RMSE Std'] = df['RMSE'].apply(lambda x: np.std(x))\n",
    "df['Spectral Contrast Std'] = df['Spectral Contrast'].apply(lambda x: np.std(x))\n",
    "df['Spectral Roll-off Std'] = df['Spectral Roll-off'].apply(lambda x: np.std(x))\n",
    "df['MFCC Std'] = df['MFCC'].apply(lambda x: np.std(x))\n",
    "df['Chroma Std'] = df['Chroma'].apply(lambda x: np.std(x))\n",
    "df['Spectral Centroid Std'] = df['Spectral Centroid'].apply(lambda x: np.std(x))\n",
    "df['Spectral Bandwidth Std'] = df['Spectral Bandwidth'].apply(lambda x: np.std(x))"
   ]
  },
  {
   "cell_type": "code",
   "execution_count": 1,
   "id": "02bae412",
   "metadata": {},
   "outputs": [
    {
     "ename": "NameError",
     "evalue": "name 'df' is not defined",
     "output_type": "error",
     "traceback": [
      "\u001b[0;31m---------------------------------------------------------------------------\u001b[0m",
      "\u001b[0;31mNameError\u001b[0m                                 Traceback (most recent call last)",
      "Cell \u001b[0;32mIn[1], line 1\u001b[0m\n\u001b[0;32m----> 1\u001b[0m \u001b[43mdf\u001b[49m\u001b[38;5;241m.\u001b[39mhead()\n",
      "\u001b[0;31mNameError\u001b[0m: name 'df' is not defined"
     ]
    }
   ],
   "source": [
    "df.head()"
   ]
  },
  {
   "cell_type": "code",
   "execution_count": null,
   "id": "cf987361",
   "metadata": {},
   "outputs": [],
   "source": [
    "df.to_csv('classical_punk.csv')"
   ]
  },
  {
   "cell_type": "code",
   "execution_count": 4,
   "id": "e1191e34",
   "metadata": {},
   "outputs": [],
   "source": [
    "df = pd.read_csv('classical_punk.csv')"
   ]
  },
  {
   "cell_type": "markdown",
   "id": "47144d6c",
   "metadata": {},
   "source": [
    "<a id='exploratory-data-analysis'></a>\n",
    "<font size=\"+2\" color='#053c96'><b> Exploratory Data Anaysis</b></font>  \n",
    "[back to top](#table-of-contents)"
   ]
  },
  {
   "cell_type": "code",
   "execution_count": 5,
   "id": "2eb205ee",
   "metadata": {},
   "outputs": [
    {
     "data": {
      "text/html": [
       "<div>\n",
       "<style scoped>\n",
       "    .dataframe tbody tr th:only-of-type {\n",
       "        vertical-align: middle;\n",
       "    }\n",
       "\n",
       "    .dataframe tbody tr th {\n",
       "        vertical-align: top;\n",
       "    }\n",
       "\n",
       "    .dataframe thead th {\n",
       "        text-align: right;\n",
       "    }\n",
       "</style>\n",
       "<table border=\"1\" class=\"dataframe\">\n",
       "  <thead>\n",
       "    <tr style=\"text-align: right;\">\n",
       "      <th></th>\n",
       "      <th>Unnamed: 0</th>\n",
       "      <th>Genre</th>\n",
       "      <th>Filename</th>\n",
       "      <th>Beats</th>\n",
       "      <th>SR</th>\n",
       "      <th>Central Moments</th>\n",
       "      <th>Zero Crossing Rate</th>\n",
       "      <th>RMSE</th>\n",
       "      <th>Tempo</th>\n",
       "      <th>Spectral Contrast</th>\n",
       "      <th>Spectral Roll-off</th>\n",
       "      <th>MFCC</th>\n",
       "      <th>Chroma</th>\n",
       "      <th>Spectral Centroid</th>\n",
       "      <th>Spectral Bandwidth</th>\n",
       "      <th>Beats Mean</th>\n",
       "      <th>Central Moments Mean</th>\n",
       "      <th>Zero Crossing Rate Mean</th>\n",
       "      <th>RMSE Mean</th>\n",
       "      <th>Spectral Contrast Mean</th>\n",
       "      <th>Spectral Roll-off Mean</th>\n",
       "      <th>MFCC Mean</th>\n",
       "      <th>Chroma Mean</th>\n",
       "      <th>Spectral Centroid Mean</th>\n",
       "      <th>Spectral Bandwidth Mean</th>\n",
       "      <th>Beats Var</th>\n",
       "      <th>Central Moments Var</th>\n",
       "      <th>Zero Crossing Rate Var</th>\n",
       "      <th>RMSE Var</th>\n",
       "      <th>Spectral Contrast Var</th>\n",
       "      <th>Spectral Roll-off Var</th>\n",
       "      <th>MFCC Var</th>\n",
       "      <th>Chroma Var</th>\n",
       "      <th>Spectral Centroid Var</th>\n",
       "      <th>Spectral Bandwidth Var</th>\n",
       "      <th>Beats Std</th>\n",
       "      <th>Central Moments Std</th>\n",
       "      <th>Zero Crossing Rate Std</th>\n",
       "      <th>RMSE Std</th>\n",
       "      <th>Spectral Contrast Std</th>\n",
       "      <th>Spectral Roll-off Std</th>\n",
       "      <th>MFCC Std</th>\n",
       "      <th>Chroma Std</th>\n",
       "      <th>Spectral Centroid Std</th>\n",
       "      <th>Spectral Bandwidth Std</th>\n",
       "    </tr>\n",
       "  </thead>\n",
       "  <tbody>\n",
       "    <tr>\n",
       "      <th>0</th>\n",
       "      <td>0</td>\n",
       "      <td>blues</td>\n",
       "      <td>blues.00093.wav</td>\n",
       "      <td>[  16   66  116  161  206  250  298  347  395 ...</td>\n",
       "      <td>22050</td>\n",
       "      <td>[-2.9325247e-09  6.1441921e-03 -5.6447851e-05 ...</td>\n",
       "      <td>[0.00341797 0.00732422 0.01025391 ... 0.024414...</td>\n",
       "      <td>[0.02833905 0.03485174 0.03935784 ... 0.027093...</td>\n",
       "      <td>58.726918</td>\n",
       "      <td>[[ 8.22429642 14.15588624 22.11961896 ... 37.9...</td>\n",
       "      <td>[[2756.25       1227.39257812  333.76464844 .....</td>\n",
       "      <td>[[-3.1871725e+02 -3.5795795e+02 -4.0606140e+02...</td>\n",
       "      <td>[[0.5608211  0.2739241  0.26868102 ... 0.10808...</td>\n",
       "      <td>[[1210.34232667  737.86866616  395.68889509 .....</td>\n",
       "      <td>[[2037.05487171 1575.0307463   977.8708091  .....</td>\n",
       "      <td>604.000000</td>\n",
       "      <td>0.001594</td>\n",
       "      <td>0.021697</td>\n",
       "      <td>0.065860</td>\n",
       "      <td>21.403202</td>\n",
       "      <td>929.300104</td>\n",
       "      <td>-4.548970</td>\n",
       "      <td>0.377695</td>\n",
       "      <td>570.349904</td>\n",
       "      <td>995.505854</td>\n",
       "      <td>124035.769231</td>\n",
       "      <td>0.000007</td>\n",
       "      <td>0.000117</td>\n",
       "      <td>0.001804</td>\n",
       "      <td>29.045168</td>\n",
       "      <td>4.999722e+05</td>\n",
       "      <td>12176.3440</td>\n",
       "      <td>0.096389</td>\n",
       "      <td>104947.121639</td>\n",
       "      <td>84704.577580</td>\n",
       "      <td>352.187122</td>\n",
       "      <td>0.002630</td>\n",
       "      <td>0.010838</td>\n",
       "      <td>0.042473</td>\n",
       "      <td>5.389357</td>\n",
       "      <td>707.087129</td>\n",
       "      <td>110.346470</td>\n",
       "      <td>0.310465</td>\n",
       "      <td>323.955432</td>\n",
       "      <td>291.040508</td>\n",
       "    </tr>\n",
       "    <tr>\n",
       "      <th>1</th>\n",
       "      <td>1</td>\n",
       "      <td>blues</td>\n",
       "      <td>blues.00087.wav</td>\n",
       "      <td>[  30   45   60   74   89  104  118  133  148 ...</td>\n",
       "      <td>22050</td>\n",
       "      <td>[4.7446376e-09 2.7690521e-02 3.5093213e-04 3.1...</td>\n",
       "      <td>[0.03320312 0.05224609 0.07421875 ... 0.024902...</td>\n",
       "      <td>[0.1732695  0.21864875 0.25347224 ... 0.109719...</td>\n",
       "      <td>172.265625</td>\n",
       "      <td>[[14.83071459 32.80825402 34.44571594 ... 21.8...</td>\n",
       "      <td>[[3628.34472656 3596.04492188 3391.47949219 .....</td>\n",
       "      <td>[[-7.0359711e+01 -7.6047897e+01 -1.0504224e+02...</td>\n",
       "      <td>[[0.36272326 0.34527805 0.42661187 ... 0.92584...</td>\n",
       "      <td>[[1806.71672337 1832.56502159 1715.97134119 .....</td>\n",
       "      <td>[[2075.07396093 1991.85544429 1852.46504775 .....</td>\n",
       "      <td>603.215190</td>\n",
       "      <td>0.007801</td>\n",
       "      <td>0.050869</td>\n",
       "      <td>0.157941</td>\n",
       "      <td>22.663120</td>\n",
       "      <td>3082.603763</td>\n",
       "      <td>1.747352</td>\n",
       "      <td>0.336902</td>\n",
       "      <td>1441.680807</td>\n",
       "      <td>1870.021373</td>\n",
       "      <td>112486.928377</td>\n",
       "      <td>0.000133</td>\n",
       "      <td>0.001155</td>\n",
       "      <td>0.002722</td>\n",
       "      <td>61.844748</td>\n",
       "      <td>2.195439e+06</td>\n",
       "      <td>3799.4382</td>\n",
       "      <td>0.094721</td>\n",
       "      <td>387155.803107</td>\n",
       "      <td>146843.002778</td>\n",
       "      <td>335.390710</td>\n",
       "      <td>0.011548</td>\n",
       "      <td>0.033986</td>\n",
       "      <td>0.052177</td>\n",
       "      <td>7.864143</td>\n",
       "      <td>1481.701296</td>\n",
       "      <td>61.639584</td>\n",
       "      <td>0.307767</td>\n",
       "      <td>622.218453</td>\n",
       "      <td>383.200995</td>\n",
       "    </tr>\n",
       "    <tr>\n",
       "      <th>2</th>\n",
       "      <td>2</td>\n",
       "      <td>blues</td>\n",
       "      <td>blues.00050.wav</td>\n",
       "      <td>[  12   31   50   69   88  107  126  145  164 ...</td>\n",
       "      <td>22050</td>\n",
       "      <td>[ 2.6774598e-09  3.7224334e-02 -1.3197740e-03 ...</td>\n",
       "      <td>[0.06591797 0.09716797 0.13037109 ... 0.066894...</td>\n",
       "      <td>[0.06419174 0.07681078 0.08746899 ... 0.177763...</td>\n",
       "      <td>135.999178</td>\n",
       "      <td>[[10.99559361 17.8715263  17.74025947 ... 16.4...</td>\n",
       "      <td>[[3908.27636719 4102.07519531 4242.04101562 .....</td>\n",
       "      <td>[[-144.09424    -133.43872    -146.5851     .....</td>\n",
       "      <td>[[0.15900776 0.09031525 0.06776749 ... 0.55469...</td>\n",
       "      <td>[[2120.53124792 2243.43065575 2335.44978231 .....</td>\n",
       "      <td>[[1981.00376406 2007.1879474  2006.01745657 .....</td>\n",
       "      <td>597.412698</td>\n",
       "      <td>0.010525</td>\n",
       "      <td>0.085791</td>\n",
       "      <td>0.182285</td>\n",
       "      <td>21.129626</td>\n",
       "      <td>4174.460398</td>\n",
       "      <td>7.405733</td>\n",
       "      <td>0.401009</td>\n",
       "      <td>1945.252523</td>\n",
       "      <td>2081.763030</td>\n",
       "      <td>117180.686823</td>\n",
       "      <td>0.000246</td>\n",
       "      <td>0.001219</td>\n",
       "      <td>0.003976</td>\n",
       "      <td>83.527988</td>\n",
       "      <td>8.083841e+05</td>\n",
       "      <td>2153.9006</td>\n",
       "      <td>0.089657</td>\n",
       "      <td>147430.672719</td>\n",
       "      <td>73538.994378</td>\n",
       "      <td>342.316647</td>\n",
       "      <td>0.015674</td>\n",
       "      <td>0.034920</td>\n",
       "      <td>0.063054</td>\n",
       "      <td>9.139365</td>\n",
       "      <td>899.101855</td>\n",
       "      <td>46.410133</td>\n",
       "      <td>0.299428</td>\n",
       "      <td>383.967020</td>\n",
       "      <td>271.180741</td>\n",
       "    </tr>\n",
       "    <tr>\n",
       "      <th>3</th>\n",
       "      <td>3</td>\n",
       "      <td>blues</td>\n",
       "      <td>blues.00044.wav</td>\n",
       "      <td>[  13   33   52   71   89  109  127  146  164 ...</td>\n",
       "      <td>22050</td>\n",
       "      <td>[6.8291079e-09 1.9007759e-02 1.5543754e-05 1.1...</td>\n",
       "      <td>[0.06884766 0.09277344 0.13574219 ... 0.066894...</td>\n",
       "      <td>[0.12154406 0.14153785 0.1580186  ... 0.163750...</td>\n",
       "      <td>135.999178</td>\n",
       "      <td>[[ 8.7134595  12.77827152 17.12739404 ... 16.9...</td>\n",
       "      <td>[[5878.56445312 6416.89453125 6804.4921875  .....</td>\n",
       "      <td>[[-109.827324   -93.47169   -103.923355  ... -...</td>\n",
       "      <td>[[0.28844947 0.11785139 0.06642816 ... 0.54242...</td>\n",
       "      <td>[[2342.55113576 2701.20274619 3162.69526471 .....</td>\n",
       "      <td>[[2658.09856758 2800.11575974 2861.73346312 .....</td>\n",
       "      <td>638.373134</td>\n",
       "      <td>0.005054</td>\n",
       "      <td>0.092525</td>\n",
       "      <td>0.136209</td>\n",
       "      <td>21.729472</td>\n",
       "      <td>5198.686455</td>\n",
       "      <td>5.340542</td>\n",
       "      <td>0.390118</td>\n",
       "      <td>2279.031119</td>\n",
       "      <td>2375.232090</td>\n",
       "      <td>134925.099577</td>\n",
       "      <td>0.000065</td>\n",
       "      <td>0.000902</td>\n",
       "      <td>0.000467</td>\n",
       "      <td>88.639974</td>\n",
       "      <td>5.698240e+05</td>\n",
       "      <td>2242.4602</td>\n",
       "      <td>0.086307</td>\n",
       "      <td>170912.654795</td>\n",
       "      <td>52988.857635</td>\n",
       "      <td>367.321521</td>\n",
       "      <td>0.008071</td>\n",
       "      <td>0.030041</td>\n",
       "      <td>0.021618</td>\n",
       "      <td>9.414880</td>\n",
       "      <td>754.866877</td>\n",
       "      <td>47.354620</td>\n",
       "      <td>0.293780</td>\n",
       "      <td>413.415838</td>\n",
       "      <td>230.193088</td>\n",
       "    </tr>\n",
       "    <tr>\n",
       "      <th>4</th>\n",
       "      <td>4</td>\n",
       "      <td>blues</td>\n",
       "      <td>blues.00078.wav</td>\n",
       "      <td>[  15   37   59   81  102  124  146  167  189 ...</td>\n",
       "      <td>22050</td>\n",
       "      <td>[ 2.0866318e-09  6.9366850e-02 -2.6873951e-03 ...</td>\n",
       "      <td>[0.07373047 0.09033203 0.109375   ... 0.097656...</td>\n",
       "      <td>[0.1466363  0.25479728 0.3182426  ... 0.293897...</td>\n",
       "      <td>123.046875</td>\n",
       "      <td>[[10.29093286 12.75817456 12.60773402 ... 18.3...</td>\n",
       "      <td>[[4715.77148438 4037.47558594 3499.14550781 .....</td>\n",
       "      <td>[[-53.54439    -12.221306    19.373835   ...  ...</td>\n",
       "      <td>[[0.2582713  0.4232984  0.62160033 ... 0.12042...</td>\n",
       "      <td>[[2267.65521067 2168.234727   1908.12894583 .....</td>\n",
       "      <td>[[2204.3183378  2057.33938691 1962.88245481 .....</td>\n",
       "      <td>649.133333</td>\n",
       "      <td>0.021115</td>\n",
       "      <td>0.123820</td>\n",
       "      <td>0.257993</td>\n",
       "      <td>20.964763</td>\n",
       "      <td>4942.777743</td>\n",
       "      <td>8.593781</td>\n",
       "      <td>0.414227</td>\n",
       "      <td>2333.552482</td>\n",
       "      <td>2227.361074</td>\n",
       "      <td>136273.815556</td>\n",
       "      <td>0.000838</td>\n",
       "      <td>0.000559</td>\n",
       "      <td>0.002730</td>\n",
       "      <td>109.423646</td>\n",
       "      <td>4.814505e+05</td>\n",
       "      <td>1316.1877</td>\n",
       "      <td>0.082961</td>\n",
       "      <td>89801.808329</td>\n",
       "      <td>30628.551895</td>\n",
       "      <td>369.152835</td>\n",
       "      <td>0.028947</td>\n",
       "      <td>0.023640</td>\n",
       "      <td>0.052251</td>\n",
       "      <td>10.460576</td>\n",
       "      <td>693.866331</td>\n",
       "      <td>36.279300</td>\n",
       "      <td>0.288029</td>\n",
       "      <td>299.669498</td>\n",
       "      <td>175.010148</td>\n",
       "    </tr>\n",
       "  </tbody>\n",
       "</table>\n",
       "</div>"
      ],
      "text/plain": [
       "   Unnamed: 0  Genre         Filename  \\\n",
       "0           0  blues  blues.00093.wav   \n",
       "1           1  blues  blues.00087.wav   \n",
       "2           2  blues  blues.00050.wav   \n",
       "3           3  blues  blues.00044.wav   \n",
       "4           4  blues  blues.00078.wav   \n",
       "\n",
       "                                               Beats     SR  \\\n",
       "0  [  16   66  116  161  206  250  298  347  395 ...  22050   \n",
       "1  [  30   45   60   74   89  104  118  133  148 ...  22050   \n",
       "2  [  12   31   50   69   88  107  126  145  164 ...  22050   \n",
       "3  [  13   33   52   71   89  109  127  146  164 ...  22050   \n",
       "4  [  15   37   59   81  102  124  146  167  189 ...  22050   \n",
       "\n",
       "                                     Central Moments  \\\n",
       "0  [-2.9325247e-09  6.1441921e-03 -5.6447851e-05 ...   \n",
       "1  [4.7446376e-09 2.7690521e-02 3.5093213e-04 3.1...   \n",
       "2  [ 2.6774598e-09  3.7224334e-02 -1.3197740e-03 ...   \n",
       "3  [6.8291079e-09 1.9007759e-02 1.5543754e-05 1.1...   \n",
       "4  [ 2.0866318e-09  6.9366850e-02 -2.6873951e-03 ...   \n",
       "\n",
       "                                  Zero Crossing Rate  \\\n",
       "0  [0.00341797 0.00732422 0.01025391 ... 0.024414...   \n",
       "1  [0.03320312 0.05224609 0.07421875 ... 0.024902...   \n",
       "2  [0.06591797 0.09716797 0.13037109 ... 0.066894...   \n",
       "3  [0.06884766 0.09277344 0.13574219 ... 0.066894...   \n",
       "4  [0.07373047 0.09033203 0.109375   ... 0.097656...   \n",
       "\n",
       "                                                RMSE       Tempo  \\\n",
       "0  [0.02833905 0.03485174 0.03935784 ... 0.027093...   58.726918   \n",
       "1  [0.1732695  0.21864875 0.25347224 ... 0.109719...  172.265625   \n",
       "2  [0.06419174 0.07681078 0.08746899 ... 0.177763...  135.999178   \n",
       "3  [0.12154406 0.14153785 0.1580186  ... 0.163750...  135.999178   \n",
       "4  [0.1466363  0.25479728 0.3182426  ... 0.293897...  123.046875   \n",
       "\n",
       "                                   Spectral Contrast  \\\n",
       "0  [[ 8.22429642 14.15588624 22.11961896 ... 37.9...   \n",
       "1  [[14.83071459 32.80825402 34.44571594 ... 21.8...   \n",
       "2  [[10.99559361 17.8715263  17.74025947 ... 16.4...   \n",
       "3  [[ 8.7134595  12.77827152 17.12739404 ... 16.9...   \n",
       "4  [[10.29093286 12.75817456 12.60773402 ... 18.3...   \n",
       "\n",
       "                                   Spectral Roll-off  \\\n",
       "0  [[2756.25       1227.39257812  333.76464844 .....   \n",
       "1  [[3628.34472656 3596.04492188 3391.47949219 .....   \n",
       "2  [[3908.27636719 4102.07519531 4242.04101562 .....   \n",
       "3  [[5878.56445312 6416.89453125 6804.4921875  .....   \n",
       "4  [[4715.77148438 4037.47558594 3499.14550781 .....   \n",
       "\n",
       "                                                MFCC  \\\n",
       "0  [[-3.1871725e+02 -3.5795795e+02 -4.0606140e+02...   \n",
       "1  [[-7.0359711e+01 -7.6047897e+01 -1.0504224e+02...   \n",
       "2  [[-144.09424    -133.43872    -146.5851     .....   \n",
       "3  [[-109.827324   -93.47169   -103.923355  ... -...   \n",
       "4  [[-53.54439    -12.221306    19.373835   ...  ...   \n",
       "\n",
       "                                              Chroma  \\\n",
       "0  [[0.5608211  0.2739241  0.26868102 ... 0.10808...   \n",
       "1  [[0.36272326 0.34527805 0.42661187 ... 0.92584...   \n",
       "2  [[0.15900776 0.09031525 0.06776749 ... 0.55469...   \n",
       "3  [[0.28844947 0.11785139 0.06642816 ... 0.54242...   \n",
       "4  [[0.2582713  0.4232984  0.62160033 ... 0.12042...   \n",
       "\n",
       "                                   Spectral Centroid  \\\n",
       "0  [[1210.34232667  737.86866616  395.68889509 .....   \n",
       "1  [[1806.71672337 1832.56502159 1715.97134119 .....   \n",
       "2  [[2120.53124792 2243.43065575 2335.44978231 .....   \n",
       "3  [[2342.55113576 2701.20274619 3162.69526471 .....   \n",
       "4  [[2267.65521067 2168.234727   1908.12894583 .....   \n",
       "\n",
       "                                  Spectral Bandwidth  Beats Mean  \\\n",
       "0  [[2037.05487171 1575.0307463   977.8708091  .....  604.000000   \n",
       "1  [[2075.07396093 1991.85544429 1852.46504775 .....  603.215190   \n",
       "2  [[1981.00376406 2007.1879474  2006.01745657 .....  597.412698   \n",
       "3  [[2658.09856758 2800.11575974 2861.73346312 .....  638.373134   \n",
       "4  [[2204.3183378  2057.33938691 1962.88245481 .....  649.133333   \n",
       "\n",
       "   Central Moments Mean  Zero Crossing Rate Mean  RMSE Mean  \\\n",
       "0              0.001594                 0.021697   0.065860   \n",
       "1              0.007801                 0.050869   0.157941   \n",
       "2              0.010525                 0.085791   0.182285   \n",
       "3              0.005054                 0.092525   0.136209   \n",
       "4              0.021115                 0.123820   0.257993   \n",
       "\n",
       "   Spectral Contrast Mean  Spectral Roll-off Mean  MFCC Mean  Chroma Mean  \\\n",
       "0               21.403202              929.300104  -4.548970     0.377695   \n",
       "1               22.663120             3082.603763   1.747352     0.336902   \n",
       "2               21.129626             4174.460398   7.405733     0.401009   \n",
       "3               21.729472             5198.686455   5.340542     0.390118   \n",
       "4               20.964763             4942.777743   8.593781     0.414227   \n",
       "\n",
       "   Spectral Centroid Mean  Spectral Bandwidth Mean      Beats Var  \\\n",
       "0              570.349904               995.505854  124035.769231   \n",
       "1             1441.680807              1870.021373  112486.928377   \n",
       "2             1945.252523              2081.763030  117180.686823   \n",
       "3             2279.031119              2375.232090  134925.099577   \n",
       "4             2333.552482              2227.361074  136273.815556   \n",
       "\n",
       "   Central Moments Var  Zero Crossing Rate Var  RMSE Var  \\\n",
       "0             0.000007                0.000117  0.001804   \n",
       "1             0.000133                0.001155  0.002722   \n",
       "2             0.000246                0.001219  0.003976   \n",
       "3             0.000065                0.000902  0.000467   \n",
       "4             0.000838                0.000559  0.002730   \n",
       "\n",
       "   Spectral Contrast Var  Spectral Roll-off Var    MFCC Var  Chroma Var  \\\n",
       "0              29.045168           4.999722e+05  12176.3440    0.096389   \n",
       "1              61.844748           2.195439e+06   3799.4382    0.094721   \n",
       "2              83.527988           8.083841e+05   2153.9006    0.089657   \n",
       "3              88.639974           5.698240e+05   2242.4602    0.086307   \n",
       "4             109.423646           4.814505e+05   1316.1877    0.082961   \n",
       "\n",
       "   Spectral Centroid Var  Spectral Bandwidth Var   Beats Std  \\\n",
       "0          104947.121639            84704.577580  352.187122   \n",
       "1          387155.803107           146843.002778  335.390710   \n",
       "2          147430.672719            73538.994378  342.316647   \n",
       "3          170912.654795            52988.857635  367.321521   \n",
       "4           89801.808329            30628.551895  369.152835   \n",
       "\n",
       "   Central Moments Std  Zero Crossing Rate Std  RMSE Std  \\\n",
       "0             0.002630                0.010838  0.042473   \n",
       "1             0.011548                0.033986  0.052177   \n",
       "2             0.015674                0.034920  0.063054   \n",
       "3             0.008071                0.030041  0.021618   \n",
       "4             0.028947                0.023640  0.052251   \n",
       "\n",
       "   Spectral Contrast Std  Spectral Roll-off Std    MFCC Std  Chroma Std  \\\n",
       "0               5.389357             707.087129  110.346470    0.310465   \n",
       "1               7.864143            1481.701296   61.639584    0.307767   \n",
       "2               9.139365             899.101855   46.410133    0.299428   \n",
       "3               9.414880             754.866877   47.354620    0.293780   \n",
       "4              10.460576             693.866331   36.279300    0.288029   \n",
       "\n",
       "   Spectral Centroid Std  Spectral Bandwidth Std  \n",
       "0             323.955432              291.040508  \n",
       "1             622.218453              383.200995  \n",
       "2             383.967020              271.180741  \n",
       "3             413.415838              230.193088  \n",
       "4             299.669498              175.010148  "
      ]
     },
     "execution_count": 5,
     "metadata": {},
     "output_type": "execute_result"
    }
   ],
   "source": [
    "df.head()"
   ]
  },
  {
   "cell_type": "code",
   "execution_count": null,
   "id": "2ba8cd3e",
   "metadata": {},
   "outputs": [],
   "source": [
    "df = df.drop(['Unnamed: 0', 'Beats', 'SR', 'Central Moments', 'Zero Crossing Rate',\n",
    "               'RMSE', 'Spectral Contrast', 'Spectral Roll-off',\n",
    "               'MFCC', 'Chroma', 'Spectral Centroid', 'Spectral Bandwidth'], axis=1)"
   ]
  },
  {
   "cell_type": "code",
   "execution_count": null,
   "id": "5c2c1a11",
   "metadata": {},
   "outputs": [],
   "source": [
    "df.shape"
   ]
  },
  {
   "cell_type": "code",
   "execution_count": null,
   "id": "2ede6b93",
   "metadata": {},
   "outputs": [],
   "source": [
    "df.info()"
   ]
  },
  {
   "cell_type": "code",
   "execution_count": null,
   "id": "83d6b439",
   "metadata": {},
   "outputs": [],
   "source": [
    "df['Genre'].unique()"
   ]
  },
  {
   "cell_type": "markdown",
   "id": "40b442d4",
   "metadata": {},
   "source": [
    "<a id='data-exploration'></a>\n",
    "<font size=\"+1\" color='#780404'><b> Data Exploration</b></font>  \n",
    "[back to top](#table-of-contents)"
   ]
  },
  {
   "cell_type": "markdown",
   "id": "235757b7",
   "metadata": {},
   "source": [
    "This function loads and plays an audio file of a specific genre and number using the librosa library. It takes two arguments, genre and num, which specify the genre of the audio and the number of the audio file within that genre, respectively."
   ]
  },
  {
   "cell_type": "code",
   "execution_count": null,
   "id": "3a1906f2",
   "metadata": {},
   "outputs": [],
   "source": [
    "def play_audio(genre, num):\n",
    "    audio = f'/Users/umarkabir/Documents/Qwasar/Classical Punk/genres/{genre}/{genre}.{num}.wav'\n",
    "    data, sr = librosa.load(audio)\n",
    "    return Audio(data, rate=sr)"
   ]
  },
  {
   "cell_type": "code",
   "execution_count": null,
   "id": "b9512afb",
   "metadata": {},
   "outputs": [],
   "source": [
    "play_audio('blues', '00024')"
   ]
  },
  {
   "cell_type": "code",
   "execution_count": null,
   "id": "9451d1d6",
   "metadata": {},
   "outputs": [],
   "source": [
    "play_audio('classical', '00024')"
   ]
  },
  {
   "cell_type": "code",
   "execution_count": null,
   "id": "220b21a4",
   "metadata": {},
   "outputs": [],
   "source": [
    "play_audio('country', '00024')"
   ]
  },
  {
   "cell_type": "code",
   "execution_count": null,
   "id": "de83944d",
   "metadata": {},
   "outputs": [],
   "source": [
    "play_audio('disco', '00024')"
   ]
  },
  {
   "cell_type": "code",
   "execution_count": null,
   "id": "187a5560",
   "metadata": {},
   "outputs": [],
   "source": [
    "play_audio('hiphop', '00024')"
   ]
  },
  {
   "cell_type": "code",
   "execution_count": null,
   "id": "2d3edbb6",
   "metadata": {},
   "outputs": [],
   "source": [
    "play_audio('jazz', '00024')"
   ]
  },
  {
   "cell_type": "code",
   "execution_count": null,
   "id": "1d808ab3",
   "metadata": {},
   "outputs": [],
   "source": [
    "play_audio('metal', '00024')"
   ]
  },
  {
   "cell_type": "code",
   "execution_count": null,
   "id": "d5544889",
   "metadata": {},
   "outputs": [],
   "source": [
    "play_audio('pop', '00024')"
   ]
  },
  {
   "cell_type": "code",
   "execution_count": null,
   "id": "069f143c",
   "metadata": {},
   "outputs": [],
   "source": [
    "play_audio('reggae', '00024')"
   ]
  },
  {
   "cell_type": "code",
   "execution_count": null,
   "id": "8b70b3eb",
   "metadata": {},
   "outputs": [],
   "source": [
    "play_audio('rock', '00024')"
   ]
  },
  {
   "cell_type": "markdown",
   "id": "4f1f4dd5",
   "metadata": {},
   "source": [
    "<a id='data-visualization'></a>\n",
    "<font size=\"+1\" color='#780404'><b> Data Visualization</b></font>  \n",
    "[back to top](#table-of-contents)"
   ]
  },
  {
   "cell_type": "markdown",
   "id": "3e986b4c",
   "metadata": {},
   "source": [
    "This code generates a frequency bar chart of the 'Tempo' column in a pandas DataFrame."
   ]
  },
  {
   "cell_type": "code",
   "execution_count": null,
   "id": "d1bd1ead",
   "metadata": {},
   "outputs": [],
   "source": [
    "if isinstance(df, (pd.DatetimeIndex, pd.MultiIndex)):\n",
    "\tdf = df.to_frame(index=False)\n",
    "\n",
    "df = df.reset_index().drop('index', axis=1, errors='ignore')\n",
    "df.columns = [str(c) for c in df.columns]  # update columns to strings in case they are numbers\n",
    "\n",
    "s = df[~pd.isnull(df['Tempo'])]['Tempo']\n",
    "chart = pd.value_counts(s).to_frame(name='data')\n",
    "chart.index.name = 'labels'\n",
    "chart = chart.reset_index().sort_values(['data', 'labels'], ascending=[False, True])\n",
    "chart = chart[:100]\n",
    "charts = [go.Bar(x=chart['labels'].values, y=chart['data'].values, name='Frequency')]\n",
    "figure = go.Figure(data=charts, layout=go.Layout({\n",
    "    'barmode': 'group',\n",
    "    'legend': {'orientation': 'h'},\n",
    "    'title': {'text': 'Tempo Value Counts'},\n",
    "    'xaxis': {'title': {'text': 'Tempo'}},\n",
    "    'yaxis': {'title': {'text': 'Frequency'}}\n",
    "}))\n",
    "\n",
    "from plotly.offline import iplot, init_notebook_mode\n",
    "#\n",
    "init_notebook_mode(connected=True)\n",
    "for chart in charts:\n",
    "    chart.pop('id', None) # for some reason iplot does not like 'id'\n",
    "iplot(figure)"
   ]
  },
  {
   "cell_type": "markdown",
   "id": "27bbc1de",
   "metadata": {},
   "source": [
    "This code generates a frequency bar chart of the 'Tempo' column in a pandas DataFrame."
   ]
  },
  {
   "cell_type": "code",
   "execution_count": null,
   "id": "6a60235f",
   "metadata": {
    "scrolled": false
   },
   "outputs": [],
   "source": [
    "if isinstance(df, (pd.DatetimeIndex, pd.MultiIndex)):\n",
    "\tdf = df.to_frame(index=False)\n",
    "\n",
    "# remove any pre-existing indices for ease of use in the D-Tale code, but this is not required\n",
    "df = df.reset_index().drop('index', axis=1, errors='ignore')\n",
    "df.columns = [str(c) for c in df.columns]  # update columns to strings in case they are numbers\n",
    "\n",
    "s = df[~pd.isnull(df['Tempo'])][['Tempo']]\n",
    "chart, labels = np.histogram(s['Tempo'], bins=20)\n",
    "import scipy.stats as sts\n",
    "kde = sts.gaussian_kde(s['Tempo'])\n",
    "kde_data = kde.pdf(np.linspace(labels.min(), labels.max()))\n",
    "# main statistics\n",
    "stats = df['Tempo'].describe().to_frame().T\n",
    "charts = [\n",
    "\tgo.Bar(x=labels[1:], y=chart, name='Histogram'),\n",
    "\tgo.Scatter(\n",
    "\t\tx=list(range(len(kde_data))), y=kde_data, name='KDE',\t\tyaxis='y2', xaxis='x2',\t\tline={'shape': 'spline', 'smoothing': 0.3}, mode='lines'\n",
    "\t)\n",
    "]\n",
    "figure = go.Figure(data=charts, layout=go.Layout({\n",
    "    'barmode': 'group',\n",
    "    'legend': {'orientation': 'h'},\n",
    "    'title': {'text': 'Tempo Histogram (bins: 20) w/ KDE'},\n",
    "    'xaxis2': {'anchor': 'y', 'overlaying': 'x', 'side': 'top'},\n",
    "    'yaxis': {'side': 'left', 'title': {'text': 'Frequency'}},\n",
    "    'yaxis2': {'overlaying': 'y', 'side': 'right', 'title': {'text': 'KDE'}}\n",
    "}))\n",
    "\n",
    "# If you're having trouble viewing your chart in your notebook try passing your 'chart' into this snippet:\n",
    "#\n",
    "from plotly.offline import iplot, init_notebook_mode\n",
    "#\n",
    "init_notebook_mode(connected=True)\n",
    "for chart in charts:\n",
    "    chart.pop('id', None) # for some reason iplot does not like 'id'\n",
    "iplot(figure)"
   ]
  },
  {
   "cell_type": "markdown",
   "id": "52f6ba3b",
   "metadata": {},
   "source": [
    "This code generates a frequency bar chart of the 'Tempo' column in a pandas DataFrame."
   ]
  },
  {
   "cell_type": "code",
   "execution_count": null,
   "id": "ca9aa012",
   "metadata": {},
   "outputs": [],
   "source": [
    "if isinstance(df, (pd.DatetimeIndex, pd.MultiIndex)):\n",
    "\tdf = df.to_frame(index=False)\n",
    "\n",
    "# remove any pre-existing indices for ease of use in the D-Tale code, but this is not required\n",
    "df = df.reset_index().drop('index', axis=1, errors='ignore')\n",
    "df.columns = [str(c) for c in df.columns]  # update columns to strings in case they are numbers\n",
    "\n",
    "s = df[~pd.isnull(df['Central Moments Mean'])][['Central Moments Mean']]\n",
    "chart, labels = np.histogram(s['Central Moments Mean'], bins=20)\n",
    "import scipy.stats as sts\n",
    "kde = sts.gaussian_kde(s['Central Moments Mean'])\n",
    "kde_data = kde.pdf(np.linspace(labels.min(), labels.max()))\n",
    "# main statistics\n",
    "stats = df['Central Moments Mean'].describe().to_frame().T\n",
    "charts = [\n",
    "\tgo.Bar(x=labels[1:], y=chart, name='Histogram'),\n",
    "\tgo.Scatter(\n",
    "\t\tx=list(range(len(kde_data))), y=kde_data, name='KDE',\t\tyaxis='y2', xaxis='x2',\t\tline={'shape': 'spline', 'smoothing': 0.3}, mode='lines'\n",
    "\t)\n",
    "]\n",
    "figure = go.Figure(data=charts, layout=go.Layout({\n",
    "    'barmode': 'group',\n",
    "    'legend': {'orientation': 'h'},\n",
    "    'title': {'text': 'Central Moments Mean Histogram (bins: 20) w/ KDE'},\n",
    "    'xaxis2': {'anchor': 'y', 'overlaying': 'x', 'side': 'top'},\n",
    "    'yaxis': {'side': 'left', 'title': {'text': 'Frequency'}},\n",
    "    'yaxis2': {'overlaying': 'y', 'side': 'right', 'title': {'text': 'KDE'}}\n",
    "}))\n",
    "\n",
    "# If you're having trouble viewing your chart in your notebook try passing your 'chart' into this snippet:\n",
    "#\n",
    "from plotly.offline import iplot, init_notebook_mode\n",
    "#\n",
    "init_notebook_mode(connected=True)\n",
    "for chart in charts:\n",
    "    chart.pop('id', None) # for some reason iplot does not like 'id'\n",
    "iplot(figure)"
   ]
  },
  {
   "cell_type": "markdown",
   "id": "a2f533fd",
   "metadata": {},
   "source": [
    "This code generates a frequency bar chart of the 'Tempo' column in a pandas DataFrame."
   ]
  },
  {
   "cell_type": "code",
   "execution_count": null,
   "id": "ae919da6",
   "metadata": {},
   "outputs": [],
   "source": [
    "if isinstance(df, (pd.DatetimeIndex, pd.MultiIndex)):\n",
    "\tdf = df.to_frame(index=False)\n",
    "\n",
    "# remove any pre-existing indices for ease of use in the D-Tale code, but this is not required\n",
    "df = df.reset_index().drop('index', axis=1, errors='ignore')\n",
    "df.columns = [str(c) for c in df.columns]  # update columns to strings in case they are numbers\n",
    "\n",
    "chart = df.groupby(['Filename'], dropna=False)[['Central Moments Mean']].agg(['count', 'mean'])\n",
    "chart.columns = chart.columns.droplevel(0)\n",
    "chart.columns = [\"count\", \"data\"]\n",
    "chart.index.name = 'labels'\n",
    "chart = chart.reset_index()\n",
    "chart = chart[:100]\n",
    "charts = [\n",
    "\tgo.Bar(x=chart['labels'].values, y=chart['data'].values),\n",
    "\tgo.Scatter(\n",
    "\t\tx=chart['labels'].values, y=chart['count'].values, yaxis='y2',\n",
    "\t\tname='Frequency', line={'shape': 'spline', 'smoothing': 0.3}, mode='lines'\n",
    "\t)\n",
    "]\n",
    "figure = go.Figure(data=charts, layout=go.Layout({\n",
    "    'barmode': 'group',\n",
    "    'legend': {'orientation': 'h'},\n",
    "    'title': {'text': 'Central Moments Mean(mean) Categorized by Filename'},\n",
    "    'xaxis': {'title': {'text': 'Filename'}},\n",
    "    'yaxis': {'side': 'left', 'title': {'text': 'Central Moments Mean (mean)'}},\n",
    "    'yaxis2': {'overlaying': 'y', 'side': 'right', 'title': {'text': 'Frequency'}}\n",
    "}))\n",
    "\n",
    "# If you're having trouble viewing your chart in your notebook try passing your 'chart' into this snippet:\n",
    "#\n",
    "from plotly.offline import iplot, init_notebook_mode\n",
    "#\n",
    "init_notebook_mode(connected=True)\n",
    "for chart in charts:\n",
    "    chart.pop('id', None) # for some reason iplot does not like 'id'\n",
    "iplot(figure)"
   ]
  },
  {
   "cell_type": "code",
   "execution_count": null,
   "id": "c67ce8c7",
   "metadata": {},
   "outputs": [],
   "source": [
    "def show_waveform(x, num):\n",
    "    # Load WAV file\n",
    "    wav_file = f'/Users/umarkabir/Documents/Qwasar/Classical Punk/genres/{x}/{x}.{num}.wav'\n",
    "    # Load WAV file\n",
    "    y, sr = librosa.load(wav_file)\n",
    "\n",
    "    # Create x-axis values\n",
    "    time = librosa.frames_to_time(range(len(y)), sr=sr)\n",
    "\n",
    "    # Create figure\n",
    "    fig = go.Figure()\n",
    "\n",
    "    # Add waveform trace\n",
    "    fig.add_trace(go.Scatter(x=time, y=y, mode='lines'))\n",
    "\n",
    "    # Set layout\n",
    "    fig.update_layout(\n",
    "        title=f'Sample waveform for {x}',\n",
    "        xaxis_title='Time (s)',\n",
    "        yaxis_title='Amplitude',\n",
    "    )\n",
    "\n",
    "    # Show figure\n",
    "    fig.show()"
   ]
  },
  {
   "cell_type": "markdown",
   "id": "980a47ab",
   "metadata": {},
   "source": [
    "This function loads a WAV file of a specific genre and number, and generates a sample waveform plot using the librosa and plotly libraries. It takes two arguments, x and num, which specify the genre of the audio and the number of the audio file within that genre, respectively."
   ]
  },
  {
   "cell_type": "code",
   "execution_count": null,
   "id": "b27c4f24",
   "metadata": {},
   "outputs": [],
   "source": [
    "show_waveform('blues', '00090')"
   ]
  },
  {
   "cell_type": "code",
   "execution_count": null,
   "id": "c60cddce",
   "metadata": {},
   "outputs": [],
   "source": [
    "show_waveform('classical', '00090')"
   ]
  },
  {
   "cell_type": "code",
   "execution_count": null,
   "id": "e9aa7ef3",
   "metadata": {},
   "outputs": [],
   "source": [
    "show_waveform('country', '00090')"
   ]
  },
  {
   "cell_type": "code",
   "execution_count": null,
   "id": "51260a36",
   "metadata": {},
   "outputs": [],
   "source": [
    "show_waveform('disco', '00090')"
   ]
  },
  {
   "cell_type": "code",
   "execution_count": null,
   "id": "c1666c7b",
   "metadata": {},
   "outputs": [],
   "source": [
    "show_waveform('hiphop', '00090')"
   ]
  },
  {
   "cell_type": "code",
   "execution_count": null,
   "id": "da201d9a",
   "metadata": {},
   "outputs": [],
   "source": [
    "show_waveform('jazz', '00090')"
   ]
  },
  {
   "cell_type": "code",
   "execution_count": null,
   "id": "c3b6da66",
   "metadata": {},
   "outputs": [],
   "source": [
    "show_waveform('metal', '00090')"
   ]
  },
  {
   "cell_type": "code",
   "execution_count": null,
   "id": "f2039805",
   "metadata": {},
   "outputs": [],
   "source": [
    "show_waveform('pop', '00090')"
   ]
  },
  {
   "cell_type": "code",
   "execution_count": null,
   "id": "1e3a2be0",
   "metadata": {},
   "outputs": [],
   "source": [
    "show_waveform('reggae', '00090')"
   ]
  },
  {
   "cell_type": "code",
   "execution_count": null,
   "id": "3d5b7c9e",
   "metadata": {},
   "outputs": [],
   "source": [
    "show_waveform('rock', '00090')"
   ]
  },
  {
   "cell_type": "code",
   "execution_count": null,
   "id": "5375936c",
   "metadata": {},
   "outputs": [],
   "source": [
    "def show_spectogram(x, num):\n",
    "    # Load audio file\n",
    "    audio_path = f'/Users/umarkabir/Documents/Qwasar/Classical Punk/genres/{x}/{x}.{num}.wav'\n",
    "    y, sr = librosa.load(audio_path)\n",
    "\n",
    "    # Calculate spectrogram\n",
    "    S = librosa.feature.melspectrogram(y=y, sr=sr, n_mels=128, fmax=8000)\n",
    "\n",
    "    # Convert to decibels\n",
    "    S_dB = librosa.power_to_db(S, ref=np.max)\n",
    "\n",
    "    # Create figure\n",
    "    fig = go.Figure()\n",
    "\n",
    "    # Add heatmap trace\n",
    "    fig.add_trace(go.Heatmap(\n",
    "        z=S_dB,\n",
    "        x=np.arange(0, S_dB.shape[1]),\n",
    "        y=np.arange(0, 8000, 8000/128),\n",
    "        colorscale='Viridis'\n",
    "    ))\n",
    "\n",
    "    # Set x and y axis labels\n",
    "    fig.update_xaxes(title_text='Time')\n",
    "    fig.update_yaxes(title_text='Frequency (Hz)')\n",
    "\n",
    "    # Set figure title\n",
    "    fig.update_layout(title_text=f'Sample spectrogram for {x}')\n",
    "\n",
    "    # Show figure\n",
    "    fig.show()\n"
   ]
  },
  {
   "cell_type": "markdown",
   "id": "bfe61986",
   "metadata": {},
   "source": [
    "This function loads a WAV file of a specific genre and number, and generates a sample spectrogram plot using the librosa and plotly libraries. It takes two arguments, x and num, which specify the genre of the audio and the number of the audio file within that genre, respectively."
   ]
  },
  {
   "cell_type": "code",
   "execution_count": null,
   "id": "c51bf7bb",
   "metadata": {},
   "outputs": [],
   "source": [
    "show_spectogram('blues', '00090')"
   ]
  },
  {
   "cell_type": "code",
   "execution_count": null,
   "id": "0fa52912",
   "metadata": {},
   "outputs": [],
   "source": [
    "show_spectogram('classical', '00090')"
   ]
  },
  {
   "cell_type": "code",
   "execution_count": null,
   "id": "71e9a566",
   "metadata": {},
   "outputs": [],
   "source": [
    "show_spectogram('country', '00090')"
   ]
  },
  {
   "cell_type": "code",
   "execution_count": null,
   "id": "94b7c30b",
   "metadata": {},
   "outputs": [],
   "source": [
    "show_spectogram('disco', '00090')"
   ]
  },
  {
   "cell_type": "code",
   "execution_count": null,
   "id": "332c40b0",
   "metadata": {},
   "outputs": [],
   "source": [
    "show_spectogram('hiphop', '00090')"
   ]
  },
  {
   "cell_type": "code",
   "execution_count": null,
   "id": "3b71c540",
   "metadata": {},
   "outputs": [],
   "source": [
    "show_spectogram('jazz', '00090')"
   ]
  },
  {
   "cell_type": "code",
   "execution_count": null,
   "id": "76fe0229",
   "metadata": {},
   "outputs": [],
   "source": [
    "show_spectogram('metal', '00090')"
   ]
  },
  {
   "cell_type": "code",
   "execution_count": null,
   "id": "3c8d0a8c",
   "metadata": {},
   "outputs": [],
   "source": [
    "show_spectogram('pop', '00090')"
   ]
  },
  {
   "cell_type": "code",
   "execution_count": null,
   "id": "eef70a5f",
   "metadata": {},
   "outputs": [],
   "source": [
    "show_spectogram('reggae', '00090')"
   ]
  },
  {
   "cell_type": "code",
   "execution_count": null,
   "id": "9073b05c",
   "metadata": {},
   "outputs": [],
   "source": [
    "show_spectogram('rock', '00090')"
   ]
  },
  {
   "cell_type": "code",
   "execution_count": null,
   "id": "ca7272c1",
   "metadata": {},
   "outputs": [],
   "source": [
    "def show_sr(x, num):\n",
    "        # Load audio file\n",
    "    audio_path = f'/Users/umarkabir/Documents/Qwasar/Classical Punk/genres/{x}/{x}.{num}.wav'\n",
    "    y, sr = librosa.load(audio_path)\n",
    "\n",
    "    # Compute spectral rolloff\n",
    "    spectral_rolloff = librosa.feature.spectral_rolloff(y=y, sr=sr)[0]\n",
    "\n",
    "    # Create plotly trace\n",
    "    trace = go.Scatter(\n",
    "        x=[i for i in range(len(spectral_rolloff))],\n",
    "        y=spectral_rolloff,\n",
    "        mode='lines',\n",
    "        name='Spectral Rolloff'\n",
    "    )\n",
    "\n",
    "    # Create plot layout\n",
    "    layout = go.Layout(\n",
    "        title=f'Sample spectral rolloff for {x}',\n",
    "        xaxis=dict(title='Frame'),\n",
    "        yaxis=dict(title='Frequency (Hz)')\n",
    "    )\n",
    "\n",
    "    # Create plot\n",
    "    fig = go.Figure(data=[trace], layout=layout)\n",
    "    fig.show()\n"
   ]
  },
  {
   "cell_type": "markdown",
   "id": "90acef41",
   "metadata": {},
   "source": [
    "This function show_sr(x, num) loads an audio file and computes the spectral rolloff. It then creates a Plotly line plot of the spectral rolloff values with the x-axis representing the frame and the y-axis representing frequency in Hz. The title of the plot is set to \"Sample spectral rolloff for x\", where x is the name of the audio file."
   ]
  },
  {
   "cell_type": "code",
   "execution_count": null,
   "id": "7c2d7bed",
   "metadata": {},
   "outputs": [],
   "source": [
    "show_sr('blues', '00090')"
   ]
  },
  {
   "cell_type": "code",
   "execution_count": null,
   "id": "ff754676",
   "metadata": {},
   "outputs": [],
   "source": [
    "show_sr('classical', '00090')"
   ]
  },
  {
   "cell_type": "code",
   "execution_count": null,
   "id": "3a5e02fb",
   "metadata": {},
   "outputs": [],
   "source": [
    "show_sr('country', '00090')"
   ]
  },
  {
   "cell_type": "code",
   "execution_count": null,
   "id": "50f6fb83",
   "metadata": {},
   "outputs": [],
   "source": [
    "show_sr('disco', '00090')"
   ]
  },
  {
   "cell_type": "code",
   "execution_count": null,
   "id": "69a2a301",
   "metadata": {},
   "outputs": [],
   "source": [
    "show_sr('hiphop', '00090')"
   ]
  },
  {
   "cell_type": "code",
   "execution_count": null,
   "id": "0ba68d86",
   "metadata": {},
   "outputs": [],
   "source": [
    "show_sr('jazz', '00090')"
   ]
  },
  {
   "cell_type": "code",
   "execution_count": null,
   "id": "3a06fe51",
   "metadata": {},
   "outputs": [],
   "source": [
    "show_sr('metal', '00090')"
   ]
  },
  {
   "cell_type": "code",
   "execution_count": null,
   "id": "135e9d74",
   "metadata": {},
   "outputs": [],
   "source": [
    "show_sr('pop', '00090')"
   ]
  },
  {
   "cell_type": "code",
   "execution_count": null,
   "id": "4b14a5dd",
   "metadata": {},
   "outputs": [],
   "source": [
    "show_sr('reggae', '00090')"
   ]
  },
  {
   "cell_type": "code",
   "execution_count": null,
   "id": "cd0d5853",
   "metadata": {},
   "outputs": [],
   "source": [
    "show_sr('rock', '00090')"
   ]
  },
  {
   "cell_type": "code",
   "execution_count": null,
   "id": "af7fcec5",
   "metadata": {},
   "outputs": [],
   "source": [
    "def show_chroma(x, num):\n",
    "    # Load audio file\n",
    "    audio_path = f'/Users/umarkabir/Documents/Qwasar/Classical Punk/genres/{x}/{x}.{num}.wav'\n",
    "    y, sr = librosa.load(audio_path)\n",
    "\n",
    "    # Compute chroma feature\n",
    "    chroma = librosa.feature.chroma_stft(y=y, sr=sr)\n",
    "\n",
    "    # Create time axis in seconds\n",
    "    time = librosa.frames_to_time(np.arange(chroma.shape[1]), sr=sr)\n",
    "\n",
    "    # Create chroma note names\n",
    "    chroma_note_names = ['C', 'C#', 'D', 'D#', 'E', 'F', 'F#', 'G', 'G#', 'A', 'A#', 'B']\n",
    "\n",
    "    # Create heatmap trace\n",
    "    trace = go.Heatmap(\n",
    "        x=time,\n",
    "        y=chroma_note_names,\n",
    "        z=chroma,\n",
    "        colorscale='Viridis',\n",
    "    )\n",
    "\n",
    "    # Set layout\n",
    "    layout = go.Layout(\n",
    "        title=f'Sample chroma feature for {x}',\n",
    "        xaxis=dict(title='Time (s)'),\n",
    "        yaxis=dict(title='Chroma Note')\n",
    "    )\n",
    "\n",
    "    # Create figure and plot\n",
    "    fig = go.Figure(data=[trace], layout=layout)\n",
    "    fig.show()\n"
   ]
  },
  {
   "cell_type": "markdown",
   "id": "baef69bd",
   "metadata": {},
   "source": [
    "This function takes in two arguments x and num representing the music genre and the song number, respectively. It then loads the corresponding audio file and computes the chroma feature using librosa's chroma_stft function. It creates a time axis in seconds using frames_to_time function, and chroma note names as a list. It then creates a heatmap trace using go.Heatmap with time as the x-axis, chroma_note_names as the y-axis, and chroma as the z-axis. Finally, it sets the layout with appropriate x and y axis titles, and a title for the figure. It shows the resulting figure using fig.show()."
   ]
  },
  {
   "cell_type": "code",
   "execution_count": null,
   "id": "c4db7b89",
   "metadata": {},
   "outputs": [],
   "source": [
    "show_chroma('blues', '00090')"
   ]
  },
  {
   "cell_type": "code",
   "execution_count": null,
   "id": "6c2e2593",
   "metadata": {},
   "outputs": [],
   "source": [
    "show_chroma('classical', '00090')"
   ]
  },
  {
   "cell_type": "code",
   "execution_count": null,
   "id": "96c0c79c",
   "metadata": {},
   "outputs": [],
   "source": [
    "show_chroma('country', '00090')"
   ]
  },
  {
   "cell_type": "code",
   "execution_count": null,
   "id": "e870529f",
   "metadata": {},
   "outputs": [],
   "source": [
    "show_chroma('disco', '00090')"
   ]
  },
  {
   "cell_type": "code",
   "execution_count": null,
   "id": "ebe58eee",
   "metadata": {},
   "outputs": [],
   "source": [
    "show_chroma('hiphop', '00090')"
   ]
  },
  {
   "cell_type": "code",
   "execution_count": null,
   "id": "3ae87105",
   "metadata": {},
   "outputs": [],
   "source": [
    "show_chroma('jazz', '00090')"
   ]
  },
  {
   "cell_type": "code",
   "execution_count": null,
   "id": "dd2c40a0",
   "metadata": {},
   "outputs": [],
   "source": [
    "show_chroma('metal', '00090')"
   ]
  },
  {
   "cell_type": "code",
   "execution_count": null,
   "id": "5caed416",
   "metadata": {},
   "outputs": [],
   "source": [
    "show_chroma('pop', '00090')"
   ]
  },
  {
   "cell_type": "code",
   "execution_count": null,
   "id": "9fdffd06",
   "metadata": {},
   "outputs": [],
   "source": [
    "show_chroma('reggae', '00090')"
   ]
  },
  {
   "cell_type": "code",
   "execution_count": null,
   "id": "b0bffe54",
   "metadata": {},
   "outputs": [],
   "source": [
    "show_chroma('rock', '00090')"
   ]
  },
  {
   "cell_type": "code",
   "execution_count": null,
   "id": "4b618f8a",
   "metadata": {},
   "outputs": [],
   "source": [
    "def show_zcr(x, num):\n",
    "    # Load audio file\n",
    "    audio_path = f'/Users/umarkabir/Documents/Qwasar/Classical Punk/genres/{x}/{x}.{num}.wav'\n",
    "    y, sr = librosa.load(audio_path)\n",
    "\n",
    "    # Compute zero crossing rate\n",
    "    zcr = librosa.feature.zero_crossing_rate(y)\n",
    "\n",
    "    # Create Plotly figure\n",
    "    fig = go.Figure(data=go.Scatter(x=librosa.times_like(zcr), y=zcr[0]))\n",
    "    fig.update_layout(title=f'Zero Crossing Rate for {x} Genre', xaxis_title='Time (s)', yaxis_title='ZCR')\n",
    "    fig.show()"
   ]
  },
  {
   "cell_type": "markdown",
   "id": "81292ac2",
   "metadata": {},
   "source": [
    "The show_zcr function takes in two arguments: x, which represents the genre of the music file, and num, which represents the number of the music file. It calculates the zero-crossing rate of the audio file and plots it using Plotly. "
   ]
  },
  {
   "cell_type": "code",
   "execution_count": null,
   "id": "647adcae",
   "metadata": {},
   "outputs": [],
   "source": [
    "show_zcr('blues', '00090')"
   ]
  },
  {
   "cell_type": "code",
   "execution_count": null,
   "id": "61414f9b",
   "metadata": {},
   "outputs": [],
   "source": [
    "show_zcr('classical', '00090')"
   ]
  },
  {
   "cell_type": "code",
   "execution_count": null,
   "id": "36306de3",
   "metadata": {},
   "outputs": [],
   "source": [
    "show_zcr('country', '00090')"
   ]
  },
  {
   "cell_type": "code",
   "execution_count": null,
   "id": "86688430",
   "metadata": {},
   "outputs": [],
   "source": [
    "show_zcr('disco', '00090')"
   ]
  },
  {
   "cell_type": "code",
   "execution_count": null,
   "id": "6ca94298",
   "metadata": {},
   "outputs": [],
   "source": [
    "show_zcr('hiphop', '00090')"
   ]
  },
  {
   "cell_type": "code",
   "execution_count": null,
   "id": "22968bc0",
   "metadata": {},
   "outputs": [],
   "source": [
    "show_zcr('jazz', '00090')"
   ]
  },
  {
   "cell_type": "code",
   "execution_count": null,
   "id": "a6823df1",
   "metadata": {},
   "outputs": [],
   "source": [
    "show_zcr('pop', '00090')"
   ]
  },
  {
   "cell_type": "code",
   "execution_count": null,
   "id": "e7ca62a6",
   "metadata": {},
   "outputs": [],
   "source": [
    "show_zcr('reggae', '00090')"
   ]
  },
  {
   "cell_type": "code",
   "execution_count": null,
   "id": "498305f2",
   "metadata": {},
   "outputs": [],
   "source": [
    "show_zcr('rock', '00090')"
   ]
  },
  {
   "cell_type": "markdown",
   "id": "d642835c",
   "metadata": {},
   "source": [
    "<a id='summary-statistics'></a>\n",
    "<font size=\"+1\" color='#780404'><b> Summary Statistics</b></font>  \n",
    "[back to top](#table-of-contents)"
   ]
  },
  {
   "cell_type": "code",
   "execution_count": null,
   "id": "8b4f6809",
   "metadata": {},
   "outputs": [],
   "source": [
    "df.describe(include='all')"
   ]
  },
  {
   "cell_type": "code",
   "execution_count": null,
   "id": "ad0fc634",
   "metadata": {},
   "outputs": [],
   "source": [
    "import matplotlib.pyplot as plt\n",
    "def skew_kurt(data, col):\n",
    "    # Calculate skewness and kurtosis of Income column\n",
    "    _skewness = skew(data[col])\n",
    "    _kurtosis = kurtosis(data[col])\n",
    "\n",
    "    # Create histogram of Income column with mean, median, and mode\n",
    "    sns.histplot(data=data, x=col, kde=True)\n",
    "    plt.axvline(data[col].mean(), color='r', linestyle='--', label='Mean')\n",
    "    plt.axvline(data[col].median(), color='g', linestyle='--', label='Median')\n",
    "    plt.axvline(data[col].mode()[0], color='b', linestyle='--', label='Mode')\n",
    "    plt.legend()\n",
    "\n",
    "    # Add text annotation for skewness and kurtosis values\n",
    "    plt.annotate('Skewness: {:.2f}'.format(_skewness), xy=(0.5, 0.9), xycoords='axes fraction')\n",
    "    plt.annotate('Kurtosis: {:.2f}'.format(_kurtosis), xy=(0.5, 0.85), xycoords='axes fraction')\n",
    "\n",
    "    plt.show()"
   ]
  },
  {
   "cell_type": "code",
   "execution_count": null,
   "id": "28167daa",
   "metadata": {},
   "outputs": [],
   "source": [
    "!pip install --upgrade matplotlib"
   ]
  },
  {
   "cell_type": "code",
   "execution_count": null,
   "id": "4a2965b2",
   "metadata": {},
   "outputs": [],
   "source": [
    "skew_kurt(df[df['Genre'] == 'blues'], 'Tempo')"
   ]
  },
  {
   "cell_type": "code",
   "execution_count": null,
   "id": "c0f219a5",
   "metadata": {},
   "outputs": [],
   "source": [
    "skew_kurt(df[df['Genre'] == 'classical'], 'Tempo')"
   ]
  },
  {
   "cell_type": "code",
   "execution_count": null,
   "id": "8dd6b29c",
   "metadata": {},
   "outputs": [],
   "source": [
    "skew_kurt(df[df['Genre'] == 'country'], 'Tempo')"
   ]
  },
  {
   "cell_type": "code",
   "execution_count": null,
   "id": "7100f691",
   "metadata": {},
   "outputs": [],
   "source": [
    "skew_kurt(df[df['Genre'] == 'disco'], 'Tempo')"
   ]
  },
  {
   "cell_type": "code",
   "execution_count": null,
   "id": "0a2bfc30",
   "metadata": {},
   "outputs": [],
   "source": [
    "skew_kurt(df[df['Genre'] == 'hiphop'], 'Tempo')"
   ]
  },
  {
   "cell_type": "code",
   "execution_count": null,
   "id": "76c4a547",
   "metadata": {},
   "outputs": [],
   "source": [
    "skew_kurt(df[df['Genre'] == 'jazz'], 'Tempo')"
   ]
  },
  {
   "cell_type": "code",
   "execution_count": null,
   "id": "44e1ba78",
   "metadata": {},
   "outputs": [],
   "source": [
    "skew_kurt(df[df['Genre'] == 'metal'], 'Tempo')"
   ]
  },
  {
   "cell_type": "code",
   "execution_count": null,
   "id": "2ed01d7b",
   "metadata": {},
   "outputs": [],
   "source": [
    "skew_kurt(df[df['Genre'] == 'pop'], 'Tempo')"
   ]
  },
  {
   "cell_type": "code",
   "execution_count": null,
   "id": "f127e9da",
   "metadata": {},
   "outputs": [],
   "source": [
    "skew_kurt(df[df['Genre'] == 'reggae'], 'Tempo')"
   ]
  },
  {
   "cell_type": "code",
   "execution_count": null,
   "id": "8c80b0b0",
   "metadata": {},
   "outputs": [],
   "source": [
    "skew_kurt(df[df['Genre'] == 'rock'], 'Tempo')"
   ]
  },
  {
   "cell_type": "markdown",
   "id": "67ea1afa",
   "metadata": {},
   "source": [
    "<a id='feature-correlation'></a>\n",
    "<font size=\"+1\" color='#780404'><b> Feature Correlation</b></font>  \n",
    "[back to top](#table-of-contents)"
   ]
  },
  {
   "cell_type": "code",
   "execution_count": null,
   "id": "748121be",
   "metadata": {},
   "outputs": [],
   "source": [
    "df_corr = df.corr()"
   ]
  },
  {
   "cell_type": "code",
   "execution_count": null,
   "id": "bc58f37b",
   "metadata": {},
   "outputs": [],
   "source": [
    "# Compute correlation matrix\n",
    "\n",
    "# Set figure size and font sizes\n",
    "fig, ax = plt.subplots(figsize=(50, 50))\n",
    "sns.set(font_scale=1.9)\n",
    "\n",
    "# Plot heatmap with adjusted color map\n",
    "sns.heatmap(df_corr, cmap='coolwarm', annot=True, center=0, square=True)\n",
    "\n",
    "# Adjust font size of features\n",
    "ax.set_xticklabels(ax.get_xticklabels(), fontsize=35)\n",
    "ax.set_yticklabels(ax.get_yticklabels(), fontsize=35)\n",
    "\n",
    "# Add title and axis labels\n",
    "plt.title('Correlation Matrix', fontsize=30)\n",
    "plt.xlabel('Features', fontsize=20)\n",
    "plt.ylabel('Features', fontsize=20)\n",
    "\n",
    "# Show plot\n",
    "plt.show()"
   ]
  },
  {
   "cell_type": "markdown",
   "id": "1727a626",
   "metadata": {},
   "source": [
    "<a id='data-preparation'></a>\n",
    "<font size=\"+2\" color='#053c96'><b> Data Preparation</b></font>  \n",
    "[back to top](#table-of-contents)"
   ]
  },
  {
   "cell_type": "markdown",
   "id": "8a5fc006",
   "metadata": {},
   "source": [
    "<a id='data-cleaning'></a>\n",
    "<font size=\"+1\" color='#780404'><b> Data Cleaning</b></font>  \n",
    "[back to top](#table-of-contents)"
   ]
  },
  {
   "cell_type": "code",
   "execution_count": null,
   "id": "c2b3a9b2",
   "metadata": {},
   "outputs": [],
   "source": []
  },
  {
   "cell_type": "markdown",
   "id": "96ab2b48",
   "metadata": {},
   "source": [
    "<a id='feature-engineering'></a>\n",
    "<font size=\"+1\" color='#780404'><b> Feature Engineering</b></font>  \n",
    "[back to top](#table-of-contents)"
   ]
  },
  {
   "cell_type": "markdown",
   "id": "6cff5001",
   "metadata": {},
   "source": [
    "<a id='data-transformation'></a>\n",
    "<font size=\"+1\" color='#780404'><b> Data Transformation</b></font>  \n",
    "[back to top](#table-of-contents)\n",
    "<a id='modeling'></a>"
   ]
  },
  {
   "cell_type": "markdown",
   "id": "3d43353f",
   "metadata": {},
   "source": [
    "<a id='modeling'></a>\n",
    "\n",
    "<font size=\"+2\" color='#053c96'><b> Modeling</b></font>  \n",
    "[back to top](#table-of-contents)"
   ]
  },
  {
   "cell_type": "markdown",
   "id": "aa5ddcd8",
   "metadata": {},
   "source": [
    "<a id='model-selection'></a>\n",
    "\n",
    "<font size=\"+1\" color='#780404'><b> Model Selection</b></font>  \n",
    "[back to top](#table-of-contents)"
   ]
  },
  {
   "cell_type": "markdown",
   "id": "dcadadaf",
   "metadata": {},
   "source": [
    "<a id='model-training'></a>\n",
    "\n",
    "<font size=\"+1\" color='#780404'><b> Model Training</b></font>  \n",
    "[back to top](#table-of-contents)"
   ]
  },
  {
   "cell_type": "markdown",
   "id": "43d33277",
   "metadata": {},
   "source": [
    "<a id='model-evaluation'></a>\n",
    "\n",
    "<font size=\"+1\" color='#780404'><b> Model Evaluation</b></font>  \n",
    "[back to top](#table-of-contents)"
   ]
  },
  {
   "cell_type": "markdown",
   "id": "00084baf",
   "metadata": {},
   "source": [
    "<a id='hyperparameter-tuning'></a>\n",
    "<font size=\"+1\" color='#780404'><b> Hyperparameter Tuning</b></font>  \n",
    "[back to top](#table-of-contents)"
   ]
  },
  {
   "cell_type": "markdown",
   "id": "e091e1e0",
   "metadata": {},
   "source": [
    "<a id='results'></a>\n",
    "<font size=\"+2\" color='#053c96'><b> Results</b></font>  \n",
    "[back to top](#table-of-contents)"
   ]
  },
  {
   "cell_type": "markdown",
   "id": "baa9d457",
   "metadata": {},
   "source": [
    "<a id='analysis-results'></a>\n",
    "\n",
    "<font size=\"+1\" color='#780404'><b> Analysis Results</b></font>  \n",
    "[back to top](#table-of-contents)"
   ]
  },
  {
   "cell_type": "markdown",
   "id": "daea103b",
   "metadata": {},
   "source": [
    "<a id='model-performance'></a>\n",
    "\n",
    "<font size=\"+1\" color='#780404'><b> Model Performance</b></font>  \n",
    "[back to top](#table-of-contents)"
   ]
  },
  {
   "cell_type": "markdown",
   "id": "eaae1f46",
   "metadata": {},
   "source": [
    "<a id='feature-importance'></a>\n",
    "\n",
    "<font size=\"+1\" color='#780404'><b> Feature Importance</b></font>  \n",
    "[back to top](#table-of-contents)"
   ]
  },
  {
   "cell_type": "markdown",
   "id": "a7b54eb5",
   "metadata": {},
   "source": [
    "<a id='implications'></a>\n",
    "\n",
    "<font size=\"+1\" color='#780404'><b> Implications</b></font>  \n",
    "[back to top](#table-of-contents)"
   ]
  },
  {
   "cell_type": "markdown",
   "id": "0cfb8f75",
   "metadata": {},
   "source": [
    "<a id='conclusion'></a>\n",
    "\n",
    "<font size=\"+2\" color='#053c96'><b> Conclusion</b></font>  \n",
    "[back to top](#table-of-contents)"
   ]
  },
  {
   "cell_type": "markdown",
   "id": "c7c6ce88",
   "metadata": {},
   "source": [
    "<a id='summary'></a>\n",
    "\n",
    "<font size=\"+1\" color='#780404'><b> Summary</b></font>  \n",
    "[back to top](#table-of-contents)"
   ]
  },
  {
   "cell_type": "markdown",
   "id": "5d29b65c",
   "metadata": {},
   "source": [
    "<a id='limitations'></a>\n",
    "\n",
    "<font size=\"+1\" color='#780404'><b> Limitations</b></font>  \n",
    "[back to top](#table-of-contents)"
   ]
  },
  {
   "cell_type": "markdown",
   "id": "9d6b300b",
   "metadata": {},
   "source": [
    "<a id='recommendations'></a>\n",
    "\n",
    "<font size=\"+1\" color='#780404'><b> Recommendations</b></font>  \n",
    "[back to top](#table-of-contents)"
   ]
  },
  {
   "cell_type": "markdown",
   "id": "3342fdf5",
   "metadata": {},
   "source": [
    "<a id='references'></a>\n",
    "\n",
    "<font size=\"+1\" color='#780404'><b> References</b></font>  \n",
    "[back to top](#table-of-contents)"
   ]
  }
 ],
 "metadata": {
  "kernelspec": {
   "display_name": "Python 3 (ipykernel)",
   "language": "python",
   "name": "python3"
  },
  "language_info": {
   "codemirror_mode": {
    "name": "ipython",
    "version": 3
   },
   "file_extension": ".py",
   "mimetype": "text/x-python",
   "name": "python",
   "nbconvert_exporter": "python",
   "pygments_lexer": "ipython3",
   "version": "3.10.9"
  }
 },
 "nbformat": 4,
 "nbformat_minor": 5
}
