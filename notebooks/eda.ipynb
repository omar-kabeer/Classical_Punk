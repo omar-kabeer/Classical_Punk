{
 "cells": [
  {
   "cell_type": "markdown",
   "id": "a9bfb526",
   "metadata": {},
   "source": [
    "<font size=\"+3\" color='#053c96'><h2><center> Exploratory Data Analysis</h2></center></font>\n",
    "<figure>\n",
    "<center><img src =\"https://cdn.educba.com/academy/wp-content/uploads/2020/01/exploratory-data-analysis.jpg.webp\" width = \"750\" height = '600' alt=\"Classical Punk\"/>\n",
    "<font size=\"0\" color='#053c96'><h4><center> Photo Credit: educba.com</h4></center></font>"
   ]
  },
  {
   "cell_type": "markdown",
   "id": "0fd8aca5",
   "metadata": {},
   "source": [
    "<font size=\"+2\" color='#053c96'><b> Contributor</b></font>  \n",
    "<font size=\"+0\" ><b> Umar Kabir</b></font>  "
   ]
  },
  {
   "cell_type": "markdown",
   "id": "5c866556",
   "metadata": {},
   "source": [
    "<a id='table-of-contents'></a>\n",
    "[Table of Contents](#table-of-contents)\n",
    "\n",
    "- [Importing Libraries](#importing-dependencies)\n",
    "- [Data](#data)\n",
    "- [Exploratory Data Analysis](#exploratory-data-analysis)\n",
    "  * [Data Exploration](#data-exploration)\n",
    "  * [Data Visualization](#data-visualization)"
   ]
  },
  {
   "cell_type": "markdown",
   "id": "63c48e75",
   "metadata": {},
   "source": [
    "<a id='importing-dependencies'></a>\n",
    "<font size=\"+2\" color='#053c96'><b> 1. Importing Libraries</b></font>  \n",
    "[back to top](#table-of-contents)"
   ]
  },
  {
   "cell_type": "code",
   "execution_count": 4,
   "id": "b70ac95f",
   "metadata": {},
   "outputs": [],
   "source": [
    "import sys\n",
    "# Insert the parent path relative to this notebook so we can import from the src folder.\n",
    "sys.path.insert(0, \"..\")\n",
    "\n",
    "from src.dependencies import *\n",
    "from src.functions import *"
   ]
  },
  {
   "cell_type": "markdown",
   "id": "8e2a29aa",
   "metadata": {},
   "source": [
    "<a id='data'></a>\n",
    "<font size=\"+2\" color='#053c96'><b> 3. Data</b></font>  \n",
    "[back to top](#table-of-contents)  \n",
    "\n",
    "The dataset was used for the well-known paper in genre classification \"Musical genre classification of audio signals\" by G. Tzanetakis and P. Cook in IEEE Transactions on Audio and Speech Processing 2002."
   ]
  },
  {
   "cell_type": "code",
   "execution_count": null,
   "id": "734db0ae",
   "metadata": {},
   "outputs": [],
   "source": [
    "genres = ['blues', 'classical', 'country', 'disco', 'hiphop', 'jazz', 'metal', 'pop', 'reggae', 'rock']\n",
    "data = []\n",
    "\n",
    "for genre in genres:\n",
    "    genre_dir = f'genres/{genre}'\n",
    "    for filename in os.listdir(genre_dir):\n",
    "        if filename.endswith('.wav'):\n",
    "            audio_path = os.path.join(genre_dir, filename)\n",
    "            y, sr = librosa.load(audio_path)\n",
    "\n",
    "            # Extract features\n",
    "            central_moments = np.asarray([np.mean((y - np.mean(y)) ** i) for i in range(1, 5)])\n",
    "            zero_crossing_rate = librosa.feature.zero_crossing_rate(y)\n",
    "            rmse = librosa.feature.rms(y=y)\n",
    "            tempo, beats = librosa.beat.beat_track(y=y, sr=sr)\n",
    "            spectral_contrast = librosa.feature.spectral_contrast(y=y, sr=sr)\n",
    "            spectral_rolloff = librosa.feature.spectral_rolloff(y=y, sr=sr)\n",
    "            mfccs = librosa.feature.mfcc(y=y, sr=sr, n_mfcc=13)\n",
    "            chroma = librosa.feature.chroma_stft(y=y, sr=sr)\n",
    "            spectral_centroid = librosa.feature.spectral_centroid(y=y, sr=sr)\n",
    "            spectral_bandwidth = librosa.feature.spectral_bandwidth(y=y, sr=sr)\n",
    "\n",
    "            # Add features to dataframe\n",
    "            features = [genre, filename, beats, sr, central_moments, zero_crossing_rate[0], rmse[0], tempo, spectral_contrast, spectral_rolloff, mfccs, chroma, spectral_centroid, spectral_bandwidth]\n",
    "            data.append(features)\n",
    "\n",
    "df = pd.DataFrame(data, columns=['Genre', 'Filename', 'Beats', 'SR', 'Central Moments', 'Zero Crossing Rate', 'RMSE', 'Tempo', 'Spectral Contrast', 'Spectral Roll-off', 'MFCC', 'Chroma', 'Spectral Centroid', 'Spectral Bandwidth'])\n"
   ]
  },
  {
   "cell_type": "code",
   "execution_count": null,
   "id": "f43392dd",
   "metadata": {},
   "outputs": [],
   "source": [
    "df['Beats Mean'] = df['Beats'].apply(lambda x: np.mean(x))\n",
    "df['Central Moments Mean'] = df['Central Moments'].apply(lambda x: np.mean(x))\n",
    "df['Zero Crossing Rate Mean'] = df['Zero Crossing Rate'].apply(lambda x: np.mean(x))\n",
    "df['RMSE Mean'] = df['RMSE'].apply(lambda x: np.mean(x))\n",
    "df['Spectral Contrast Mean'] = df['Spectral Contrast'].apply(lambda x: np.mean(x))\n",
    "df['Spectral Roll-off Mean'] = df['Spectral Roll-off'].apply(lambda x: np.mean(x))\n",
    "df['MFCC Mean'] = df['MFCC'].apply(lambda x: np.mean(x))\n",
    "df['Chroma Mean'] = df['Chroma'].apply(lambda x: np.mean(x))\n",
    "df['Spectral Centroid Mean'] = df['Spectral Centroid'].apply(lambda x: np.mean(x))\n",
    "df['Spectral Bandwidth Mean'] = df['Spectral Bandwidth'].apply(lambda x: np.mean(x))"
   ]
  },
  {
   "cell_type": "code",
   "execution_count": null,
   "id": "e92bbc9c",
   "metadata": {},
   "outputs": [],
   "source": [
    "df['Beats Var'] = df['Beats'].apply(lambda x: np.var(x))\n",
    "df['Central Moments Var'] = df['Central Moments'].apply(lambda x: np.var(x))\n",
    "df['Zero Crossing Rate Var'] = df['Zero Crossing Rate'].apply(lambda x: np.var(x))\n",
    "df['RMSE Var'] = df['RMSE'].apply(lambda x: np.var(x))\n",
    "df['Spectral Contrast Var'] = df['Spectral Contrast'].apply(lambda x: np.var(x))\n",
    "df['Spectral Roll-off Var'] = df['Spectral Roll-off'].apply(lambda x: np.var(x))\n",
    "df['MFCC Var'] = df['MFCC'].apply(lambda x: np.var(x))\n",
    "df['Chroma Var'] = df['Chroma'].apply(lambda x: np.var(x))\n",
    "df['Spectral Centroid Var'] = df['Spectral Centroid'].apply(lambda x: np.var(x))\n",
    "df['Spectral Bandwidth Var'] = df['Spectral Bandwidth'].apply(lambda x: np.var(x))"
   ]
  },
  {
   "cell_type": "code",
   "execution_count": null,
   "id": "a8a3275e",
   "metadata": {},
   "outputs": [],
   "source": [
    "df['Beats Std'] = df['Beats'].apply(lambda x: np.std(x))\n",
    "df['Central Moments Std'] = df['Central Moments'].apply(lambda x: np.std(x))\n",
    "df['Zero Crossing Rate Std'] = df['Zero Crossing Rate'].apply(lambda x: np.std(x))\n",
    "df['RMSE Std'] = df['RMSE'].apply(lambda x: np.std(x))\n",
    "df['Spectral Contrast Std'] = df['Spectral Contrast'].apply(lambda x: np.std(x))\n",
    "df['Spectral Roll-off Std'] = df['Spectral Roll-off'].apply(lambda x: np.std(x))\n",
    "df['MFCC Std'] = df['MFCC'].apply(lambda x: np.std(x))\n",
    "df['Chroma Std'] = df['Chroma'].apply(lambda x: np.std(x))\n",
    "df['Spectral Centroid Std'] = df['Spectral Centroid'].apply(lambda x: np.std(x))\n",
    "df['Spectral Bandwidth Std'] = df['Spectral Bandwidth'].apply(lambda x: np.std(x))"
   ]
  },
  {
   "cell_type": "code",
   "execution_count": null,
   "id": "23ea23e7",
   "metadata": {},
   "outputs": [],
   "source": [
    "df.to_csv('classical_punk.csv')"
   ]
  },
  {
   "cell_type": "code",
   "execution_count": 5,
   "id": "f12d0496",
   "metadata": {},
   "outputs": [],
   "source": [
    "df = pd.read_csv('classical_punk.csv')"
   ]
  },
  {
   "cell_type": "code",
   "execution_count": 6,
   "id": "be8952a5",
   "metadata": {},
   "outputs": [],
   "source": [
    "df = df.drop(['Unnamed: 0', 'Beats', 'SR', 'Central Moments', 'Zero Crossing Rate',\n",
    "               'RMSE', 'Spectral Contrast', 'Spectral Roll-off',\n",
    "               'MFCC', 'Chroma', 'Spectral Centroid', 'Spectral Bandwidth'], axis=1)"
   ]
  },
  {
   "cell_type": "markdown",
   "id": "47144d6c",
   "metadata": {},
   "source": [
    "<a id='exploratory-data-analysis'></a>\n",
    "<font size=\"+2\" color='#053c96'><b> 4. Exploratory Data Anaysis</b></font>  \n",
    "[back to top](#table-of-contents)"
   ]
  },
  {
   "cell_type": "markdown",
   "id": "40b442d4",
   "metadata": {},
   "source": [
    "<a id='data-exploration'></a>\n",
    "<font size=\"+1\" color='#780404'><b> 4.1 Data Exploration</b></font>  \n",
    "[back to top](#table-of-contents)"
   ]
  },
  {
   "cell_type": "code",
   "execution_count": 4,
   "id": "6f477f0b",
   "metadata": {},
   "outputs": [
    {
     "data": {
      "text/plain": [
       "(1000, 33)"
      ]
     },
     "execution_count": 4,
     "metadata": {},
     "output_type": "execute_result"
    }
   ],
   "source": [
    "df.shape"
   ]
  },
  {
   "cell_type": "code",
   "execution_count": 5,
   "id": "e7e12f75",
   "metadata": {},
   "outputs": [
    {
     "name": "stdout",
     "output_type": "stream",
     "text": [
      "<class 'pandas.core.frame.DataFrame'>\n",
      "RangeIndex: 1000 entries, 0 to 999\n",
      "Data columns (total 33 columns):\n",
      " #   Column                   Non-Null Count  Dtype  \n",
      "---  ------                   --------------  -----  \n",
      " 0   Genre                    1000 non-null   object \n",
      " 1   Filename                 1000 non-null   object \n",
      " 2   Tempo                    1000 non-null   float64\n",
      " 3   Beats Mean               1000 non-null   float64\n",
      " 4   Central Moments Mean     1000 non-null   float64\n",
      " 5   Zero Crossing Rate Mean  1000 non-null   float64\n",
      " 6   RMSE Mean                1000 non-null   float64\n",
      " 7   Spectral Contrast Mean   1000 non-null   float64\n",
      " 8   Spectral Roll-off Mean   1000 non-null   float64\n",
      " 9   MFCC Mean                1000 non-null   float64\n",
      " 10  Chroma Mean              1000 non-null   float64\n",
      " 11  Spectral Centroid Mean   1000 non-null   float64\n",
      " 12  Spectral Bandwidth Mean  1000 non-null   float64\n",
      " 13  Beats Var                1000 non-null   float64\n",
      " 14  Central Moments Var      1000 non-null   float64\n",
      " 15  Zero Crossing Rate Var   1000 non-null   float64\n",
      " 16  RMSE Var                 1000 non-null   float64\n",
      " 17  Spectral Contrast Var    1000 non-null   float64\n",
      " 18  Spectral Roll-off Var    1000 non-null   float64\n",
      " 19  MFCC Var                 1000 non-null   float64\n",
      " 20  Chroma Var               1000 non-null   float64\n",
      " 21  Spectral Centroid Var    1000 non-null   float64\n",
      " 22  Spectral Bandwidth Var   1000 non-null   float64\n",
      " 23  Beats Std                1000 non-null   float64\n",
      " 24  Central Moments Std      1000 non-null   float64\n",
      " 25  Zero Crossing Rate Std   1000 non-null   float64\n",
      " 26  RMSE Std                 1000 non-null   float64\n",
      " 27  Spectral Contrast Std    1000 non-null   float64\n",
      " 28  Spectral Roll-off Std    1000 non-null   float64\n",
      " 29  MFCC Std                 1000 non-null   float64\n",
      " 30  Chroma Std               1000 non-null   float64\n",
      " 31  Spectral Centroid Std    1000 non-null   float64\n",
      " 32  Spectral Bandwidth Std   1000 non-null   float64\n",
      "dtypes: float64(31), object(2)\n",
      "memory usage: 257.9+ KB\n"
     ]
    }
   ],
   "source": [
    "df.info()"
   ]
  },
  {
   "cell_type": "code",
   "execution_count": 6,
   "id": "aa452bde",
   "metadata": {},
   "outputs": [
    {
     "data": {
      "text/html": [
       "<div>\n",
       "<style scoped>\n",
       "    .dataframe tbody tr th:only-of-type {\n",
       "        vertical-align: middle;\n",
       "    }\n",
       "\n",
       "    .dataframe tbody tr th {\n",
       "        vertical-align: top;\n",
       "    }\n",
       "\n",
       "    .dataframe thead th {\n",
       "        text-align: right;\n",
       "    }\n",
       "</style>\n",
       "<table border=\"1\" class=\"dataframe\">\n",
       "  <thead>\n",
       "    <tr style=\"text-align: right;\">\n",
       "      <th></th>\n",
       "      <th>Genre</th>\n",
       "      <th>Filename</th>\n",
       "      <th>Tempo</th>\n",
       "      <th>Beats Mean</th>\n",
       "      <th>Central Moments Mean</th>\n",
       "      <th>Zero Crossing Rate Mean</th>\n",
       "      <th>RMSE Mean</th>\n",
       "      <th>Spectral Contrast Mean</th>\n",
       "      <th>Spectral Roll-off Mean</th>\n",
       "      <th>MFCC Mean</th>\n",
       "      <th>Chroma Mean</th>\n",
       "      <th>Spectral Centroid Mean</th>\n",
       "      <th>Spectral Bandwidth Mean</th>\n",
       "      <th>Beats Var</th>\n",
       "      <th>Central Moments Var</th>\n",
       "      <th>Zero Crossing Rate Var</th>\n",
       "      <th>RMSE Var</th>\n",
       "      <th>Spectral Contrast Var</th>\n",
       "      <th>Spectral Roll-off Var</th>\n",
       "      <th>MFCC Var</th>\n",
       "      <th>Chroma Var</th>\n",
       "      <th>Spectral Centroid Var</th>\n",
       "      <th>Spectral Bandwidth Var</th>\n",
       "      <th>Beats Std</th>\n",
       "      <th>Central Moments Std</th>\n",
       "      <th>Zero Crossing Rate Std</th>\n",
       "      <th>RMSE Std</th>\n",
       "      <th>Spectral Contrast Std</th>\n",
       "      <th>Spectral Roll-off Std</th>\n",
       "      <th>MFCC Std</th>\n",
       "      <th>Chroma Std</th>\n",
       "      <th>Spectral Centroid Std</th>\n",
       "      <th>Spectral Bandwidth Std</th>\n",
       "    </tr>\n",
       "  </thead>\n",
       "  <tbody>\n",
       "    <tr>\n",
       "      <th>0</th>\n",
       "      <td>blues</td>\n",
       "      <td>blues.00093.wav</td>\n",
       "      <td>58.726918</td>\n",
       "      <td>604.000000</td>\n",
       "      <td>0.001594</td>\n",
       "      <td>0.021697</td>\n",
       "      <td>0.065860</td>\n",
       "      <td>21.403202</td>\n",
       "      <td>929.300104</td>\n",
       "      <td>-4.548970</td>\n",
       "      <td>0.377695</td>\n",
       "      <td>570.349904</td>\n",
       "      <td>995.505854</td>\n",
       "      <td>124035.769231</td>\n",
       "      <td>0.000007</td>\n",
       "      <td>0.000117</td>\n",
       "      <td>0.001804</td>\n",
       "      <td>29.045168</td>\n",
       "      <td>4.999722e+05</td>\n",
       "      <td>12176.3440</td>\n",
       "      <td>0.096389</td>\n",
       "      <td>104947.121639</td>\n",
       "      <td>84704.577580</td>\n",
       "      <td>352.187122</td>\n",
       "      <td>0.002630</td>\n",
       "      <td>0.010838</td>\n",
       "      <td>0.042473</td>\n",
       "      <td>5.389357</td>\n",
       "      <td>707.087129</td>\n",
       "      <td>110.346470</td>\n",
       "      <td>0.310465</td>\n",
       "      <td>323.955432</td>\n",
       "      <td>291.040508</td>\n",
       "    </tr>\n",
       "    <tr>\n",
       "      <th>1</th>\n",
       "      <td>blues</td>\n",
       "      <td>blues.00087.wav</td>\n",
       "      <td>172.265625</td>\n",
       "      <td>603.215190</td>\n",
       "      <td>0.007801</td>\n",
       "      <td>0.050869</td>\n",
       "      <td>0.157941</td>\n",
       "      <td>22.663120</td>\n",
       "      <td>3082.603763</td>\n",
       "      <td>1.747352</td>\n",
       "      <td>0.336902</td>\n",
       "      <td>1441.680807</td>\n",
       "      <td>1870.021373</td>\n",
       "      <td>112486.928377</td>\n",
       "      <td>0.000133</td>\n",
       "      <td>0.001155</td>\n",
       "      <td>0.002722</td>\n",
       "      <td>61.844748</td>\n",
       "      <td>2.195439e+06</td>\n",
       "      <td>3799.4382</td>\n",
       "      <td>0.094721</td>\n",
       "      <td>387155.803107</td>\n",
       "      <td>146843.002778</td>\n",
       "      <td>335.390710</td>\n",
       "      <td>0.011548</td>\n",
       "      <td>0.033986</td>\n",
       "      <td>0.052177</td>\n",
       "      <td>7.864143</td>\n",
       "      <td>1481.701296</td>\n",
       "      <td>61.639584</td>\n",
       "      <td>0.307767</td>\n",
       "      <td>622.218453</td>\n",
       "      <td>383.200995</td>\n",
       "    </tr>\n",
       "    <tr>\n",
       "      <th>2</th>\n",
       "      <td>blues</td>\n",
       "      <td>blues.00050.wav</td>\n",
       "      <td>135.999178</td>\n",
       "      <td>597.412698</td>\n",
       "      <td>0.010525</td>\n",
       "      <td>0.085791</td>\n",
       "      <td>0.182285</td>\n",
       "      <td>21.129626</td>\n",
       "      <td>4174.460398</td>\n",
       "      <td>7.405733</td>\n",
       "      <td>0.401009</td>\n",
       "      <td>1945.252523</td>\n",
       "      <td>2081.763030</td>\n",
       "      <td>117180.686823</td>\n",
       "      <td>0.000246</td>\n",
       "      <td>0.001219</td>\n",
       "      <td>0.003976</td>\n",
       "      <td>83.527988</td>\n",
       "      <td>8.083841e+05</td>\n",
       "      <td>2153.9006</td>\n",
       "      <td>0.089657</td>\n",
       "      <td>147430.672719</td>\n",
       "      <td>73538.994378</td>\n",
       "      <td>342.316647</td>\n",
       "      <td>0.015674</td>\n",
       "      <td>0.034920</td>\n",
       "      <td>0.063054</td>\n",
       "      <td>9.139365</td>\n",
       "      <td>899.101855</td>\n",
       "      <td>46.410133</td>\n",
       "      <td>0.299428</td>\n",
       "      <td>383.967020</td>\n",
       "      <td>271.180741</td>\n",
       "    </tr>\n",
       "    <tr>\n",
       "      <th>3</th>\n",
       "      <td>blues</td>\n",
       "      <td>blues.00044.wav</td>\n",
       "      <td>135.999178</td>\n",
       "      <td>638.373134</td>\n",
       "      <td>0.005054</td>\n",
       "      <td>0.092525</td>\n",
       "      <td>0.136209</td>\n",
       "      <td>21.729472</td>\n",
       "      <td>5198.686455</td>\n",
       "      <td>5.340542</td>\n",
       "      <td>0.390118</td>\n",
       "      <td>2279.031119</td>\n",
       "      <td>2375.232090</td>\n",
       "      <td>134925.099577</td>\n",
       "      <td>0.000065</td>\n",
       "      <td>0.000902</td>\n",
       "      <td>0.000467</td>\n",
       "      <td>88.639974</td>\n",
       "      <td>5.698240e+05</td>\n",
       "      <td>2242.4602</td>\n",
       "      <td>0.086307</td>\n",
       "      <td>170912.654795</td>\n",
       "      <td>52988.857635</td>\n",
       "      <td>367.321521</td>\n",
       "      <td>0.008071</td>\n",
       "      <td>0.030041</td>\n",
       "      <td>0.021618</td>\n",
       "      <td>9.414880</td>\n",
       "      <td>754.866877</td>\n",
       "      <td>47.354620</td>\n",
       "      <td>0.293780</td>\n",
       "      <td>413.415838</td>\n",
       "      <td>230.193088</td>\n",
       "    </tr>\n",
       "    <tr>\n",
       "      <th>4</th>\n",
       "      <td>blues</td>\n",
       "      <td>blues.00078.wav</td>\n",
       "      <td>123.046875</td>\n",
       "      <td>649.133333</td>\n",
       "      <td>0.021115</td>\n",
       "      <td>0.123820</td>\n",
       "      <td>0.257993</td>\n",
       "      <td>20.964763</td>\n",
       "      <td>4942.777743</td>\n",
       "      <td>8.593781</td>\n",
       "      <td>0.414227</td>\n",
       "      <td>2333.552482</td>\n",
       "      <td>2227.361074</td>\n",
       "      <td>136273.815556</td>\n",
       "      <td>0.000838</td>\n",
       "      <td>0.000559</td>\n",
       "      <td>0.002730</td>\n",
       "      <td>109.423646</td>\n",
       "      <td>4.814505e+05</td>\n",
       "      <td>1316.1877</td>\n",
       "      <td>0.082961</td>\n",
       "      <td>89801.808329</td>\n",
       "      <td>30628.551895</td>\n",
       "      <td>369.152835</td>\n",
       "      <td>0.028947</td>\n",
       "      <td>0.023640</td>\n",
       "      <td>0.052251</td>\n",
       "      <td>10.460576</td>\n",
       "      <td>693.866331</td>\n",
       "      <td>36.279300</td>\n",
       "      <td>0.288029</td>\n",
       "      <td>299.669498</td>\n",
       "      <td>175.010148</td>\n",
       "    </tr>\n",
       "  </tbody>\n",
       "</table>\n",
       "</div>"
      ],
      "text/plain": [
       "   Genre         Filename       Tempo  Beats Mean  Central Moments Mean  \\\n",
       "0  blues  blues.00093.wav   58.726918  604.000000              0.001594   \n",
       "1  blues  blues.00087.wav  172.265625  603.215190              0.007801   \n",
       "2  blues  blues.00050.wav  135.999178  597.412698              0.010525   \n",
       "3  blues  blues.00044.wav  135.999178  638.373134              0.005054   \n",
       "4  blues  blues.00078.wav  123.046875  649.133333              0.021115   \n",
       "\n",
       "   Zero Crossing Rate Mean  RMSE Mean  Spectral Contrast Mean  \\\n",
       "0                 0.021697   0.065860               21.403202   \n",
       "1                 0.050869   0.157941               22.663120   \n",
       "2                 0.085791   0.182285               21.129626   \n",
       "3                 0.092525   0.136209               21.729472   \n",
       "4                 0.123820   0.257993               20.964763   \n",
       "\n",
       "   Spectral Roll-off Mean  MFCC Mean  Chroma Mean  Spectral Centroid Mean  \\\n",
       "0              929.300104  -4.548970     0.377695              570.349904   \n",
       "1             3082.603763   1.747352     0.336902             1441.680807   \n",
       "2             4174.460398   7.405733     0.401009             1945.252523   \n",
       "3             5198.686455   5.340542     0.390118             2279.031119   \n",
       "4             4942.777743   8.593781     0.414227             2333.552482   \n",
       "\n",
       "   Spectral Bandwidth Mean      Beats Var  Central Moments Var  \\\n",
       "0               995.505854  124035.769231             0.000007   \n",
       "1              1870.021373  112486.928377             0.000133   \n",
       "2              2081.763030  117180.686823             0.000246   \n",
       "3              2375.232090  134925.099577             0.000065   \n",
       "4              2227.361074  136273.815556             0.000838   \n",
       "\n",
       "   Zero Crossing Rate Var  RMSE Var  Spectral Contrast Var  \\\n",
       "0                0.000117  0.001804              29.045168   \n",
       "1                0.001155  0.002722              61.844748   \n",
       "2                0.001219  0.003976              83.527988   \n",
       "3                0.000902  0.000467              88.639974   \n",
       "4                0.000559  0.002730             109.423646   \n",
       "\n",
       "   Spectral Roll-off Var    MFCC Var  Chroma Var  Spectral Centroid Var  \\\n",
       "0           4.999722e+05  12176.3440    0.096389          104947.121639   \n",
       "1           2.195439e+06   3799.4382    0.094721          387155.803107   \n",
       "2           8.083841e+05   2153.9006    0.089657          147430.672719   \n",
       "3           5.698240e+05   2242.4602    0.086307          170912.654795   \n",
       "4           4.814505e+05   1316.1877    0.082961           89801.808329   \n",
       "\n",
       "   Spectral Bandwidth Var   Beats Std  Central Moments Std  \\\n",
       "0            84704.577580  352.187122             0.002630   \n",
       "1           146843.002778  335.390710             0.011548   \n",
       "2            73538.994378  342.316647             0.015674   \n",
       "3            52988.857635  367.321521             0.008071   \n",
       "4            30628.551895  369.152835             0.028947   \n",
       "\n",
       "   Zero Crossing Rate Std  RMSE Std  Spectral Contrast Std  \\\n",
       "0                0.010838  0.042473               5.389357   \n",
       "1                0.033986  0.052177               7.864143   \n",
       "2                0.034920  0.063054               9.139365   \n",
       "3                0.030041  0.021618               9.414880   \n",
       "4                0.023640  0.052251              10.460576   \n",
       "\n",
       "   Spectral Roll-off Std    MFCC Std  Chroma Std  Spectral Centroid Std  \\\n",
       "0             707.087129  110.346470    0.310465             323.955432   \n",
       "1            1481.701296   61.639584    0.307767             622.218453   \n",
       "2             899.101855   46.410133    0.299428             383.967020   \n",
       "3             754.866877   47.354620    0.293780             413.415838   \n",
       "4             693.866331   36.279300    0.288029             299.669498   \n",
       "\n",
       "   Spectral Bandwidth Std  \n",
       "0              291.040508  \n",
       "1              383.200995  \n",
       "2              271.180741  \n",
       "3              230.193088  \n",
       "4              175.010148  "
      ]
     },
     "execution_count": 6,
     "metadata": {},
     "output_type": "execute_result"
    }
   ],
   "source": [
    "df.head()"
   ]
  },
  {
   "cell_type": "code",
   "execution_count": 7,
   "id": "1933e309",
   "metadata": {},
   "outputs": [
    {
     "data": {
      "text/plain": [
       "array(['blues', 'classical', 'country', 'disco', 'hiphop', 'jazz',\n",
       "       'metal', 'pop', 'reggae', 'rock'], dtype=object)"
      ]
     },
     "execution_count": 7,
     "metadata": {},
     "output_type": "execute_result"
    }
   ],
   "source": [
    "df['Genre'].unique()"
   ]
  },
  {
   "cell_type": "code",
   "execution_count": 8,
   "id": "267f9ac4",
   "metadata": {},
   "outputs": [],
   "source": [
    "def play_audio(genre, num):\n",
    "    audio = f'/Users/umarkabir/Documents/Qwasar/Classical Punk/genres/{genre}/{genre}.{num}.wav'\n",
    "    data, sr = librosa.load(audio)\n",
    "    return Audio(data, rate=sr)"
   ]
  },
  {
   "cell_type": "markdown",
   "id": "6d5a1e0c",
   "metadata": {},
   "source": [
    "This function loads and plays an audio file of a specific genre and number using the librosa library. It takes two arguments, genre and num, which specify the genre of the audio and the number of the audio file within that genre, respectively."
   ]
  },
  {
   "cell_type": "code",
   "execution_count": null,
   "id": "410c4eb6",
   "metadata": {},
   "outputs": [],
   "source": [
    "play_audio('blues', '00024')"
   ]
  },
  {
   "cell_type": "code",
   "execution_count": null,
   "id": "86ef5554",
   "metadata": {},
   "outputs": [],
   "source": [
    "play_audio('classical', '00024')"
   ]
  },
  {
   "cell_type": "code",
   "execution_count": null,
   "id": "a7f5394c",
   "metadata": {},
   "outputs": [],
   "source": [
    "play_audio('country', '00024')"
   ]
  },
  {
   "cell_type": "code",
   "execution_count": null,
   "id": "27af33b9",
   "metadata": {},
   "outputs": [],
   "source": [
    "play_audio('disco', '00024')"
   ]
  },
  {
   "cell_type": "code",
   "execution_count": null,
   "id": "7e740bdc",
   "metadata": {},
   "outputs": [],
   "source": [
    "play_audio('hiphop', '00024')"
   ]
  },
  {
   "cell_type": "code",
   "execution_count": null,
   "id": "3d32cca0",
   "metadata": {},
   "outputs": [],
   "source": [
    "play_audio('jazz', '00024')"
   ]
  },
  {
   "cell_type": "code",
   "execution_count": null,
   "id": "75992ab0",
   "metadata": {},
   "outputs": [],
   "source": [
    "play_audio('metal', '00024')"
   ]
  },
  {
   "cell_type": "code",
   "execution_count": null,
   "id": "75714a2a",
   "metadata": {},
   "outputs": [],
   "source": [
    "play_audio('pop', '00024')"
   ]
  },
  {
   "cell_type": "code",
   "execution_count": null,
   "id": "7ed1e62c",
   "metadata": {},
   "outputs": [],
   "source": [
    "play_audio('reggae', '00024')"
   ]
  },
  {
   "cell_type": "code",
   "execution_count": null,
   "id": "75cf24d7",
   "metadata": {},
   "outputs": [],
   "source": [
    "play_audio('rock', '00024')"
   ]
  },
  {
   "cell_type": "markdown",
   "id": "4f1f4dd5",
   "metadata": {},
   "source": [
    "<a id='data-visualization'></a>\n",
    "<font size=\"+1\" color='#780404'><b> 4.2 Data Visualization</b></font>  \n",
    "[back to top](#table-of-contents)"
   ]
  },
  {
   "cell_type": "markdown",
   "id": "8eb346b1",
   "metadata": {},
   "source": [
    "This code generates a frequency bar chart of the 'Tempo' column in a pandas DataFrame."
   ]
  },
  {
   "cell_type": "code",
   "execution_count": null,
   "id": "6f452bb8",
   "metadata": {},
   "outputs": [],
   "source": [
    "if isinstance(df, (pd.DatetimeIndex, pd.MultiIndex)):\n",
    "\tdf = df.to_frame(index=False)\n",
    "\n",
    "df = df.reset_index().drop('index', axis=1, errors='ignore')\n",
    "df.columns = [str(c) for c in df.columns]  # update columns to strings in case they are numbers\n",
    "\n",
    "s = df[~pd.isnull(df['Tempo'])]['Tempo']\n",
    "chart = pd.value_counts(s).to_frame(name='data')\n",
    "chart.index.name = 'labels'\n",
    "chart = chart.reset_index().sort_values(['data', 'labels'], ascending=[False, True])\n",
    "chart = chart[:100]\n",
    "charts = [go.Bar(x=chart['labels'].values, y=chart['data'].values, name='Frequency')]\n",
    "figure = go.Figure(data=charts, layout=go.Layout({\n",
    "    'barmode': 'group',\n",
    "    'legend': {'orientation': 'h'},\n",
    "    'title': {'text': 'Tempo Value Counts'},\n",
    "    'xaxis': {'title': {'text': 'Tempo'}},\n",
    "    'yaxis': {'title': {'text': 'Frequency'}}\n",
    "}))\n",
    "\n",
    "from plotly.offline import iplot, init_notebook_mode\n",
    "#\n",
    "init_notebook_mode(connected=True)\n",
    "for chart in charts:\n",
    "    chart.pop('id', None) # for some reason iplot does not like 'id'\n",
    "iplot(figure)"
   ]
  },
  {
   "cell_type": "code",
   "execution_count": null,
   "id": "dac32b5f",
   "metadata": {},
   "outputs": [],
   "source": [
    "if isinstance(df, (pd.DatetimeIndex, pd.MultiIndex)):\n",
    "\tdf = df.to_frame(index=False)\n",
    "\n",
    "# remove any pre-existing indices for ease of use in the D-Tale code, but this is not required\n",
    "df = df.reset_index().drop('index', axis=1, errors='ignore')\n",
    "df.columns = [str(c) for c in df.columns]  # update columns to strings in case they are numbers\n",
    "\n",
    "s = df[~pd.isnull(df['Tempo'])][['Tempo']]\n",
    "chart, labels = np.histogram(s['Tempo'], bins=20)\n",
    "import scipy.stats as sts\n",
    "kde = sts.gaussian_kde(s['Tempo'])\n",
    "kde_data = kde.pdf(np.linspace(labels.min(), labels.max()))\n",
    "# main statistics\n",
    "stats = df['Tempo'].describe().to_frame().T\n",
    "charts = [\n",
    "\tgo.Bar(x=labels[1:], y=chart, name='Histogram'),\n",
    "\tgo.Scatter(\n",
    "\t\tx=list(range(len(kde_data))), y=kde_data, name='KDE',\t\tyaxis='y2', xaxis='x2',\t\tline={'shape': 'spline', 'smoothing': 0.3}, mode='lines'\n",
    "\t)\n",
    "]\n",
    "figure = go.Figure(data=charts, layout=go.Layout({\n",
    "    'barmode': 'group',\n",
    "    'legend': {'orientation': 'h'},\n",
    "    'title': {'text': 'Tempo Histogram (bins: 20) w/ KDE'},\n",
    "    'xaxis2': {'anchor': 'y', 'overlaying': 'x', 'side': 'top'},\n",
    "    'yaxis': {'side': 'left', 'title': {'text': 'Frequency'}},\n",
    "    'yaxis2': {'overlaying': 'y', 'side': 'right', 'title': {'text': 'KDE'}}\n",
    "}))\n",
    "\n",
    "# If you're having trouble viewing your chart in your notebook try passing your 'chart' into this snippet:\n",
    "#\n",
    "from plotly.offline import iplot, init_notebook_mode\n",
    "#\n",
    "init_notebook_mode(connected=True)\n",
    "for chart in charts:\n",
    "    chart.pop('id', None) # for some reason iplot does not like 'id'\n",
    "iplot(figure)"
   ]
  },
  {
   "cell_type": "code",
   "execution_count": null,
   "id": "ca33b804",
   "metadata": {},
   "outputs": [],
   "source": [
    "if isinstance(df, (pd.DatetimeIndex, pd.MultiIndex)):\n",
    "\tdf = df.to_frame(index=False)\n",
    "\n",
    "# remove any pre-existing indices for ease of use in the D-Tale code, but this is not required\n",
    "df = df.reset_index().drop('index', axis=1, errors='ignore')\n",
    "df.columns = [str(c) for c in df.columns]  # update columns to strings in case they are numbers\n",
    "\n",
    "s = df[~pd.isnull(df['Central Moments Mean'])][['Central Moments Mean']]\n",
    "chart, labels = np.histogram(s['Central Moments Mean'], bins=20)\n",
    "import scipy.stats as sts\n",
    "kde = sts.gaussian_kde(s['Central Moments Mean'])\n",
    "kde_data = kde.pdf(np.linspace(labels.min(), labels.max()))\n",
    "# main statistics\n",
    "stats = df['Central Moments Mean'].describe().to_frame().T\n",
    "charts = [\n",
    "\tgo.Bar(x=labels[1:], y=chart, name='Histogram'),\n",
    "\tgo.Scatter(\n",
    "\t\tx=list(range(len(kde_data))), y=kde_data, name='KDE',\t\tyaxis='y2', xaxis='x2',\t\tline={'shape': 'spline', 'smoothing': 0.3}, mode='lines'\n",
    "\t)\n",
    "]\n",
    "figure = go.Figure(data=charts, layout=go.Layout({\n",
    "    'barmode': 'group',\n",
    "    'legend': {'orientation': 'h'},\n",
    "    'title': {'text': 'Central Moments Mean Histogram (bins: 20) w/ KDE'},\n",
    "    'xaxis2': {'anchor': 'y', 'overlaying': 'x', 'side': 'top'},\n",
    "    'yaxis': {'side': 'left', 'title': {'text': 'Frequency'}},\n",
    "    'yaxis2': {'overlaying': 'y', 'side': 'right', 'title': {'text': 'KDE'}}\n",
    "}))\n",
    "\n",
    "# If you're having trouble viewing your chart in your notebook try passing your 'chart' into this snippet:\n",
    "#\n",
    "from plotly.offline import iplot, init_notebook_mode\n",
    "#\n",
    "init_notebook_mode(connected=True)\n",
    "for chart in charts:\n",
    "    chart.pop('id', None) # for some reason iplot does not like 'id'\n",
    "iplot(figure)"
   ]
  },
  {
   "cell_type": "code",
   "execution_count": null,
   "id": "eb1c9258",
   "metadata": {},
   "outputs": [],
   "source": [
    "if isinstance(df, (pd.DatetimeIndex, pd.MultiIndex)):\n",
    "\tdf = df.to_frame(index=False)\n",
    "\n",
    "# remove any pre-existing indices for ease of use in the D-Tale code, but this is not required\n",
    "df = df.reset_index().drop('index', axis=1, errors='ignore')\n",
    "df.columns = [str(c) for c in df.columns]  # update columns to strings in case they are numbers\n",
    "\n",
    "chart = df.groupby(['Filename'], dropna=False)[['Central Moments Mean']].agg(['count', 'mean'])\n",
    "chart.columns = chart.columns.droplevel(0)\n",
    "chart.columns = [\"count\", \"data\"]\n",
    "chart.index.name = 'labels'\n",
    "chart = chart.reset_index()\n",
    "chart = chart[:100]\n",
    "charts = [\n",
    "\tgo.Bar(x=chart['labels'].values, y=chart['data'].values),\n",
    "\tgo.Scatter(\n",
    "\t\tx=chart['labels'].values, y=chart['count'].values, yaxis='y2',\n",
    "\t\tname='Frequency', line={'shape': 'spline', 'smoothing': 0.3}, mode='lines'\n",
    "\t)\n",
    "]\n",
    "figure = go.Figure(data=charts, layout=go.Layout({\n",
    "    'barmode': 'group',\n",
    "    'legend': {'orientation': 'h'},\n",
    "    'title': {'text': 'Central Moments Mean(mean) Categorized by Filename'},\n",
    "    'xaxis': {'title': {'text': 'Filename'}},\n",
    "    'yaxis': {'side': 'left', 'title': {'text': 'Central Moments Mean (mean)'}},\n",
    "    'yaxis2': {'overlaying': 'y', 'side': 'right', 'title': {'text': 'Frequency'}}\n",
    "}))\n",
    "\n",
    "# If you're having trouble viewing your chart in your notebook try passing your 'chart' into this snippet:\n",
    "#\n",
    "from plotly.offline import iplot, init_notebook_mode\n",
    "#\n",
    "init_notebook_mode(connected=True)\n",
    "for chart in charts:\n",
    "    chart.pop('id', None) # for some reason iplot does not like 'id'\n",
    "iplot(figure)"
   ]
  },
  {
   "cell_type": "code",
   "execution_count": 11,
   "id": "41ff0039",
   "metadata": {},
   "outputs": [],
   "source": [
    "def show_waveform(x, num):\n",
    "    # Load WAV file\n",
    "    wav_file = f'C:/Users/Umar Kabir/Documents/Educational/Programming/Data Science/Qwasar/Classical Punk/genres/{x}/{x}.{num}.wav'\n",
    "    y, sr = librosa.load(wav_file)\n",
    "\n",
    "    # Create x-axis values\n",
    "    time = librosa.times_like(y, sr=sr)\n",
    "\n",
    "    # Create figure\n",
    "    fig, ax = plt.subplots()\n",
    "\n",
    "    # Plot waveform\n",
    "    ax.plot(time, y)\n",
    "\n",
    "    # Set labels and title\n",
    "    ax.set_xlabel('Time (s)')\n",
    "    ax.set_ylabel('Amplitude')\n",
    "    ax.set_title(f'Sample waveform for {x}')\n",
    "\n",
    "    # Show plot\n",
    "    plt.show();"
   ]
  },
  {
   "cell_type": "markdown",
   "id": "0411d650",
   "metadata": {},
   "source": [
    "This function loads a WAV file of a specific genre and number, and generates a sample waveform plot using the librosa and plotly libraries. It takes two arguments, x and num, which specify the genre of the audio and the number of the audio file within that genre, respectively."
   ]
  },
  {
   "cell_type": "code",
   "execution_count": 12,
   "id": "1c15c04c",
   "metadata": {},
   "outputs": [
    {
     "data": {
      "image/png": "[encoded data removed]",
      "text/plain": [
       "<Figure size 640x480 with 1 Axes>"
      ]
     },
     "metadata": {},
     "output_type": "display_data"
    },
    {
     "ename": "AttributeError",
     "evalue": "module 'matplotlib' has no attribute 'pyplot'",
     "output_type": "error",
     "traceback": [
      "\u001b[1;31m---------------------------------------------------------------------------\u001b[0m",
      "\u001b[1;31mAttributeError\u001b[0m                            Traceback (most recent call last)",
      "\u001b[1;32m~\\AppData\\Local\\Temp\\ipykernel_9692\\2076352913.py\u001b[0m in \u001b[0;36m<module>\u001b[1;34m\u001b[0m\n\u001b[1;32m----> 1\u001b[1;33m \u001b[0mshow_waveform\u001b[0m\u001b[1;33m(\u001b[0m\u001b[1;34m'blues'\u001b[0m\u001b[1;33m,\u001b[0m \u001b[1;34m'00090'\u001b[0m\u001b[1;33m)\u001b[0m\u001b[1;33m\u001b[0m\u001b[1;33m\u001b[0m\u001b[0m\n\u001b[0m",
      "\u001b[1;32m~\\AppData\\Local\\Temp\\ipykernel_9692\\1834587957.py\u001b[0m in \u001b[0;36mshow_waveform\u001b[1;34m(x, num)\u001b[0m\n\u001b[0;32m     19\u001b[0m \u001b[1;33m\u001b[0m\u001b[0m\n\u001b[0;32m     20\u001b[0m     \u001b[1;31m# Show plot\u001b[0m\u001b[1;33m\u001b[0m\u001b[1;33m\u001b[0m\u001b[0m\n\u001b[1;32m---> 21\u001b[1;33m     \u001b[0mplt\u001b[0m\u001b[1;33m.\u001b[0m\u001b[0mshow\u001b[0m\u001b[1;33m(\u001b[0m\u001b[1;33m)\u001b[0m\u001b[1;33m;\u001b[0m\u001b[1;33m\u001b[0m\u001b[1;33m\u001b[0m\u001b[0m\n\u001b[0m",
      "\u001b[1;32m~\\anaconda3\\lib\\site-packages\\matplotlib\\pyplot.py\u001b[0m in \u001b[0;36mshow\u001b[1;34m(*args, **kwargs)\u001b[0m\n\u001b[0;32m    387\u001b[0m     \"\"\"\n\u001b[0;32m    388\u001b[0m     \u001b[0m_warn_if_gui_out_of_main_thread\u001b[0m\u001b[1;33m(\u001b[0m\u001b[1;33m)\u001b[0m\u001b[1;33m\u001b[0m\u001b[1;33m\u001b[0m\u001b[0m\n\u001b[1;32m--> 389\u001b[1;33m     \u001b[1;32mreturn\u001b[0m \u001b[0m_get_backend_mod\u001b[0m\u001b[1;33m(\u001b[0m\u001b[1;33m)\u001b[0m\u001b[1;33m.\u001b[0m\u001b[0mshow\u001b[0m\u001b[1;33m(\u001b[0m\u001b[1;33m*\u001b[0m\u001b[0margs\u001b[0m\u001b[1;33m,\u001b[0m \u001b[1;33m**\u001b[0m\u001b[0mkwargs\u001b[0m\u001b[1;33m)\u001b[0m\u001b[1;33m\u001b[0m\u001b[1;33m\u001b[0m\u001b[0m\n\u001b[0m\u001b[0;32m    390\u001b[0m \u001b[1;33m\u001b[0m\u001b[0m\n\u001b[0;32m    391\u001b[0m \u001b[1;33m\u001b[0m\u001b[0m\n",
      "\u001b[1;32m~\\anaconda3\\lib\\site-packages\\matplotlib_inline\\backend_inline.py\u001b[0m in \u001b[0;36mshow\u001b[1;34m(close, block)\u001b[0m\n\u001b[0;32m     97\u001b[0m         \u001b[1;31m# close triggers gc.collect, which can be slow\u001b[0m\u001b[1;33m\u001b[0m\u001b[1;33m\u001b[0m\u001b[0m\n\u001b[0;32m     98\u001b[0m         \u001b[1;32mif\u001b[0m \u001b[0mclose\u001b[0m \u001b[1;32mand\u001b[0m \u001b[0mGcf\u001b[0m\u001b[1;33m.\u001b[0m\u001b[0mget_all_fig_managers\u001b[0m\u001b[1;33m(\u001b[0m\u001b[1;33m)\u001b[0m\u001b[1;33m:\u001b[0m\u001b[1;33m\u001b[0m\u001b[1;33m\u001b[0m\u001b[0m\n\u001b[1;32m---> 99\u001b[1;33m             \u001b[0mmatplotlib\u001b[0m\u001b[1;33m.\u001b[0m\u001b[0mpyplot\u001b[0m\u001b[1;33m.\u001b[0m\u001b[0mclose\u001b[0m\u001b[1;33m(\u001b[0m\u001b[1;34m'all'\u001b[0m\u001b[1;33m)\u001b[0m\u001b[1;33m\u001b[0m\u001b[1;33m\u001b[0m\u001b[0m\n\u001b[0m\u001b[0;32m    100\u001b[0m \u001b[1;33m\u001b[0m\u001b[0m\n\u001b[0;32m    101\u001b[0m \u001b[1;33m\u001b[0m\u001b[0m\n",
      "\u001b[1;32m~\\anaconda3\\lib\\site-packages\\matplotlib\\_api\\__init__.py\u001b[0m in \u001b[0;36m__getattr__\u001b[1;34m(name)\u001b[0m\n\u001b[0;32m    220\u001b[0m         \u001b[1;32mif\u001b[0m \u001b[0mname\u001b[0m \u001b[1;32min\u001b[0m \u001b[0mprops\u001b[0m\u001b[1;33m:\u001b[0m\u001b[1;33m\u001b[0m\u001b[1;33m\u001b[0m\u001b[0m\n\u001b[0;32m    221\u001b[0m             \u001b[1;32mreturn\u001b[0m \u001b[0mprops\u001b[0m\u001b[1;33m[\u001b[0m\u001b[0mname\u001b[0m\u001b[1;33m]\u001b[0m\u001b[1;33m.\u001b[0m\u001b[0m__get__\u001b[0m\u001b[1;33m(\u001b[0m\u001b[0minstance\u001b[0m\u001b[1;33m)\u001b[0m\u001b[1;33m\u001b[0m\u001b[1;33m\u001b[0m\u001b[0m\n\u001b[1;32m--> 222\u001b[1;33m         raise AttributeError(\n\u001b[0m\u001b[0;32m    223\u001b[0m             f\"module {cls.__module__!r} has no attribute {name!r}\")\n\u001b[0;32m    224\u001b[0m \u001b[1;33m\u001b[0m\u001b[0m\n",
      "\u001b[1;31mAttributeError\u001b[0m: module 'matplotlib' has no attribute 'pyplot'"
     ]
    },
    {
     "data": {
      "image/png": "[encoded data removed]",
      "text/plain": [
       "<Figure size 640x480 with 1 Axes>"
      ]
     },
     "metadata": {},
     "output_type": "display_data"
    },
    {
     "ename": "AttributeError",
     "evalue": "module 'matplotlib' has no attribute 'pyplot'",
     "output_type": "error",
     "traceback": [
      "\u001b[1;31m---------------------------------------------------------------------------\u001b[0m",
      "\u001b[1;31mAttributeError\u001b[0m                            Traceback (most recent call last)",
      "\u001b[1;32m~\\anaconda3\\lib\\site-packages\\matplotlib_inline\\backend_inline.py\u001b[0m in \u001b[0;36mshow\u001b[1;34m(close, block)\u001b[0m\n\u001b[0;32m     97\u001b[0m         \u001b[1;31m# close triggers gc.collect, which can be slow\u001b[0m\u001b[1;33m\u001b[0m\u001b[1;33m\u001b[0m\u001b[0m\n\u001b[0;32m     98\u001b[0m         \u001b[1;32mif\u001b[0m \u001b[0mclose\u001b[0m \u001b[1;32mand\u001b[0m \u001b[0mGcf\u001b[0m\u001b[1;33m.\u001b[0m\u001b[0mget_all_fig_managers\u001b[0m\u001b[1;33m(\u001b[0m\u001b[1;33m)\u001b[0m\u001b[1;33m:\u001b[0m\u001b[1;33m\u001b[0m\u001b[1;33m\u001b[0m\u001b[0m\n\u001b[1;32m---> 99\u001b[1;33m             \u001b[0mmatplotlib\u001b[0m\u001b[1;33m.\u001b[0m\u001b[0mpyplot\u001b[0m\u001b[1;33m.\u001b[0m\u001b[0mclose\u001b[0m\u001b[1;33m(\u001b[0m\u001b[1;34m'all'\u001b[0m\u001b[1;33m)\u001b[0m\u001b[1;33m\u001b[0m\u001b[1;33m\u001b[0m\u001b[0m\n\u001b[0m\u001b[0;32m    100\u001b[0m \u001b[1;33m\u001b[0m\u001b[0m\n\u001b[0;32m    101\u001b[0m \u001b[1;33m\u001b[0m\u001b[0m\n",
      "\u001b[1;32m~\\anaconda3\\lib\\site-packages\\matplotlib\\_api\\__init__.py\u001b[0m in \u001b[0;36m__getattr__\u001b[1;34m(name)\u001b[0m\n\u001b[0;32m    220\u001b[0m         \u001b[1;32mif\u001b[0m \u001b[0mname\u001b[0m \u001b[1;32min\u001b[0m \u001b[0mprops\u001b[0m\u001b[1;33m:\u001b[0m\u001b[1;33m\u001b[0m\u001b[1;33m\u001b[0m\u001b[0m\n\u001b[0;32m    221\u001b[0m             \u001b[1;32mreturn\u001b[0m \u001b[0mprops\u001b[0m\u001b[1;33m[\u001b[0m\u001b[0mname\u001b[0m\u001b[1;33m]\u001b[0m\u001b[1;33m.\u001b[0m\u001b[0m__get__\u001b[0m\u001b[1;33m(\u001b[0m\u001b[0minstance\u001b[0m\u001b[1;33m)\u001b[0m\u001b[1;33m\u001b[0m\u001b[1;33m\u001b[0m\u001b[0m\n\u001b[1;32m--> 222\u001b[1;33m         raise AttributeError(\n\u001b[0m\u001b[0;32m    223\u001b[0m             f\"module {cls.__module__!r} has no attribute {name!r}\")\n\u001b[0;32m    224\u001b[0m \u001b[1;33m\u001b[0m\u001b[0m\n",
      "\u001b[1;31mAttributeError\u001b[0m: module 'matplotlib' has no attribute 'pyplot'"
     ]
    }
   ],
   "source": [
    "show_waveform('blues', '00090')"
   ]
  },
  {
   "cell_type": "code",
   "execution_count": null,
   "id": "957903dc",
   "metadata": {},
   "outputs": [],
   "source": [
    "show_waveform('classical', '00090')"
   ]
  },
  {
   "cell_type": "code",
   "execution_count": null,
   "id": "bee228c3",
   "metadata": {},
   "outputs": [],
   "source": [
    "show_waveform('country', '00090')"
   ]
  },
  {
   "cell_type": "code",
   "execution_count": null,
   "id": "1bd1cf5b",
   "metadata": {},
   "outputs": [],
   "source": [
    "show_waveform('disco', '00090')"
   ]
  },
  {
   "cell_type": "code",
   "execution_count": null,
   "id": "876baecf",
   "metadata": {},
   "outputs": [],
   "source": [
    "show_waveform('hiphop', '00090')"
   ]
  },
  {
   "cell_type": "code",
   "execution_count": null,
   "id": "5a189dbf",
   "metadata": {},
   "outputs": [],
   "source": [
    "show_waveform('jazz', '00090')"
   ]
  },
  {
   "cell_type": "code",
   "execution_count": null,
   "id": "f0a7ced2",
   "metadata": {},
   "outputs": [],
   "source": [
    "show_waveform('metal', '00090')"
   ]
  },
  {
   "cell_type": "code",
   "execution_count": null,
   "id": "bdfd6d8a",
   "metadata": {},
   "outputs": [],
   "source": [
    "show_waveform('pop', '00090')"
   ]
  },
  {
   "cell_type": "code",
   "execution_count": null,
   "id": "9000f1dc",
   "metadata": {},
   "outputs": [],
   "source": [
    "show_waveform('reggae', '00090')"
   ]
  },
  {
   "cell_type": "code",
   "execution_count": null,
   "id": "8816d89f",
   "metadata": {},
   "outputs": [],
   "source": [
    "show_waveform('rock', '00090')"
   ]
  },
  {
   "cell_type": "code",
   "execution_count": null,
   "id": "d9306be9",
   "metadata": {},
   "outputs": [],
   "source": [
    "def show_spectogram(x, num):\n",
    "    # Load audio file\n",
    "    audio_path = f'/Users/umarkabir/Documents/Qwasar/Classical Punk/genres/{x}/{x}.{num}.wav'\n",
    "    y, sr = librosa.load(audio_path)\n",
    "\n",
    "    # Calculate spectrogram\n",
    "    S = librosa.feature.melspectrogram(y=y, sr=sr, n_mels=128, fmax=8000)\n",
    "\n",
    "    # Convert to decibels\n",
    "    S_dB = librosa.power_to_db(S, ref=np.max)\n",
    "\n",
    "    # Create figure\n",
    "    fig = go.Figure()\n",
    "\n",
    "    # Add heatmap trace\n",
    "    fig.add_trace(go.Heatmap(\n",
    "        z=S_dB,\n",
    "        x=np.arange(0, S_dB.shape[1]),\n",
    "        y=np.arange(0, 8000, 8000/128),\n",
    "        colorscale='Viridis'\n",
    "    ))\n",
    "\n",
    "    # Set x and y axis labels\n",
    "    fig.update_xaxes(title_text='Time')\n",
    "    fig.update_yaxes(title_text='Frequency (Hz)')\n",
    "\n",
    "    # Set figure title\n",
    "    fig.update_layout(title_text=f'Sample spectrogram for {x}')\n",
    "\n",
    "    # Show figure\n",
    "    fig.show()\n"
   ]
  },
  {
   "cell_type": "markdown",
   "id": "a49d5198",
   "metadata": {},
   "source": [
    "This function loads a WAV file of a specific genre and number, and generates a sample spectrogram plot using the librosa and plotly libraries. It takes two arguments, x and num, which specify the genre of the audio and the number of the audio file within that genre, respectively."
   ]
  },
  {
   "cell_type": "code",
   "execution_count": null,
   "id": "707e48b4",
   "metadata": {},
   "outputs": [],
   "source": [
    "show_spectogram('blues', '00090')"
   ]
  },
  {
   "cell_type": "code",
   "execution_count": null,
   "id": "e6419f28",
   "metadata": {},
   "outputs": [],
   "source": [
    "show_spectogram('classical', '00090')"
   ]
  },
  {
   "cell_type": "code",
   "execution_count": null,
   "id": "0c9e458c",
   "metadata": {},
   "outputs": [],
   "source": [
    "show_spectogram('country', '00090')"
   ]
  },
  {
   "cell_type": "code",
   "execution_count": null,
   "id": "21b3f60d",
   "metadata": {},
   "outputs": [],
   "source": [
    "show_spectogram('disco', '00090')"
   ]
  },
  {
   "cell_type": "code",
   "execution_count": null,
   "id": "18da7410",
   "metadata": {},
   "outputs": [],
   "source": [
    "show_spectogram('hiphop', '00090')"
   ]
  },
  {
   "cell_type": "code",
   "execution_count": null,
   "id": "2bb37527",
   "metadata": {},
   "outputs": [],
   "source": [
    "show_spectogram('jazz', '00090')"
   ]
  },
  {
   "cell_type": "code",
   "execution_count": null,
   "id": "b1a8ee92",
   "metadata": {},
   "outputs": [],
   "source": [
    "show_spectogram('metal', '00090')"
   ]
  },
  {
   "cell_type": "code",
   "execution_count": null,
   "id": "14edbc14",
   "metadata": {},
   "outputs": [],
   "source": [
    "show_spectogram('pop', '00090')"
   ]
  },
  {
   "cell_type": "code",
   "execution_count": null,
   "id": "d0fb07ee",
   "metadata": {},
   "outputs": [],
   "source": [
    "show_spectogram('reggae', '00090')"
   ]
  },
  {
   "cell_type": "code",
   "execution_count": null,
   "id": "b091da99",
   "metadata": {},
   "outputs": [],
   "source": [
    "show_spectogram('rock', '00090')"
   ]
  },
  {
   "cell_type": "code",
   "execution_count": null,
   "id": "7e09f096",
   "metadata": {},
   "outputs": [],
   "source": [
    "def show_sr(x, num):\n",
    "        # Load audio file\n",
    "    audio_path = f'/Users/umarkabir/Documents/Qwasar/Classical Punk/genres/{x}/{x}.{num}.wav'\n",
    "    y, sr = librosa.load(audio_path)\n",
    "\n",
    "    # Compute spectral rolloff\n",
    "    spectral_rolloff = librosa.feature.spectral_rolloff(y=y, sr=sr)[0]\n",
    "\n",
    "    # Create plotly trace\n",
    "    trace = go.Scatter(\n",
    "        x=[i for i in range(len(spectral_rolloff))],\n",
    "        y=spectral_rolloff,\n",
    "        mode='lines',\n",
    "        name='Spectral Rolloff'\n",
    "    )\n",
    "\n",
    "    # Create plot layout\n",
    "    layout = go.Layout(\n",
    "        title=f'Sample spectral rolloff for {x}',\n",
    "        xaxis=dict(title='Frame'),\n",
    "        yaxis=dict(title='Frequency (Hz)')\n",
    "    )\n",
    "\n",
    "    # Create plot\n",
    "    fig = go.Figure(data=[trace], layout=layout)\n",
    "    fig.show()\n"
   ]
  },
  {
   "cell_type": "markdown",
   "id": "18f6796c",
   "metadata": {},
   "source": [
    "This function show_sr(x, num) loads an audio file and computes the spectral rolloff. It then creates a Plotly line plot of the spectral rolloff values with the x-axis representing the frame and the y-axis representing frequency in Hz. The title of the plot is set to \"Sample spectral rolloff for x\", where x is the name of the audio file."
   ]
  },
  {
   "cell_type": "code",
   "execution_count": null,
   "id": "57524963",
   "metadata": {},
   "outputs": [],
   "source": [
    "show_sr('blues', '00090')"
   ]
  },
  {
   "cell_type": "code",
   "execution_count": null,
   "id": "decd94cf",
   "metadata": {},
   "outputs": [],
   "source": [
    "show_sr('classical', '00090')"
   ]
  },
  {
   "cell_type": "code",
   "execution_count": null,
   "id": "d610bcd8",
   "metadata": {},
   "outputs": [],
   "source": [
    "show_sr('country', '00090')"
   ]
  },
  {
   "cell_type": "code",
   "execution_count": null,
   "id": "d922f2a5",
   "metadata": {},
   "outputs": [],
   "source": [
    "show_sr('disco', '00090')"
   ]
  },
  {
   "cell_type": "code",
   "execution_count": null,
   "id": "8e2d652c",
   "metadata": {},
   "outputs": [],
   "source": [
    "show_sr('hiphop', '00090')"
   ]
  },
  {
   "cell_type": "code",
   "execution_count": null,
   "id": "d8d93428",
   "metadata": {},
   "outputs": [],
   "source": [
    "show_sr('jazz', '00090')"
   ]
  },
  {
   "cell_type": "code",
   "execution_count": null,
   "id": "b48545f1",
   "metadata": {},
   "outputs": [],
   "source": [
    "show_sr('metal', '00090')"
   ]
  },
  {
   "cell_type": "code",
   "execution_count": null,
   "id": "80aa997c",
   "metadata": {},
   "outputs": [],
   "source": [
    "show_sr('pop', '00090')"
   ]
  },
  {
   "cell_type": "code",
   "execution_count": null,
   "id": "438cd617",
   "metadata": {},
   "outputs": [],
   "source": [
    "show_sr('reggae', '00090')"
   ]
  },
  {
   "cell_type": "code",
   "execution_count": null,
   "id": "d9255df1",
   "metadata": {},
   "outputs": [],
   "source": [
    "show_sr('rock', '00090')"
   ]
  },
  {
   "cell_type": "code",
   "execution_count": null,
   "id": "35f44e51",
   "metadata": {},
   "outputs": [],
   "source": [
    "def show_chroma(x, num):\n",
    "    # Load audio file\n",
    "    audio_path = f'/Users/umarkabir/Documents/Qwasar/Classical Punk/genres/{x}/{x}.{num}.wav'\n",
    "    y, sr = librosa.load(audio_path)\n",
    "\n",
    "    # Compute chroma feature\n",
    "    chroma = librosa.feature.chroma_stft(y=y, sr=sr)\n",
    "\n",
    "    # Create time axis in seconds\n",
    "    time = librosa.frames_to_time(np.arange(chroma.shape[1]), sr=sr)\n",
    "\n",
    "    # Create chroma note names\n",
    "    chroma_note_names = ['C', 'C#', 'D', 'D#', 'E', 'F', 'F#', 'G', 'G#', 'A', 'A#', 'B']\n",
    "\n",
    "    # Create heatmap trace\n",
    "    trace = go.Heatmap(\n",
    "        x=time,\n",
    "        y=chroma_note_names,\n",
    "        z=chroma,\n",
    "        colorscale='Viridis',\n",
    "    )\n",
    "\n",
    "    # Set layout\n",
    "    layout = go.Layout(\n",
    "        title=f'Sample chroma feature for {x}',\n",
    "        xaxis=dict(title='Time (s)'),\n",
    "        yaxis=dict(title='Chroma Note')\n",
    "    )\n",
    "\n",
    "    # Create figure and plot\n",
    "    fig = go.Figure(data=[trace], layout=layout)\n",
    "    fig.show()\n"
   ]
  },
  {
   "cell_type": "markdown",
   "id": "8af4e47c",
   "metadata": {},
   "source": [
    "This function takes in two arguments x and num representing the music genre and the song number, respectively. It then loads the corresponding audio file and computes the chroma feature using librosa's chroma_stft function. It creates a time axis in seconds using frames_to_time function, and chroma note names as a list. It then creates a heatmap trace using go.Heatmap with time as the x-axis, chroma_note_names as the y-axis, and chroma as the z-axis. Finally, it sets the layout with appropriate x and y axis titles, and a title for the figure. It shows the resulting figure using fig.show()."
   ]
  },
  {
   "cell_type": "code",
   "execution_count": null,
   "id": "542a0df2",
   "metadata": {},
   "outputs": [],
   "source": [
    "show_chroma('blues', '00090')"
   ]
  },
  {
   "cell_type": "code",
   "execution_count": null,
   "id": "112da3fe",
   "metadata": {},
   "outputs": [],
   "source": [
    "show_chroma('classical', '00090')"
   ]
  },
  {
   "cell_type": "code",
   "execution_count": null,
   "id": "4d0239bb",
   "metadata": {},
   "outputs": [],
   "source": [
    "show_chroma('country', '00090')"
   ]
  },
  {
   "cell_type": "code",
   "execution_count": null,
   "id": "bc1ecfa5",
   "metadata": {},
   "outputs": [],
   "source": [
    "show_chroma('disco', '00090')"
   ]
  },
  {
   "cell_type": "code",
   "execution_count": null,
   "id": "c499765a",
   "metadata": {},
   "outputs": [],
   "source": [
    "show_chroma('hiphop', '00090')"
   ]
  },
  {
   "cell_type": "code",
   "execution_count": null,
   "id": "1119741c",
   "metadata": {},
   "outputs": [],
   "source": [
    "show_chroma('jazz', '00090')"
   ]
  },
  {
   "cell_type": "code",
   "execution_count": null,
   "id": "067380b2",
   "metadata": {},
   "outputs": [],
   "source": [
    "show_chroma('metal', '00090')"
   ]
  },
  {
   "cell_type": "code",
   "execution_count": null,
   "id": "52443761",
   "metadata": {},
   "outputs": [],
   "source": [
    "show_chroma('pop', '00090')"
   ]
  },
  {
   "cell_type": "code",
   "execution_count": null,
   "id": "9cdb4749",
   "metadata": {},
   "outputs": [],
   "source": [
    "show_chroma('reggae', '00090')"
   ]
  },
  {
   "cell_type": "code",
   "execution_count": null,
   "id": "43e07a39",
   "metadata": {},
   "outputs": [],
   "source": [
    "show_chroma('rock', '00090')"
   ]
  },
  {
   "cell_type": "code",
   "execution_count": null,
   "id": "9aa9768c",
   "metadata": {},
   "outputs": [],
   "source": [
    "def show_zcr(x, num):\n",
    "    # Load audio file\n",
    "    audio_path = f'/Users/umarkabir/Documents/Qwasar/Classical Punk/genres/{x}/{x}.{num}.wav'\n",
    "    y, sr = librosa.load(audio_path)\n",
    "\n",
    "    # Compute zero crossing rate\n",
    "    zcr = librosa.feature.zero_crossing_rate(y)\n",
    "\n",
    "    # Create Plotly figure\n",
    "    fig = go.Figure(data=go.Scatter(x=librosa.times_like(zcr), y=zcr[0]))\n",
    "    fig.update_layout(title=f'Zero Crossing Rate for {x} Genre', xaxis_title='Time (s)', yaxis_title='ZCR')\n",
    "    fig.show()"
   ]
  },
  {
   "cell_type": "markdown",
   "id": "ae85dd14",
   "metadata": {},
   "source": [
    "The show_zcr function takes in two arguments: x, which represents the genre of the music file, and num, which represents the number of the music file. It calculates the zero-crossing rate of the audio file and plots it using Plotly. "
   ]
  },
  {
   "cell_type": "code",
   "execution_count": null,
   "id": "54d0d13d",
   "metadata": {},
   "outputs": [],
   "source": [
    "show_zcr('blues', '00090')"
   ]
  },
  {
   "cell_type": "code",
   "execution_count": null,
   "id": "6dc43cbb",
   "metadata": {},
   "outputs": [],
   "source": [
    "show_zcr('classical', '00090')"
   ]
  },
  {
   "cell_type": "code",
   "execution_count": null,
   "id": "107ae409",
   "metadata": {},
   "outputs": [],
   "source": [
    "show_zcr('country', '00090')"
   ]
  },
  {
   "cell_type": "code",
   "execution_count": null,
   "id": "ee23dbf9",
   "metadata": {},
   "outputs": [],
   "source": [
    "show_zcr('disco', '00090')"
   ]
  },
  {
   "cell_type": "code",
   "execution_count": null,
   "id": "9917b09f",
   "metadata": {},
   "outputs": [],
   "source": [
    "show_zcr('hiphop', '00090')"
   ]
  },
  {
   "cell_type": "code",
   "execution_count": null,
   "id": "76b38f34",
   "metadata": {},
   "outputs": [],
   "source": [
    "show_zcr('jazz', '00090')"
   ]
  },
  {
   "cell_type": "code",
   "execution_count": null,
   "id": "6e7c6909",
   "metadata": {},
   "outputs": [],
   "source": [
    "show_zcr('pop', '00090')"
   ]
  },
  {
   "cell_type": "code",
   "execution_count": null,
   "id": "b1df2b20",
   "metadata": {},
   "outputs": [],
   "source": [
    "show_zcr('reggae', '00090')"
   ]
  },
  {
   "cell_type": "code",
   "execution_count": null,
   "id": "a2e37627",
   "metadata": {},
   "outputs": [],
   "source": [
    "show_zcr('rock', '00090')"
   ]
  },
  {
   "cell_type": "markdown",
   "id": "d642835c",
   "metadata": {},
   "source": [
    "<a id='summary-statistics'></a>\n",
    "<font size=\"+1\" color='#780404'><b> 4.3 Summary Statistics</b></font>  \n",
    "[back to top](#table-of-contents)"
   ]
  },
  {
   "cell_type": "code",
   "execution_count": null,
   "id": "4bd55d2a",
   "metadata": {},
   "outputs": [],
   "source": [
    "df.describe(include='all')"
   ]
  },
  {
   "cell_type": "code",
   "execution_count": null,
   "id": "33f9aa3d",
   "metadata": {},
   "outputs": [],
   "source": [
    "import plotly.graph_objs as go\n",
    "import numpy as np\n",
    "\n",
    "def skew_kurt(data, col):\n",
    "    # Calculate skewness and kurtosis of column\n",
    "    _skewness = data[col].skew()\n",
    "    _kurtosis = data[col].kurtosis()\n",
    "\n",
    "    # Create histogram of column with mean, median, and mode\n",
    "    fig = go.Figure()\n",
    "    fig.add_trace(go.Histogram(x=data[col], nbinsx=20, histnorm='density'))\n",
    "    fig.add_shape(\n",
    "        type='line',\n",
    "        x0=data[col].mean(),\n",
    "        x1=data[col].mean(),\n",
    "        y0=0,\n",
    "        y1=1,\n",
    "        line=dict(color='red', dash='dash')\n",
    "    )\n",
    "    fig.add_shape(\n",
    "        type='line',\n",
    "        x0=data[col].median(),\n",
    "        x1=data[col].median(),\n",
    "        y0=0,\n",
    "        y1=1,\n",
    "        line=dict(color='green', dash='dash')\n",
    "    )\n",
    "    fig.add_shape(\n",
    "        type='line',\n",
    "        x0=data[col].mode()[0],\n",
    "        x1=data[col].mode()[0],\n",
    "        y0=0,\n",
    "        y1=1,\n",
    "        line=dict(color='blue', dash='dash')\n",
    "    )\n",
    "    fig.update_layout(\n",
    "        title='Distribution of ' + col,\n",
    "        xaxis_title=col,\n",
    "        yaxis_title='Density'\n",
    "    )\n",
    "\n",
    "    # Add text annotation for skewness and kurtosis values\n",
    "    annotations = [\n",
    "        dict(\n",
    "            x=0.5,\n",
    "            y=0.9,\n",
    "            xref='paper',\n",
    "            yref='paper',\n",
    "            text='Skewness: {:.2f}'.format(_skewness),\n",
    "            showarrow=False\n",
    "        ),\n",
    "        dict(\n",
    "            x=0.5,\n",
    "            y=0.85,\n",
    "            xref='paper',\n",
    "            yref='paper',\n",
    "            text='Kurtosis: {:.2f}'.format(_kurtosis),\n",
    "            showarrow=False\n",
    "        )\n",
    "    ]\n",
    "    fig.update_layout(annotations=annotations)\n",
    "\n",
    "    fig.show()\n"
   ]
  },
  {
   "cell_type": "code",
   "execution_count": null,
   "id": "516f48ff",
   "metadata": {
    "scrolled": false
   },
   "outputs": [],
   "source": [
    "skew_kurt(df[df['Genre'] == 'blues'], 'Tempo')"
   ]
  },
  {
   "cell_type": "code",
   "execution_count": null,
   "id": "9fc0cf94",
   "metadata": {},
   "outputs": [],
   "source": [
    "skew_kurt(df[df['Genre'] == 'classical'], 'Tempo')"
   ]
  },
  {
   "cell_type": "code",
   "execution_count": null,
   "id": "2847578b",
   "metadata": {},
   "outputs": [],
   "source": [
    "skew_kurt(df[df['Genre'] == 'country'], 'Tempo')"
   ]
  },
  {
   "cell_type": "code",
   "execution_count": null,
   "id": "f3758ce5",
   "metadata": {},
   "outputs": [],
   "source": [
    "skew_kurt(df[df['Genre'] == 'disco'], 'Tempo')"
   ]
  },
  {
   "cell_type": "code",
   "execution_count": null,
   "id": "8d668351",
   "metadata": {},
   "outputs": [],
   "source": [
    "skew_kurt(df[df['Genre'] == 'hiphop'], 'Tempo')"
   ]
  },
  {
   "cell_type": "code",
   "execution_count": null,
   "id": "5306d4f8",
   "metadata": {},
   "outputs": [],
   "source": [
    "skew_kurt(df[df['Genre'] == 'jazz'], 'Tempo')"
   ]
  },
  {
   "cell_type": "code",
   "execution_count": null,
   "id": "c093d5d4",
   "metadata": {},
   "outputs": [],
   "source": [
    "skew_kurt(df[df['Genre'] == 'metal'], 'Tempo')"
   ]
  },
  {
   "cell_type": "code",
   "execution_count": null,
   "id": "9e0cc118",
   "metadata": {},
   "outputs": [],
   "source": [
    "skew_kurt(df[df['Genre'] == 'pop'], 'Tempo')"
   ]
  },
  {
   "cell_type": "code",
   "execution_count": null,
   "id": "3422ccf8",
   "metadata": {},
   "outputs": [],
   "source": [
    "skew_kurt(df[df['Genre'] == 'reggae'], 'Tempo')"
   ]
  },
  {
   "cell_type": "code",
   "execution_count": null,
   "id": "90db7508",
   "metadata": {},
   "outputs": [],
   "source": [
    "skew_kurt(df[df['Genre'] == 'rock'], 'Tempo')"
   ]
  },
  {
   "cell_type": "markdown",
   "id": "67ea1afa",
   "metadata": {},
   "source": [
    "<a id='feature-correlation'></a>\n",
    "<font size=\"+1\" color='#780404'><b> 4.4 Feature Correlation</b></font>  \n",
    "[back to top](#table-of-contents)"
   ]
  },
  {
   "cell_type": "code",
   "execution_count": null,
   "id": "8aad7e9b",
   "metadata": {},
   "outputs": [],
   "source": [
    "df_corr = df.corr()"
   ]
  },
  {
   "cell_type": "code",
   "execution_count": null,
   "id": "7b02106e",
   "metadata": {},
   "outputs": [],
   "source": [
    "# Compute correlation matrix\n",
    "\n",
    "# Set figure size and font sizes\n",
    "fig, ax = plt.subplots(figsize=(50, 50))\n",
    "sns.set(font_scale=1.9)\n",
    "\n",
    "# Plot heatmap with adjusted color map\n",
    "sns.heatmap(df_corr, cmap='coolwarm', annot=True, center=0, square=True)\n",
    "\n",
    "# Adjust font size of features\n",
    "ax.set_xticklabels(ax.get_xticklabels(), fontsize=35)\n",
    "ax.set_yticklabels(ax.get_yticklabels(), fontsize=35)\n",
    "\n",
    "# Add title and axis labels\n",
    "plt.title('Correlation Matrix', fontsize=30)\n",
    "plt.xlabel('Features', fontsize=20)\n",
    "plt.ylabel('Features', fontsize=20)\n",
    "\n",
    "# Show plot\n",
    "plt.show()"
   ]
  },
  {
   "cell_type": "code",
   "execution_count": null,
   "id": "2a10b99d",
   "metadata": {},
   "outputs": [],
   "source": []
  },
  {
   "cell_type": "markdown",
   "id": "1727a626",
   "metadata": {},
   "source": [
    "<a id='data-preparation'></a>\n",
    "<font size=\"+2\" color='#053c96'><b> 5. Data Preparation</b></font>  \n",
    "[back to top](#table-of-contents)"
   ]
  },
  {
   "cell_type": "markdown",
   "id": "8a5fc006",
   "metadata": {},
   "source": [
    "<a id='data-cleaning'></a>\n",
    "<font size=\"+1\" color='#780404'><b> 5.1 Data Cleaning</b></font>  \n",
    "[back to top](#table-of-contents)"
   ]
  },
  {
   "cell_type": "markdown",
   "id": "96ab2b48",
   "metadata": {},
   "source": [
    "<a id='feature-engineering'></a>\n",
    "<font size=\"+1\" color='#780404'><b> 5.2 Feature Engineering</b></font>  \n",
    "[back to top](#table-of-contents)"
   ]
  },
  {
   "cell_type": "markdown",
   "id": "6cff5001",
   "metadata": {},
   "source": [
    "<a id='data-transformation'></a>\n",
    "<font size=\"+1\" color='#780404'><b> 5.3 Data Transformation</b></font>  \n",
    "[back to top](#table-of-contents)\n",
    "<a id='modeling'></a>"
   ]
  },
  {
   "cell_type": "markdown",
   "id": "3d43353f",
   "metadata": {},
   "source": [
    "<a id='modeling'></a>\n",
    "\n",
    "<font size=\"+2\" color='#053c96'><b> 6. Modeling</b></font>  \n",
    "[back to top](#table-of-contents)"
   ]
  },
  {
   "cell_type": "markdown",
   "id": "aa5ddcd8",
   "metadata": {},
   "source": [
    "<a id='model-selection'></a>\n",
    "\n",
    "<font size=\"+1\" color='#780404'><b> 6.1 Model Selection</b></font>  \n",
    "[back to top](#table-of-contents)"
   ]
  },
  {
   "cell_type": "markdown",
   "id": "dcadadaf",
   "metadata": {},
   "source": [
    "<a id='model-training'></a>\n",
    "\n",
    "<font size=\"+1\" color='#780404'><b> 6.2 Model Training</b></font>  \n",
    "[back to top](#table-of-contents)"
   ]
  },
  {
   "cell_type": "markdown",
   "id": "43d33277",
   "metadata": {},
   "source": [
    "<a id='model-evaluation'></a>\n",
    "\n",
    "<font size=\"+1\" color='#780404'><b> 6.3 Model Evaluation</b></font>  \n",
    "[back to top](#table-of-contents)"
   ]
  },
  {
   "cell_type": "markdown",
   "id": "00084baf",
   "metadata": {},
   "source": [
    "<a id='hyperparameter-tuning'></a>\n",
    "<font size=\"+1\" color='#780404'><b> 6.4 Hyperparameter Tuning</b></font>  \n",
    "[back to top](#table-of-contents)"
   ]
  },
  {
   "cell_type": "markdown",
   "id": "e091e1e0",
   "metadata": {},
   "source": [
    "<a id='results'></a>\n",
    "<font size=\"+2\" color='#053c96'><b> 7. Results</b></font>  \n",
    "[back to top](#table-of-contents)"
   ]
  },
  {
   "cell_type": "markdown",
   "id": "baa9d457",
   "metadata": {},
   "source": [
    "<a id='analysis-results'></a>\n",
    "\n",
    "<font size=\"+1\" color='#780404'><b> 7.1 Analysis Results</b></font>  \n",
    "[back to top](#table-of-contents)"
   ]
  },
  {
   "cell_type": "markdown",
   "id": "daea103b",
   "metadata": {},
   "source": [
    "<a id='model-performance'></a>\n",
    "\n",
    "<font size=\"+1\" color='#780404'><b> 7.2 Model Performance</b></font>  \n",
    "[back to top](#table-of-contents)"
   ]
  },
  {
   "cell_type": "markdown",
   "id": "eaae1f46",
   "metadata": {},
   "source": [
    "<a id='feature-importance'></a>\n",
    "\n",
    "<font size=\"+1\" color='#780404'><b> 7.3 Feature Importance</b></font>  \n",
    "[back to top](#table-of-contents)"
   ]
  },
  {
   "cell_type": "markdown",
   "id": "a7b54eb5",
   "metadata": {},
   "source": [
    "<a id='implications'></a>\n",
    "\n",
    "<font size=\"+1\" color='#780404'><b> 7.4 Implications</b></font>  \n",
    "[back to top](#table-of-contents)"
   ]
  },
  {
   "cell_type": "markdown",
   "id": "0cfb8f75",
   "metadata": {},
   "source": [
    "<a id='conclusion'></a>\n",
    "\n",
    "<font size=\"+2\" color='#053c96'><b> 8. Conclusion</b></font>  \n",
    "[back to top](#table-of-contents)"
   ]
  },
  {
   "cell_type": "markdown",
   "id": "c7c6ce88",
   "metadata": {},
   "source": [
    "<a id='summary'></a>\n",
    "\n",
    "<font size=\"+1\" color='#780404'><b> 8.1 Summary</b></font>  \n",
    "[back to top](#table-of-contents)"
   ]
  },
  {
   "cell_type": "markdown",
   "id": "5d29b65c",
   "metadata": {},
   "source": [
    "<a id='limitations'></a>\n",
    "\n",
    "<font size=\"+1\" color='#780404'><b> 8.2 Limitations</b></font>  \n",
    "[back to top](#table-of-contents)"
   ]
  },
  {
   "cell_type": "markdown",
   "id": "9d6b300b",
   "metadata": {},
   "source": [
    "<a id='recommendations'></a>\n",
    "\n",
    "<font size=\"+1\" color='#780404'><b> 8.3 Recommendations</b></font>  \n",
    "[back to top](#table-of-contents)"
   ]
  },
  {
   "cell_type": "markdown",
   "id": "3342fdf5",
   "metadata": {},
   "source": [
    "<a id='references'></a>\n",
    "\n",
    "<font size=\"+2\" color='#053c96'><b> 9. References</b></font>  \n",
    "[back to top](#table-of-contents)"
   ]
  }
 ],
 "metadata": {
  "kernelspec": {
   "display_name": "Python 3 (ipykernel)",
   "language": "python",
   "name": "python3"
  },
  "language_info": {
   "codemirror_mode": {
    "name": "ipython",
    "version": 3
   },
   "file_extension": ".py",
   "mimetype": "text/x-python",
   "name": "python",
   "nbconvert_exporter": "python",
   "pygments_lexer": "ipython3",
   "version": "3.9.13"
  }
 },
 "nbformat": 4,
 "nbformat_minor": 5
}
