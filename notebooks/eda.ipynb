{
 "cells": [
  {
   "cell_type": "markdown",
   "id": "a9bfb526",
   "metadata": {},
   "source": [
    "<font size=\"+3\" color='#053c96'><h2><center> Classically Punk</h2></center></font>\n",
    "<figure>\n",
    "<center><img src =\"https://images.unsplash.com/photo-1487180144351-b8472da7d491?ixlib=rb-4.0.3&ixid=MnwxMjA3fDB8MHxwaG90by1wYWdlfHx8fGVufDB8fHx8&auto=format&fit=crop&w=872&q=80\" width = \"750\" height = '600' alt=\"Classical Punk\"/>\n",
    "<font size=\"0\" color='#053c96'><h4><center> Photo Credit: Unsplash</h4></center></font>"
   ]
  },
  {
   "cell_type": "markdown",
   "id": "0fd8aca5",
   "metadata": {},
   "source": [
    "<font size=\"+2\" color='#053c96'><b> Contributor</b></font>  \n",
    "<font size=\"+0\" ><b> Umar Kabir</b></font>  "
   ]
  },
  {
   "cell_type": "markdown",
   "id": "5c866556",
   "metadata": {},
   "source": [
    "<a id='table-of-contents'></a>\n",
    "[Table of Contents](#table-of-contents)\n",
    "\n",
    "- [Introduction](#introduction)\n",
    "  * [Overview](#overview)\n",
    "  * [Problem Statement](#problem-statement)\n",
    "  * [Objectives](#goals)\n",
    "- [Importing Libraries](#importing-dependencies)\n",
    "- [Data](#data)\n",
    "- [Exploratory Data Analysis](#exploratory-data-analysis)\n",
    "  * [Data Exploration](#data-exploration)\n",
    "  * [Data Visualization](#data-visualization)\n",
    "  * [Summary Statistics](#summary-statistics)\n",
    "  * [Feature Correlation](#feature-correlation)\n",
    "- [Data Preparation](#data-preparation)\n",
    "  * [Data Cleaning](#data-cleaning)\n",
    "  * [Feature Engineering](#feature-engineering)\n",
    "  * [Data Transformation](#data-transformation)\n",
    "- [Modeling](#modeling)\n",
    "  * [Model Selection](#model-selection)\n",
    "  * [Model Training](#model-training)\n",
    "  * [Model Evaluation](#model-evaluation)\n",
    "  * [Hyperparameter Tuning](#hyperparameter-tuning)\n",
    "- [Results](#results)\n",
    "  * [Analysis Results](#analysis-results)\n",
    "  * [Model Performance](#model-performance)\n",
    "  * [Feature Importance](#feature-importance)\n",
    "  * [Implications](#implications)\n",
    "- [Conclusion](#conclusion)\n",
    "  * [Summary](#summary)\n",
    "  * [Limitations](#limitations)\n",
    "  * [Recommendations](#recommendations)\n",
    "- [References](#references)"
   ]
  },
  {
   "cell_type": "markdown",
   "id": "836292fd",
   "metadata": {},
   "source": [
    "<a id='introduction'></a>\n",
    "<font size=\"+2\" color='#053c96'><b> 1. Introduction</b></font>  \n",
    "[back to top](#table-of-contents)  \n",
    "\n",
    "Classically Punk is a music genre classification project that combines different elements of music to develop a machine learning model that predicts music genre.  \n",
    "\n",
    "In this project, we aim to use machine learning techniques to automatically classify different musical genres, from audio snippets. To achieve this, we will need to find a library that can read music files and extract features from them, such as tempo, pitch, and melody. We will then use these features to train a machine learning model that can classify different genres of music.  \n",
    "\n",
    "The deliverables for this project include a presentation with slides on how we classified the music, as well as assumptions, implications, and other important information, and code that the DevOps team can push to production."
   ]
  },
  {
   "cell_type": "markdown",
   "id": "06537a61",
   "metadata": {},
   "source": [
    "<a id='overview'></a>\n",
    "<font size=\"+1\" color='#780404'><b> 1.1 Overview</b></font>  \n",
    "[back to top](#table-of-contents)  \n",
    "\n",
    "The project aims to develop a machine learning application that can automatically classify different musical genres from audio snippets. The main steps involved in the project include finding a library that can read music files and extract features from them, identifying relevant features for classification, and training a machine learning model to classify different genres of music. The project also involves handling large data sets and analyzing media files to generate data and identify patterns. "
   ]
  },
  {
   "cell_type": "markdown",
   "id": "b5a08599",
   "metadata": {},
   "source": [
    "<a id='problem-statement'></a>\n",
    "<font size=\"+1\" color='#780404'><b> 1.2 Problem Statement</b></font>  \n",
    "[back to top](#table-of-contents)  \n",
    "\n",
    "The problem statement for this project is the difficulty in manually classifying large collections of music into different genres. This process can be time-consuming and prone to errors, as it requires a deep understanding of the characteristics of each genre. Furthermore, as the amount of music available online continues to grow, it becomes increasingly challenging to keep up with the task of categorizing music by hand. The goal of this project is to develop a machine learning application that can automate the process of music classification, making it faster, more accurate, and scalable. The application will use features extracted from audio files to train a machine learning model that can classify different genres of music, including Classically Punk, without the need for human intervention."
   ]
  },
  {
   "cell_type": "markdown",
   "id": "65055b3b",
   "metadata": {},
   "source": [
    "<a id='goals'></a>\n",
    "<font size=\"+1\" color='#780404'><b> 1.3 Objectives</b></font>  \n",
    "[back to top](#table-of-contents)  \n",
    "\n",
    "1. To identify a suitable library for reading music files and extracting features from them.\n",
    "2. To determine relevant features that can be used for music genre classification, such as tempo, pitch, and melody.\n",
    "3. To preprocess the audio data, such as removing noise and converting it into a format suitable for machine learning algorithms.\n",
    "4. To train a machine learning model on the audio data using a suitable algorithm, such as neural networks or decision trees.\n",
    "5. To evaluate the performance of the machine learning model using appropriate metrics, such as accuracy, precision, and recall.\n",
    "6. To optimize the model's performance by tuning hyperparameters and experimenting with different algorithms.\n",
    "7. To develop a user-friendly interface for the application that allows users to upload audio files and receive genre classification results.\n",
    "8. To present the results of the project, including the classification accuracy and the features that were most relevant for genre classification.\n",
    "9. To deliver code that can be easily deployed by the DevOps team for use in a production environment.\n",
    "10. - Speech activity detection: Speech activity detection is the task of identifying the segments of an audio signal that contain speech. This can be done by looking for changes in the energy of the signal, the zero crossing rate, or the pitch.\n",
    "- Speaker identification: Speaker identification is the task of identifying the speaker of an audio signal. This can be done by looking for features that are unique to each speaker, such as the vocal tract shape or the way that they pronounce certain words.\n",
    "- Music genre classification: Music genre classification is the task of classifying an audio signal into a particular genre of music. This can be done by looking for features that are commonly associated with different genres of music, such as the tempo, the pitch, or the rhythm.\n",
    "- Sound event detection: Sound event detection is the task of identifying the different types of sounds that are present in an audio signal. This can be done by looking for changes in the energy of the signal, the spectral content of the signal, or the temporal structure of the signal.\n",
    "- Automatic music transcription: Automatic music transcription is the task of converting an audio recording of music into a musical score. This can be done by looking for features that are associated with different musical notes, such as the pitch, the duration, and the timbre."
   ]
  },
  {
   "cell_type": "markdown",
   "id": "63c48e75",
   "metadata": {},
   "source": [
    "<a id='importing-dependencies'></a>\n",
    "<font size=\"+2\" color='#053c96'><b> 2. Importing Libraries</b></font>  \n",
    "[back to top](#table-of-contents)"
   ]
  },
  {
   "cell_type": "code",
   "execution_count": 12,
   "id": "b70ac95f",
   "metadata": {},
   "outputs": [],
   "source": [
    "import sys\n",
    "# Insert the parent path relative to this notebook so we can import from the src folder.\n",
    "sys.path.insert(0, \"..\")\n",
    "\n",
    "from src.dependencies import *\n",
    "from src.functions import *"
   ]
  },
  {
   "cell_type": "markdown",
   "id": "8e2a29aa",
   "metadata": {},
   "source": [
    "<a id='data'></a>\n",
    "<font size=\"+2\" color='#053c96'><b> 3. Data</b></font>  \n",
    "[back to top](#table-of-contents)  \n",
    "\n",
    "The dataset was used for the well-known paper in genre classification \"Musical genre classification of audio signals\" by G. Tzanetakis and P. Cook in IEEE Transactions on Audio and Speech Processing 2002."
   ]
  },
  {
   "cell_type": "code",
   "execution_count": 2,
   "id": "f12d0496",
   "metadata": {
    "scrolled": false
   },
   "outputs": [],
   "source": [
    "df = pd.read_csv('../data/data.csv')"
   ]
  },
  {
   "cell_type": "markdown",
   "id": "47144d6c",
   "metadata": {},
   "source": [
    "<a id='exploratory-data-analysis'></a>\n",
    "<font size=\"+2\" color='#053c96'><b> 4. Exploratory Data Anaysis</b></font>  \n",
    "[back to top](#table-of-contents)"
   ]
  },
  {
   "cell_type": "markdown",
   "id": "40b442d4",
   "metadata": {},
   "source": [
    "<a id='data-exploration'></a>\n",
    "<font size=\"+1\" color='#780404'><b> 4.1 Data Exploration</b></font>  \n",
    "[back to top](#table-of-contents)"
   ]
  },
  {
   "cell_type": "code",
   "execution_count": 3,
   "id": "6f477f0b",
   "metadata": {},
   "outputs": [
    {
     "data": {
      "text/plain": [
       "(1000, 22)"
      ]
     },
     "execution_count": 3,
     "metadata": {},
     "output_type": "execute_result"
    }
   ],
   "source": [
    "df.shape"
   ]
  },
  {
   "cell_type": "code",
   "execution_count": 4,
   "id": "e7e12f75",
   "metadata": {},
   "outputs": [
    {
     "name": "stdout",
     "output_type": "stream",
     "text": [
      "<class 'pandas.core.frame.DataFrame'>\n",
      "RangeIndex: 1000 entries, 0 to 999\n",
      "Data columns (total 22 columns):\n",
      " #   Column              Non-Null Count  Dtype  \n",
      "---  ------              --------------  -----  \n",
      " 0   Genre               1000 non-null   object \n",
      " 1   Filename            1000 non-null   object \n",
      " 2   Beats               1000 non-null   object \n",
      " 3   SR                  1000 non-null   int64  \n",
      " 4   Central Moments     1000 non-null   object \n",
      " 5   Zero Crossing Rate  1000 non-null   object \n",
      " 6   RMSE                1000 non-null   object \n",
      " 7   Tempo               1000 non-null   float64\n",
      " 8   Spectral Contrast   1000 non-null   object \n",
      " 9   Spectral Roll-off   1000 non-null   object \n",
      " 10  MFCC                1000 non-null   object \n",
      " 11  Chroma              1000 non-null   object \n",
      " 12  Spectral Centroid   1000 non-null   object \n",
      " 13  Spectral Bandwidth  1000 non-null   object \n",
      " 14  Spectral Flatness   1000 non-null   object \n",
      " 15  Loudness            1000 non-null   object \n",
      " 16  Complexity          1000 non-null   float64\n",
      " 17  Timbre              1000 non-null   float64\n",
      " 18  Spectral Energy     1000 non-null   float64\n",
      " 19  Temporal Energy     1000 non-null   float64\n",
      " 20  Harmonicity         1000 non-null   object \n",
      " 21  Percussiveness      1000 non-null   object \n",
      "dtypes: float64(5), int64(1), object(16)\n",
      "memory usage: 172.0+ KB\n"
     ]
    }
   ],
   "source": [
    "df.info()"
   ]
  },
  {
   "cell_type": "code",
   "execution_count": 5,
   "id": "aa452bde",
   "metadata": {},
   "outputs": [
    {
     "data": {
      "text/html": [
       "<div>\n",
       "<style scoped>\n",
       "    .dataframe tbody tr th:only-of-type {\n",
       "        vertical-align: middle;\n",
       "    }\n",
       "\n",
       "    .dataframe tbody tr th {\n",
       "        vertical-align: top;\n",
       "    }\n",
       "\n",
       "    .dataframe thead th {\n",
       "        text-align: right;\n",
       "    }\n",
       "</style>\n",
       "<table border=\"1\" class=\"dataframe\">\n",
       "  <thead>\n",
       "    <tr style=\"text-align: right;\">\n",
       "      <th></th>\n",
       "      <th>Genre</th>\n",
       "      <th>Filename</th>\n",
       "      <th>Beats</th>\n",
       "      <th>SR</th>\n",
       "      <th>Central Moments</th>\n",
       "      <th>Zero Crossing Rate</th>\n",
       "      <th>RMSE</th>\n",
       "      <th>Tempo</th>\n",
       "      <th>Spectral Contrast</th>\n",
       "      <th>Spectral Roll-off</th>\n",
       "      <th>MFCC</th>\n",
       "      <th>Chroma</th>\n",
       "      <th>Spectral Centroid</th>\n",
       "      <th>Spectral Bandwidth</th>\n",
       "      <th>Spectral Flatness</th>\n",
       "      <th>Loudness</th>\n",
       "      <th>Complexity</th>\n",
       "      <th>Timbre</th>\n",
       "      <th>Spectral Energy</th>\n",
       "      <th>Temporal Energy</th>\n",
       "      <th>Harmonicity</th>\n",
       "      <th>Percussiveness</th>\n",
       "    </tr>\n",
       "  </thead>\n",
       "  <tbody>\n",
       "    <tr>\n",
       "      <th>0</th>\n",
       "      <td>blues</td>\n",
       "      <td>blues.00000.wav</td>\n",
       "      <td>[  11   32   53   73   94  114  135  156  177 ...</td>\n",
       "      <td>22050</td>\n",
       "      <td>[ 1.9598199e-10  1.9793237e-02 -5.6590850e-04 ...</td>\n",
       "      <td>[0.06494141 0.08300781 0.10791016 ... 0.086425...</td>\n",
       "      <td>[0.01908039 0.03683019 0.0497628  ... 0.140552...</td>\n",
       "      <td>123.046875</td>\n",
       "      <td>[[ 8.88813143 12.94743439 14.04482159 ...  8.7...</td>\n",
       "      <td>[[4705.00488281 4640.40527344 4715.77148438 .....</td>\n",
       "      <td>[[-2.40635422e+02 -2.11214355e+02 -1.93908890e...</td>\n",
       "      <td>[[0.33112547 0.2349237  0.8714165  ... 0.15691...</td>\n",
       "      <td>[[2122.97750086 2102.62107328 1955.28566681 .....</td>\n",
       "      <td>[[2283.0843996  2247.35232089 2308.61530036 .....</td>\n",
       "      <td>[[0.01456181 0.01049567 0.00578466 ... 0.00196...</td>\n",
       "      <td>[[-34.388256 -28.67592  -26.061905 ... -17.043...</td>\n",
       "      <td>-1.080439e-07</td>\n",
       "      <td>20.523289</td>\n",
       "      <td>8.668871e+09</td>\n",
       "      <td>13099.0450</td>\n",
       "      <td>[ 0.00691394  0.01504066  0.00982569 ... -0.01...</td>\n",
       "      <td>[ 0.00041028  0.0015609  -0.0021963  ... -0.03...</td>\n",
       "    </tr>\n",
       "    <tr>\n",
       "      <th>1</th>\n",
       "      <td>blues</td>\n",
       "      <td>blues.00001.wav</td>\n",
       "      <td>[   3   41   80  118  156  194  231  267  304 ...</td>\n",
       "      <td>22050</td>\n",
       "      <td>[2.6082897e-10 1.1581921e-02 8.0263242e-05 7.1...</td>\n",
       "      <td>[0.015625   0.01806641 0.02148438 ... 0.070312...</td>\n",
       "      <td>[0.04788139 0.10656705 0.14316952 ... 0.137602...</td>\n",
       "      <td>67.999589</td>\n",
       "      <td>[[17.79094137 11.06542308 11.43209494 ... 19.3...</td>\n",
       "      <td>[[1625.75683594 2260.98632812 2723.95019531 .....</td>\n",
       "      <td>[[-3.39146393e+02 -2.23899673e+02 -1.56065292e...</td>\n",
       "      <td>[[0.36823648 0.8158752  1.         ... 0.83394...</td>\n",
       "      <td>[[ 886.90855361 1051.83134299 1125.26706995 .....</td>\n",
       "      <td>[[1322.56608095 1750.98898746 1915.93500528 .....</td>\n",
       "      <td>[[0.00080758 0.00106355 0.00085136 ... 0.00215...</td>\n",
       "      <td>[[-26.396664 -19.44754  -16.882988 ... -17.227...</td>\n",
       "      <td>-2.336109e-07</td>\n",
       "      <td>20.672486</td>\n",
       "      <td>5.072549e+09</td>\n",
       "      <td>7664.8460</td>\n",
       "      <td>[ 0.00385567  0.00479104  0.00285076 ... -0.07...</td>\n",
       "      <td>[-0.0004377  -0.00048806 -0.00147747 ... -0.04...</td>\n",
       "    </tr>\n",
       "    <tr>\n",
       "      <th>2</th>\n",
       "      <td>blues</td>\n",
       "      <td>blues.00002.wav</td>\n",
       "      <td>[  13   30   46   64   80   96  112  129  146 ...</td>\n",
       "      <td>22050</td>\n",
       "      <td>[-1.2630751e-09  3.3572275e-02 -9.4693369e-04 ...</td>\n",
       "      <td>[0.04638672 0.06396484 0.0859375  ... 0.086914...</td>\n",
       "      <td>[0.12294307 0.14580017 0.15829462 ... 0.134463...</td>\n",
       "      <td>161.499023</td>\n",
       "      <td>[[ 9.9482166  17.3706133  26.02688982 ... 20.8...</td>\n",
       "      <td>[[2433.25195312 2368.65234375 2390.18554688 .....</td>\n",
       "      <td>[[-92.80102   -77.73783   -96.38281   ... -84....</td>\n",
       "      <td>[[0.27561098 0.20460801 0.19981515 ... 0.24957...</td>\n",
       "      <td>[[1510.21141028 1419.00318588 1386.42492231 .....</td>\n",
       "      <td>[[1480.48652053 1525.31517934 1567.39297006 .....</td>\n",
       "      <td>[[0.00218783 0.00097655 0.00057822 ... 0.00327...</td>\n",
       "      <td>[[-18.205917 -16.724838 -16.010677 ... -17.427...</td>\n",
       "      <td>-2.173789e-07</td>\n",
       "      <td>22.191292</td>\n",
       "      <td>1.470369e+10</td>\n",
       "      <td>22217.9280</td>\n",
       "      <td>[-0.00043778  0.02810758  0.02810844 ... -0.01...</td>\n",
       "      <td>[ 0.01945023  0.0195914   0.00131051 ...  0.02...</td>\n",
       "    </tr>\n",
       "    <tr>\n",
       "      <th>3</th>\n",
       "      <td>blues</td>\n",
       "      <td>blues.00003.wav</td>\n",
       "      <td>[  28   69  113  155  195  236  279  320  360 ...</td>\n",
       "      <td>22050</td>\n",
       "      <td>[3.1796636e-09 2.6253546e-02 5.5292981e-05 2.9...</td>\n",
       "      <td>[0.01025391 0.01464844 0.01855469 ... 0.034179...</td>\n",
       "      <td>[0.10660144 0.13829172 0.16152988 ... 0.017918...</td>\n",
       "      <td>63.024009</td>\n",
       "      <td>[[11.78803377 16.61964769 31.87276376 ... 24.0...</td>\n",
       "      <td>[[1205.859375   1248.92578125 1119.7265625  .....</td>\n",
       "      <td>[[-2.2065663e+02 -2.0152414e+02 -2.1341223e+02...</td>\n",
       "      <td>[[0.60287297 0.36729065 0.33834004 ... 0.55220...</td>\n",
       "      <td>[[ 694.20628788  696.3364192   659.96426081 .....</td>\n",
       "      <td>[[1162.25843622 1184.84755668 1146.65869359 .....</td>\n",
       "      <td>[[1.98361915e-04 1.11818306e-04 6.90561428e-05...</td>\n",
       "      <td>[[-19.444738 -17.184076 -15.834942 ... -34.933...</td>\n",
       "      <td>3.749026e-08</td>\n",
       "      <td>21.423621</td>\n",
       "      <td>1.149830e+10</td>\n",
       "      <td>17374.4410</td>\n",
       "      <td>[-0.01958259 -0.02814689 -0.0322431  ...  0.00...</td>\n",
       "      <td>[ 0.0065821  -0.00246225 -0.00382868 ...  0.00...</td>\n",
       "    </tr>\n",
       "    <tr>\n",
       "      <th>4</th>\n",
       "      <td>blues</td>\n",
       "      <td>blues.00004.wav</td>\n",
       "      <td>[   8   27   48   67   85  104  125  145  164 ...</td>\n",
       "      <td>22050</td>\n",
       "      <td>[2.0570905e-10 1.0682435e-02 1.4974119e-04 7.9...</td>\n",
       "      <td>[0.03955078 0.06494141 0.08935547 ... 0.065917...</td>\n",
       "      <td>[0.05263326 0.07990757 0.09952808 ... 0.054372...</td>\n",
       "      <td>135.999178</td>\n",
       "      <td>[[11.99368033 13.25920714 15.62874838 ... 15.4...</td>\n",
       "      <td>[[2293.28613281 2788.54980469 3025.41503906 .....</td>\n",
       "      <td>[[-281.78323   -180.33914   -155.01845   ... -...</td>\n",
       "      <td>[[0.19081402 0.17394003 0.06381712 ... 0.05633...</td>\n",
       "      <td>[[1367.54433603 1552.98979661 1630.62768824 .....</td>\n",
       "      <td>[[1544.2611461  1538.50945801 1543.53500673 .....</td>\n",
       "      <td>[[0.00295216 0.00145499 0.00069517 ... 0.00108...</td>\n",
       "      <td>[[-25.574795 -21.948242 -20.041086 ... -25.292...</td>\n",
       "      <td>9.259587e-08</td>\n",
       "      <td>21.459618</td>\n",
       "      <td>4.678600e+09</td>\n",
       "      <td>7069.5728</td>\n",
       "      <td>[-0.01237604 -0.01373281 -0.0110881  ...  0.02...</td>\n",
       "      <td>[0.00605891 0.00445547 0.00275681 ... 0.013665...</td>\n",
       "    </tr>\n",
       "  </tbody>\n",
       "</table>\n",
       "</div>"
      ],
      "text/plain": [
       "   Genre         Filename                                              Beats  \\\n",
       "0  blues  blues.00000.wav  [  11   32   53   73   94  114  135  156  177 ...   \n",
       "1  blues  blues.00001.wav  [   3   41   80  118  156  194  231  267  304 ...   \n",
       "2  blues  blues.00002.wav  [  13   30   46   64   80   96  112  129  146 ...   \n",
       "3  blues  blues.00003.wav  [  28   69  113  155  195  236  279  320  360 ...   \n",
       "4  blues  blues.00004.wav  [   8   27   48   67   85  104  125  145  164 ...   \n",
       "\n",
       "      SR                                    Central Moments  \\\n",
       "0  22050  [ 1.9598199e-10  1.9793237e-02 -5.6590850e-04 ...   \n",
       "1  22050  [2.6082897e-10 1.1581921e-02 8.0263242e-05 7.1...   \n",
       "2  22050  [-1.2630751e-09  3.3572275e-02 -9.4693369e-04 ...   \n",
       "3  22050  [3.1796636e-09 2.6253546e-02 5.5292981e-05 2.9...   \n",
       "4  22050  [2.0570905e-10 1.0682435e-02 1.4974119e-04 7.9...   \n",
       "\n",
       "                                  Zero Crossing Rate  \\\n",
       "0  [0.06494141 0.08300781 0.10791016 ... 0.086425...   \n",
       "1  [0.015625   0.01806641 0.02148438 ... 0.070312...   \n",
       "2  [0.04638672 0.06396484 0.0859375  ... 0.086914...   \n",
       "3  [0.01025391 0.01464844 0.01855469 ... 0.034179...   \n",
       "4  [0.03955078 0.06494141 0.08935547 ... 0.065917...   \n",
       "\n",
       "                                                RMSE       Tempo  \\\n",
       "0  [0.01908039 0.03683019 0.0497628  ... 0.140552...  123.046875   \n",
       "1  [0.04788139 0.10656705 0.14316952 ... 0.137602...   67.999589   \n",
       "2  [0.12294307 0.14580017 0.15829462 ... 0.134463...  161.499023   \n",
       "3  [0.10660144 0.13829172 0.16152988 ... 0.017918...   63.024009   \n",
       "4  [0.05263326 0.07990757 0.09952808 ... 0.054372...  135.999178   \n",
       "\n",
       "                                   Spectral Contrast  \\\n",
       "0  [[ 8.88813143 12.94743439 14.04482159 ...  8.7...   \n",
       "1  [[17.79094137 11.06542308 11.43209494 ... 19.3...   \n",
       "2  [[ 9.9482166  17.3706133  26.02688982 ... 20.8...   \n",
       "3  [[11.78803377 16.61964769 31.87276376 ... 24.0...   \n",
       "4  [[11.99368033 13.25920714 15.62874838 ... 15.4...   \n",
       "\n",
       "                                   Spectral Roll-off  \\\n",
       "0  [[4705.00488281 4640.40527344 4715.77148438 .....   \n",
       "1  [[1625.75683594 2260.98632812 2723.95019531 .....   \n",
       "2  [[2433.25195312 2368.65234375 2390.18554688 .....   \n",
       "3  [[1205.859375   1248.92578125 1119.7265625  .....   \n",
       "4  [[2293.28613281 2788.54980469 3025.41503906 .....   \n",
       "\n",
       "                                                MFCC  \\\n",
       "0  [[-2.40635422e+02 -2.11214355e+02 -1.93908890e...   \n",
       "1  [[-3.39146393e+02 -2.23899673e+02 -1.56065292e...   \n",
       "2  [[-92.80102   -77.73783   -96.38281   ... -84....   \n",
       "3  [[-2.2065663e+02 -2.0152414e+02 -2.1341223e+02...   \n",
       "4  [[-281.78323   -180.33914   -155.01845   ... -...   \n",
       "\n",
       "                                              Chroma  \\\n",
       "0  [[0.33112547 0.2349237  0.8714165  ... 0.15691...   \n",
       "1  [[0.36823648 0.8158752  1.         ... 0.83394...   \n",
       "2  [[0.27561098 0.20460801 0.19981515 ... 0.24957...   \n",
       "3  [[0.60287297 0.36729065 0.33834004 ... 0.55220...   \n",
       "4  [[0.19081402 0.17394003 0.06381712 ... 0.05633...   \n",
       "\n",
       "                                   Spectral Centroid  \\\n",
       "0  [[2122.97750086 2102.62107328 1955.28566681 .....   \n",
       "1  [[ 886.90855361 1051.83134299 1125.26706995 .....   \n",
       "2  [[1510.21141028 1419.00318588 1386.42492231 .....   \n",
       "3  [[ 694.20628788  696.3364192   659.96426081 .....   \n",
       "4  [[1367.54433603 1552.98979661 1630.62768824 .....   \n",
       "\n",
       "                                  Spectral Bandwidth  \\\n",
       "0  [[2283.0843996  2247.35232089 2308.61530036 .....   \n",
       "1  [[1322.56608095 1750.98898746 1915.93500528 .....   \n",
       "2  [[1480.48652053 1525.31517934 1567.39297006 .....   \n",
       "3  [[1162.25843622 1184.84755668 1146.65869359 .....   \n",
       "4  [[1544.2611461  1538.50945801 1543.53500673 .....   \n",
       "\n",
       "                                   Spectral Flatness  \\\n",
       "0  [[0.01456181 0.01049567 0.00578466 ... 0.00196...   \n",
       "1  [[0.00080758 0.00106355 0.00085136 ... 0.00215...   \n",
       "2  [[0.00218783 0.00097655 0.00057822 ... 0.00327...   \n",
       "3  [[1.98361915e-04 1.11818306e-04 6.90561428e-05...   \n",
       "4  [[0.00295216 0.00145499 0.00069517 ... 0.00108...   \n",
       "\n",
       "                                            Loudness    Complexity     Timbre  \\\n",
       "0  [[-34.388256 -28.67592  -26.061905 ... -17.043... -1.080439e-07  20.523289   \n",
       "1  [[-26.396664 -19.44754  -16.882988 ... -17.227... -2.336109e-07  20.672486   \n",
       "2  [[-18.205917 -16.724838 -16.010677 ... -17.427... -2.173789e-07  22.191292   \n",
       "3  [[-19.444738 -17.184076 -15.834942 ... -34.933...  3.749026e-08  21.423621   \n",
       "4  [[-25.574795 -21.948242 -20.041086 ... -25.292...  9.259587e-08  21.459618   \n",
       "\n",
       "   Spectral Energy  Temporal Energy  \\\n",
       "0     8.668871e+09       13099.0450   \n",
       "1     5.072549e+09        7664.8460   \n",
       "2     1.470369e+10       22217.9280   \n",
       "3     1.149830e+10       17374.4410   \n",
       "4     4.678600e+09        7069.5728   \n",
       "\n",
       "                                         Harmonicity  \\\n",
       "0  [ 0.00691394  0.01504066  0.00982569 ... -0.01...   \n",
       "1  [ 0.00385567  0.00479104  0.00285076 ... -0.07...   \n",
       "2  [-0.00043778  0.02810758  0.02810844 ... -0.01...   \n",
       "3  [-0.01958259 -0.02814689 -0.0322431  ...  0.00...   \n",
       "4  [-0.01237604 -0.01373281 -0.0110881  ...  0.02...   \n",
       "\n",
       "                                      Percussiveness  \n",
       "0  [ 0.00041028  0.0015609  -0.0021963  ... -0.03...  \n",
       "1  [-0.0004377  -0.00048806 -0.00147747 ... -0.04...  \n",
       "2  [ 0.01945023  0.0195914   0.00131051 ...  0.02...  \n",
       "3  [ 0.0065821  -0.00246225 -0.00382868 ...  0.00...  \n",
       "4  [0.00605891 0.00445547 0.00275681 ... 0.013665...  "
      ]
     },
     "execution_count": 5,
     "metadata": {},
     "output_type": "execute_result"
    }
   ],
   "source": [
    "df.head()"
   ]
  },
  {
   "cell_type": "code",
   "execution_count": 6,
   "id": "1933e309",
   "metadata": {},
   "outputs": [
    {
     "data": {
      "text/plain": [
       "array(['blues', 'classical', 'country', 'disco', 'hiphop', 'jazz',\n",
       "       'metal', 'pop', 'reggae', 'rock'], dtype=object)"
      ]
     },
     "execution_count": 6,
     "metadata": {},
     "output_type": "execute_result"
    }
   ],
   "source": [
    "df['Genre'].unique()"
   ]
  },
  {
   "cell_type": "markdown",
   "id": "6d5a1e0c",
   "metadata": {},
   "source": [
    "This function loads and plays an audio file of a specific genre and number using the librosa library. It takes two arguments, genre and num, which specify the genre of the audio and the number of the audio file within that genre, respectively."
   ]
  },
  {
   "cell_type": "code",
   "execution_count": null,
   "id": "ce137b19",
   "metadata": {},
   "outputs": [],
   "source": [
    "df['Beats Mean'] = df['Beats'].apply(lambda x: np.mean(x))\n",
    "df['Central Moments Mean'] = df['Central Moments'].apply(lambda x: np.mean(x))\n",
    "df['Zero Crossing Rate Mean'] = df['Zero Crossing Rate'].apply(lambda x: np.mean(x))\n",
    "df['RMSE Mean'] = df['RMSE'].apply(lambda x: np.mean(x))\n",
    "df['Spectral Contrast Mean'] = df['Spectral Contrast'].apply(lambda x: np.mean(x))\n",
    "df['Spectral Roll-off Mean'] = df['Spectral Roll-off'].apply(lambda x: np.mean(x))\n",
    "df['MFCC Mean'] = df['MFCC'].apply(lambda x: np.mean(x))\n",
    "df['Chroma Mean'] = df['Chroma'].apply(lambda x: np.mean(x))\n",
    "df['Spectral Centroid Mean'] = df['Spectral Centroid'].apply(lambda x: np.mean(x))\n",
    "df['Spectral Bandwidth Mean'] = df['Spectral Bandwidth'].apply(lambda x: np.mean(x))\n",
    "df['Spectral Flatness Mean'] = df['Spectral Flatness'].apply(lambda x: np.mean(x))\n",
    "df['Loudness Mean'] = df['Loudness'].apply(lambda x: np.mean(x))\n",
    "df['Harmonicity Mean'] = df['Harmonicity'].apply(lambda x: np.mean(x))\n",
    "df['Percussiveness Mean'] = df['Percussiveness'].apply(lambda x: np.mean(x))"
   ]
  },
  {
   "cell_type": "code",
   "execution_count": null,
   "id": "55618b99",
   "metadata": {},
   "outputs": [],
   "source": [
    "df['Beats std'] = df['Beats'].apply(lambda x: np.std(x))\n",
    "df['Central Moments std'] = df['Central Moments'].apply(lambda x: np.std(x))\n",
    "df['Zero Crossing Rate std'] = df['Zero Crossing Rate'].apply(lambda x: np.std(x))\n",
    "df['RMSE std'] = df['RMSE'].apply(lambda x: np.std(x))\n",
    "df['Spectral Contrast std'] = df['Spectral Contrast'].apply(lambda x: np.std(x))\n",
    "df['Spectral Roll-off std'] = df['Spectral Roll-off'].apply(lambda x: np.std(x))\n",
    "df['MFCC std'] = df['MFCC'].apply(lambda x: np.std(x))\n",
    "df['Chroma std'] = df['Chroma'].apply(lambda x: np.std(x))\n",
    "df['Spectral Centroid std'] = df['Spectral Centroid'].apply(lambda x: np.std(x))\n",
    "df['Spectral Bandwidth std'] = df['Spectral Bandwidth'].apply(lambda x: np.std(x))\n",
    "df['Spectral Flatness std'] = df['Spectral Flatness'].apply(lambda x: np.std(x))\n",
    "df['Loudness std'] = df['Loudness'].apply(lambda x: np.std(x))\n",
    "df['Harmonicity std'] = df['Harmonicity'].apply(lambda x: np.std(x))\n",
    "df['Percussiveness std'] = df['Percussiveness'].apply(lambda x: np.std(x))"
   ]
  },
  {
   "cell_type": "code",
   "execution_count": null,
   "id": "c606cbd8",
   "metadata": {},
   "outputs": [],
   "source": [
    "df['Beats var'] = df['Beats'].apply(lambda x: np.var(x))\n",
    "df['Central Moments var'] = df['Central Moments'].apply(lambda x: np.var(x))\n",
    "df['Zero Crossing Rate var'] = df['Zero Crossing Rate'].apply(lambda x: np.var(x))\n",
    "df['RMSE var'] = df['RMSE'].apply(lambda x: np.var(x))\n",
    "df['Spectral Contrast var'] = df['Spectral Contrast'].apply(lambda x: np.var(x))\n",
    "df['Spectral Roll-off var'] = df['Spectral Roll-off'].apply(lambda x: np.var(x))\n",
    "df['MFCC var'] = df['MFCC'].apply(lambda x: np.var(x))\n",
    "df['Chroma var'] = df['Chroma'].apply(lambda x: np.var(x))\n",
    "df['Spectral Centroid var'] = df['Spectral Centroid'].apply(lambda x: np.var(x))\n",
    "df['Spectral Bandwidth var'] = df['Spectral Bandwidth'].apply(lambda x: np.var(x))\n",
    "df['Spectral Flatness var'] = df['Spectral Flatness'].apply(lambda x: np.var(x))\n",
    "df['Loudness var'] = df['Loudness'].apply(lambda x: np.var(x))\n",
    "df['Harmonicity var'] = df['Harmonicity'].apply(lambda x: np.var(x))\n",
    "df['Percussiveness var'] = df['Percussiveness'].apply(lambda x: np.var(x))"
   ]
  },
  {
   "cell_type": "code",
   "execution_count": null,
   "id": "e0114054",
   "metadata": {},
   "outputs": [],
   "source": [
    "df['Beats max'] = df['Beats'].apply(lambda x: np.max(x))\n",
    "df['Central Moments max'] = df['Central Moments'].apply(lambda x: np.max(x))\n",
    "df['Zero Crossing Rate max'] = df['Zero Crossing Rate'].apply(lambda x: np.max(x))\n",
    "df['RMSE max'] = df['RMSE'].apply(lambda x: np.max(x))\n",
    "df['Spectral Contrast max'] = df['Spectral Contrast'].apply(lambda x: np.max(x))\n",
    "df['Spectral Roll-off max'] = df['Spectral Roll-off'].apply(lambda x: np.max(x))\n",
    "df['MFCC max'] = df['MFCC'].apply(lambda x: np.max(x))\n",
    "df['Chroma max'] = df['Chroma'].apply(lambda x: np.max(x))\n",
    "df['Spectral Centroid max'] = df['Spectral Centroid'].apply(lambda x: np.max(x))\n",
    "df['Spectral Bandwidth max'] = df['Spectral Bandwidth'].apply(lambda x: np.max(x))\n",
    "df['Spectral Flatness max'] = df['Spectral Flatness'].apply(lambda x: np.max(x))\n",
    "df['Loudness max'] = df['Loudness'].apply(lambda x: np.max(x))\n",
    "df['Harmonicity max'] = df['Harmonicity'].apply(lambda x: np.max(x))\n",
    "df['Percussiveness max'] = df['Percussiveness'].apply(lambda x: np.max(x))"
   ]
  },
  {
   "cell_type": "code",
   "execution_count": null,
   "id": "9bc5e1db",
   "metadata": {},
   "outputs": [],
   "source": [
    "df['Beats min'] = df['Beats'].apply(lambda x: np.min(x))\n",
    "df['Central Moments min'] = df['Central Moments'].apply(lambda x: np.min(x))\n",
    "df['Zero Crossing Rate min'] = df['Zero Crossing Rate'].apply(lambda x: np.min(x))\n",
    "df['RMSE min'] = df['RMSE'].apply(lambda x: np.min(x))\n",
    "df['Spectral Contrast min'] = df['Spectral Contrast'].apply(lambda x: np.min(x))\n",
    "df['Spectral Roll-off min'] = df['Spectral Roll-off'].apply(lambda x: np.min(x))\n",
    "df['MFCC min'] = df['MFCC'].apply(lambda x: np.min(x))\n",
    "df['Chroma min'] = df['Chroma'].apply(lambda x: np.min(x))\n",
    "df['Spectral Centroid min'] = df['Spectral Centroid'].apply(lambda x: np.min(x))\n",
    "df['Spectral Bandwidth min'] = df['Spectral Bandwidth'].apply(lambda x: np.min(x))\n",
    "df['Spectral Flatness min'] = df['Spectral Flatness'].apply(lambda x: np.min(x))\n",
    "df['Loudness min'] = df['Loudness'].apply(lambda x: np.min(x))\n",
    "df['Harmonicity min'] = df['Harmonicity'].apply(lambda x: np.min(x))\n",
    "df['Percussiveness min'] = df['Percussiveness'].apply(lambda x: np.min(x))"
   ]
  },
  {
   "cell_type": "code",
   "execution_count": null,
   "id": "dff22ef5",
   "metadata": {},
   "outputs": [],
   "source": [
    "df['Beats sum'] = df['Beats'].apply(lambda x: np.sum(x))\n",
    "df['Central Moments sum'] = df['Central Moments'].apply(lambda x: np.sum(x))\n",
    "df['Zero Crossing Rate sum'] = df['Zero Crossing Rate'].apply(lambda x: np.sum(x))\n",
    "df['RMSE sum'] = df['RMSE'].apply(lambda x: np.sum(x))\n",
    "df['Spectral Contrast sum'] = df['Spectral Contrast'].apply(lambda x: np.sum(x))\n",
    "df['Spectral Roll-off sum'] = df['Spectral Roll-off'].apply(lambda x: np.sum(x))\n",
    "df['MFCC sum'] = df['MFCC'].apply(lambda x: np.sum(x))\n",
    "df['Chroma sum'] = df['Chroma'].apply(lambda x: np.sum(x))\n",
    "df['Spectral Centroid sum'] = df['Spectral Centroid'].apply(lambda x: np.sum(x))\n",
    "df['Spectral Bandwidth sum'] = df['Spectral Bandwidth'].apply(lambda x: np.sum(x))\n",
    "df['Spectral Flatness sum'] = df['Spectral Flatness'].apply(lambda x: np.sum(x))\n",
    "df['Loudness sum'] = df['Loudness'].apply(lambda x: np.sum(x))\n",
    "df['Harmonicity sum'] = df['Harmonicity'].apply(lambda x: np.sum(x))\n",
    "df['Percussiveness sum'] = df['Percussiveness'].apply(lambda x: np.sum(x))"
   ]
  },
  {
   "cell_type": "code",
   "execution_count": null,
   "id": "97b186b7",
   "metadata": {},
   "outputs": [],
   "source": [
    "df['Beats_Above_Mean'] = df['Beats'].apply(count_values_above_mean)\n",
    "df['Central Moments_Above_Mean'] = df['Central Moments'].apply(count_values_above_mean)\n",
    "df['Zero Crossing Rate_Above_Mean'] = df['Zero Crossing Rate'].apply(count_values_above_mean)\n",
    "df['RMSE_Above_Mean'] = df['RMSE'].apply(count_values_above_mean)\n",
    "df['Spectral Contrast_Above_Mean'] = df['Spectral Contrast'].apply(count_values_above_mean)\n",
    "df['Spectral Roll-off_Above_Mean'] = df['Spectral Roll-off'].apply(count_values_above_mean)\n",
    "df['MFCC_Above_Mean'] = df['MFCC'].apply(count_values_above_mean)\n",
    "df['Chroma_Above_Mean'] = df['Chroma'].apply(count_values_above_mean)\n",
    "df['Spectral Centroid_Above_Mean'] = df['Spectral Centroid'].apply(count_values_above_mean)\n",
    "df['Spectral Bandwidth_Above_Mean'] = df['Spectral Bandwidth'].apply(count_values_above_mean)\n",
    "df['Spectral Flatness_Above_Mean'] = df['Spectral Flatness'].apply(count_values_above_mean)\n",
    "df['Loudness_Above_Mean'] = df['Loudness'].apply(count_values_above_mean)\n",
    "df['Harmonicity_Above_Mean'] = df['Harmonicity'].apply(count_values_above_mean)\n",
    "df['Percussiveness_Above_Mean'] = df['Percussiveness'].apply(count_values_above_mean)"
   ]
  },
  {
   "cell_type": "code",
   "execution_count": null,
   "id": "92a63388",
   "metadata": {},
   "outputs": [],
   "source": []
  },
  {
   "cell_type": "code",
   "execution_count": null,
   "id": "3445fca6",
   "metadata": {},
   "outputs": [],
   "source": []
  },
  {
   "cell_type": "markdown",
   "id": "4f1f4dd5",
   "metadata": {},
   "source": [
    "<a id='data-visualization'></a>\n",
    "<font size=\"+1\" color='#780404'><b> 4.2 Data Visualization</b></font>  \n",
    "[back to top](#table-of-contents)"
   ]
  },
  {
   "cell_type": "markdown",
   "id": "8eb346b1",
   "metadata": {},
   "source": [
    "This code generates a frequency bar chart of the 'Tempo' column in a pandas DataFrame."
   ]
  },
  {
   "cell_type": "code",
   "execution_count": 13,
   "id": "8b86d717",
   "metadata": {},
   "outputs": [],
   "source": [
    "if isinstance(df, (pd.DatetimeIndex, pd.MultiIndex)):\n",
    "    df = df.to_frame(index=False)\n",
    "df = df.reset_index().drop('index', axis=1, errors='ignore')\n",
    "df.columns = [str(c) for c in df.columns]\n",
    "tempo_counts = df['Tempo'].value_counts().reset_index()\n",
    "tempo_counts.columns = ['Tempo', 'Frequency']\n",
    "tempo_counts = tempo_counts.sort_values(['Frequency', 'Tempo'], ascending=[False, True])\n",
    "tempo_counts = tempo_counts[:100]\n",
    "sns.set(style=\"whitegrid\")\n",
    "plt.figure(figsize=(10, 8))\n",
    "ax = sns.barplot(x='Frequency', y='Tempo', data=tempo_counts)\n",
    "ax.set(xlabel='Frequency', ylabel='Tempo', title='Tempo Value Counts')\n",
    "plt.show()\n"
   ]
  },
  {
   "cell_type": "code",
   "execution_count": 14,
   "id": "41ff0039",
   "metadata": {},
   "outputs": [],
   "source": [
    "def show_waveform(x, num):\n",
    "    # Load WAV file\n",
    "    wav_file = f'../data/genres/{x}/{x}.{num}.wav'\n",
    "    y, sr = librosa.load(wav_file)\n",
    "# Create x-axis values\n",
    "    time = librosa.times_like(y, sr=sr)\n",
    "\n",
    "    sns.set(style=\"whitegrid\")\n",
    "    plt.figure(figsize=(10, 8))\n",
    "    sns.lineplot(x=time, y=y)\n",
    "    plt.xlabel('Time (s)')\n",
    "    plt.ylabel('Amplitude')\n",
    "    plt.title(f'Sample waveform for {x}')\n",
    "    plt.show()\n"
   ]
  },
  {
   "cell_type": "markdown",
   "id": "0411d650",
   "metadata": {},
   "source": [
    "This function loads a WAV file of a specific genre and number, and generates a sample waveform plot using the librosa and plotly libraries. It takes two arguments, x and num, which specify the genre of the audio and the number of the audio file within that genre, respectively."
   ]
  },
  {
   "cell_type": "code",
   "execution_count": 11,
   "id": "1c15c04c",
   "metadata": {},
   "outputs": [],
   "source": [
    "show_waveform('blues', '00090')"
   ]
  },
  {
   "cell_type": "code",
   "execution_count": null,
   "id": "957903dc",
   "metadata": {},
   "outputs": [],
   "source": [
    "show_waveform('classical', '00090')"
   ]
  },
  {
   "cell_type": "code",
   "execution_count": null,
   "id": "bee228c3",
   "metadata": {},
   "outputs": [],
   "source": [
    "show_waveform('country', '00090')"
   ]
  },
  {
   "cell_type": "code",
   "execution_count": null,
   "id": "1bd1cf5b",
   "metadata": {},
   "outputs": [],
   "source": [
    "show_waveform('disco', '00090')"
   ]
  },
  {
   "cell_type": "code",
   "execution_count": null,
   "id": "876baecf",
   "metadata": {},
   "outputs": [],
   "source": [
    "show_waveform('hiphop', '00090')"
   ]
  },
  {
   "cell_type": "code",
   "execution_count": null,
   "id": "5a189dbf",
   "metadata": {},
   "outputs": [],
   "source": [
    "show_waveform('jazz', '00090')"
   ]
  },
  {
   "cell_type": "code",
   "execution_count": null,
   "id": "f0a7ced2",
   "metadata": {},
   "outputs": [],
   "source": [
    "show_waveform('metal', '00090')"
   ]
  },
  {
   "cell_type": "code",
   "execution_count": null,
   "id": "bdfd6d8a",
   "metadata": {},
   "outputs": [],
   "source": [
    "show_waveform('pop', '00090')"
   ]
  },
  {
   "cell_type": "code",
   "execution_count": null,
   "id": "9000f1dc",
   "metadata": {},
   "outputs": [],
   "source": [
    "show_waveform('reggae', '00090')"
   ]
  },
  {
   "cell_type": "code",
   "execution_count": null,
   "id": "8816d89f",
   "metadata": {},
   "outputs": [],
   "source": [
    "show_waveform('rock', '00090')"
   ]
  },
  {
   "cell_type": "code",
   "execution_count": null,
   "id": "d9306be9",
   "metadata": {},
   "outputs": [],
   "source": [
    "def show_spectogram(x, num):\n",
    "    # Load audio file\n",
    "    audio_path = f'/Users/umarkabir/Documents/Qwasar/Classical Punk/genres/{x}/{x}.{num}.wav'\n",
    "    y, sr = librosa.load(audio_path)\n",
    "\n",
    "    # Calculate spectrogram\n",
    "    S = librosa.feature.melspectrogram(y=y, sr=sr, n_mels=128, fmax=8000)\n",
    "\n",
    "    # Convert to decibels\n",
    "    S_dB = librosa.power_to_db(S, ref=np.max)\n",
    "\n",
    "    # Create figure\n",
    "    plt.figure(figsize=(10, 4))\n",
    "    ax = sns.heatmap(S_dB, cmap='viridis')\n",
    "\n",
    "    # Set x and y axis labels\n",
    "    ax.set_xlabel('Time')\n",
    "    ax.set_ylabel('Frequency (Hz)')\n",
    "\n",
    "    # Set figure title\n",
    "    ax.set_title(f'Sample spectrogram for {x}')\n",
    "\n",
    "    # Show figure\n",
    "    plt.show()"
   ]
  },
  {
   "cell_type": "markdown",
   "id": "a49d5198",
   "metadata": {},
   "source": [
    "This function loads a WAV file of a specific genre and number, and generates a sample spectrogram plot using the librosa and plotly libraries. It takes two arguments, x and num, which specify the genre of the audio and the number of the audio file within that genre, respectively."
   ]
  },
  {
   "cell_type": "code",
   "execution_count": null,
   "id": "707e48b4",
   "metadata": {},
   "outputs": [],
   "source": [
    "show_spectogram('blues', '00090')"
   ]
  },
  {
   "cell_type": "code",
   "execution_count": null,
   "id": "e6419f28",
   "metadata": {},
   "outputs": [],
   "source": [
    "show_spectogram('classical', '00090')"
   ]
  },
  {
   "cell_type": "code",
   "execution_count": null,
   "id": "0c9e458c",
   "metadata": {},
   "outputs": [],
   "source": [
    "show_spectogram('country', '00090')"
   ]
  },
  {
   "cell_type": "code",
   "execution_count": null,
   "id": "21b3f60d",
   "metadata": {},
   "outputs": [],
   "source": [
    "show_spectogram('disco', '00090')"
   ]
  },
  {
   "cell_type": "code",
   "execution_count": null,
   "id": "18da7410",
   "metadata": {},
   "outputs": [],
   "source": [
    "show_spectogram('hiphop', '00090')"
   ]
  },
  {
   "cell_type": "code",
   "execution_count": null,
   "id": "2bb37527",
   "metadata": {},
   "outputs": [],
   "source": [
    "show_spectogram('jazz', '00090')"
   ]
  },
  {
   "cell_type": "code",
   "execution_count": null,
   "id": "b1a8ee92",
   "metadata": {},
   "outputs": [],
   "source": [
    "show_spectogram('metal', '00090')"
   ]
  },
  {
   "cell_type": "code",
   "execution_count": null,
   "id": "14edbc14",
   "metadata": {},
   "outputs": [],
   "source": [
    "show_spectogram('pop', '00090')"
   ]
  },
  {
   "cell_type": "code",
   "execution_count": null,
   "id": "d0fb07ee",
   "metadata": {},
   "outputs": [],
   "source": [
    "show_spectogram('reggae', '00090')"
   ]
  },
  {
   "cell_type": "code",
   "execution_count": null,
   "id": "b091da99",
   "metadata": {},
   "outputs": [],
   "source": [
    "show_spectogram('rock', '00090')"
   ]
  },
  {
   "cell_type": "code",
   "execution_count": null,
   "id": "7e09f096",
   "metadata": {},
   "outputs": [],
   "source": [
    "import seaborn as sns\n",
    "\n",
    "def show_sr(x, num):\n",
    "    # Load audio file\n",
    "    audio_path = f'/Users/umarkabir/Documents/Qwasar/Classical Punk/genres/{x}/{x}.{num}.wav'\n",
    "    y, sr = librosa.load(audio_path)\n",
    "\n",
    "    # Compute spectral rolloff\n",
    "    spectral_rolloff = librosa.feature.spectral_rolloff(y=y, sr=sr)[0]\n",
    "\n",
    "    # Create plot\n",
    "    sns.set(style=\"whitegrid\")\n",
    "    fig, ax = plt.subplots(figsize=(10, 6))\n",
    "    ax.plot(spectral_rolloff, color='blue')\n",
    "    ax.set(title=f'Sample spectral rolloff for {x}', xlabel='Frame', ylabel='Frequency (Hz)')\n",
    "    plt.show()\n"
   ]
  },
  {
   "cell_type": "markdown",
   "id": "18f6796c",
   "metadata": {},
   "source": [
    "This function show_sr(x, num) loads an audio file and computes the spectral rolloff. It then creates a Plotly line plot of the spectral rolloff values with the x-axis representing the frame and the y-axis representing frequency in Hz. The title of the plot is set to \"Sample spectral rolloff for x\", where x is the name of the audio file."
   ]
  },
  {
   "cell_type": "code",
   "execution_count": null,
   "id": "57524963",
   "metadata": {},
   "outputs": [],
   "source": [
    "show_sr('blues', '00090')"
   ]
  },
  {
   "cell_type": "code",
   "execution_count": null,
   "id": "decd94cf",
   "metadata": {},
   "outputs": [],
   "source": [
    "show_sr('classical', '00090')"
   ]
  },
  {
   "cell_type": "code",
   "execution_count": null,
   "id": "d610bcd8",
   "metadata": {},
   "outputs": [],
   "source": [
    "show_sr('country', '00090')"
   ]
  },
  {
   "cell_type": "code",
   "execution_count": null,
   "id": "d922f2a5",
   "metadata": {},
   "outputs": [],
   "source": [
    "show_sr('disco', '00090')"
   ]
  },
  {
   "cell_type": "code",
   "execution_count": null,
   "id": "8e2d652c",
   "metadata": {},
   "outputs": [],
   "source": [
    "show_sr('hiphop', '00090')"
   ]
  },
  {
   "cell_type": "code",
   "execution_count": null,
   "id": "d8d93428",
   "metadata": {},
   "outputs": [],
   "source": [
    "show_sr('jazz', '00090')"
   ]
  },
  {
   "cell_type": "code",
   "execution_count": null,
   "id": "b48545f1",
   "metadata": {},
   "outputs": [],
   "source": [
    "show_sr('metal', '00090')"
   ]
  },
  {
   "cell_type": "code",
   "execution_count": null,
   "id": "80aa997c",
   "metadata": {},
   "outputs": [],
   "source": [
    "show_sr('pop', '00090')"
   ]
  },
  {
   "cell_type": "code",
   "execution_count": null,
   "id": "438cd617",
   "metadata": {},
   "outputs": [],
   "source": [
    "show_sr('reggae', '00090')"
   ]
  },
  {
   "cell_type": "code",
   "execution_count": null,
   "id": "d9255df1",
   "metadata": {},
   "outputs": [],
   "source": [
    "show_sr('rock', '00090')"
   ]
  },
  {
   "cell_type": "code",
   "execution_count": null,
   "id": "35f44e51",
   "metadata": {},
   "outputs": [],
   "source": [
    "def show_chroma(x, num):\n",
    "    # Load audio file\n",
    "    audio_path = f'/Users/umarkabir/Documents/Qwasar/Classical Punk/genres/{x}/{x}.{num}.wav'\n",
    "    y, sr = librosa.load(audio_path)\n",
    "\n",
    "    # Compute chroma feature\n",
    "    chroma = librosa.feature.chroma_stft(y=y, sr=sr)\n",
    "\n",
    "    # Create time axis in seconds\n",
    "    time = librosa.frames_to_time(np.arange(chroma.shape[1]), sr=sr)\n",
    "\n",
    "    # Create chroma note names\n",
    "    chroma_note_names = ['C', 'C#', 'D', 'D#', 'E', 'F', 'F#', 'G', 'G#', 'A', 'A#', 'B']\n",
    "\n",
    "    # Create dataframe\n",
    "    df = pd.DataFrame(chroma, index=chroma_note_names, columns=time)\n",
    "\n",
    "    # Plot heatmap using seaborn\n",
    "    plt.figure(figsize=(10, 8))\n",
    "    sns.heatmap(df, cmap='viridis', xticklabels=50, yticklabels=1)\n",
    "    plt.title(f'Sample chroma feature for {x}')\n",
    "    plt.xlabel('Time (s)')\n",
    "    plt.ylabel('Chroma Note')\n",
    "    plt.show()"
   ]
  },
  {
   "cell_type": "markdown",
   "id": "8af4e47c",
   "metadata": {},
   "source": [
    "This function takes in two arguments x and num representing the music genre and the song number, respectively. It then loads the corresponding audio file and computes the chroma feature using librosa's chroma_stft function. It creates a time axis in seconds using frames_to_time function, and chroma note names as a list. It then creates a heatmap trace using go.Heatmap with time as the x-axis, chroma_note_names as the y-axis, and chroma as the z-axis. Finally, it sets the layout with appropriate x and y axis titles, and a title for the figure. It shows the resulting figure using fig.show()."
   ]
  },
  {
   "cell_type": "code",
   "execution_count": null,
   "id": "542a0df2",
   "metadata": {},
   "outputs": [],
   "source": [
    "show_chroma('blues', '00090')"
   ]
  },
  {
   "cell_type": "code",
   "execution_count": null,
   "id": "112da3fe",
   "metadata": {},
   "outputs": [],
   "source": [
    "show_chroma('classical', '00090')"
   ]
  },
  {
   "cell_type": "code",
   "execution_count": null,
   "id": "4d0239bb",
   "metadata": {},
   "outputs": [],
   "source": [
    "show_chroma('country', '00090')"
   ]
  },
  {
   "cell_type": "code",
   "execution_count": null,
   "id": "bc1ecfa5",
   "metadata": {},
   "outputs": [],
   "source": [
    "show_chroma('disco', '00090')"
   ]
  },
  {
   "cell_type": "code",
   "execution_count": null,
   "id": "c499765a",
   "metadata": {},
   "outputs": [],
   "source": [
    "show_chroma('hiphop', '00090')"
   ]
  },
  {
   "cell_type": "code",
   "execution_count": null,
   "id": "1119741c",
   "metadata": {},
   "outputs": [],
   "source": [
    "show_chroma('jazz', '00090')"
   ]
  },
  {
   "cell_type": "code",
   "execution_count": null,
   "id": "067380b2",
   "metadata": {},
   "outputs": [],
   "source": [
    "show_chroma('metal', '00090')"
   ]
  },
  {
   "cell_type": "code",
   "execution_count": null,
   "id": "52443761",
   "metadata": {},
   "outputs": [],
   "source": [
    "show_chroma('pop', '00090')"
   ]
  },
  {
   "cell_type": "code",
   "execution_count": null,
   "id": "9cdb4749",
   "metadata": {},
   "outputs": [],
   "source": [
    "show_chroma('reggae', '00090')"
   ]
  },
  {
   "cell_type": "code",
   "execution_count": null,
   "id": "43e07a39",
   "metadata": {},
   "outputs": [],
   "source": [
    "show_chroma('rock', '00090')"
   ]
  },
  {
   "cell_type": "code",
   "execution_count": null,
   "id": "9aa9768c",
   "metadata": {},
   "outputs": [],
   "source": [
    "def show_zcr(x, num):\n",
    "    # Load audio file\n",
    "    audio_path = f'/Users/umarkabir/Documents/Qwasar/Classical Punk/genres/{x}/{x}.{num}.wav'\n",
    "    y, sr = librosa.load(audio_path)\n",
    "\n",
    "    # Compute zero crossing rate\n",
    "    zcr = librosa.feature.zero_crossing_rate(y)\n",
    "\n",
    "    # Plot with Seaborn\n",
    "    fig, ax = plt.subplots(figsize=(10,6))\n",
    "    sns.lineplot(data=zcr[0], ax=ax)\n",
    "    ax.set(title=f'Zero Crossing Rate for {x} Genre', xlabel='Time (s)', ylabel='ZCR')\n",
    "    plt.show()\n"
   ]
  },
  {
   "cell_type": "markdown",
   "id": "ae85dd14",
   "metadata": {},
   "source": [
    "The show_zcr function takes in two arguments: x, which represents the genre of the music file, and num, which represents the number of the music file. It calculates the zero-crossing rate of the audio file and plots it using Plotly. "
   ]
  },
  {
   "cell_type": "code",
   "execution_count": null,
   "id": "54d0d13d",
   "metadata": {},
   "outputs": [],
   "source": [
    "show_zcr('blues', '00090')"
   ]
  },
  {
   "cell_type": "code",
   "execution_count": null,
   "id": "6dc43cbb",
   "metadata": {},
   "outputs": [],
   "source": [
    "show_zcr('classical', '00090')"
   ]
  },
  {
   "cell_type": "code",
   "execution_count": null,
   "id": "107ae409",
   "metadata": {},
   "outputs": [],
   "source": [
    "show_zcr('country', '00090')"
   ]
  },
  {
   "cell_type": "code",
   "execution_count": null,
   "id": "ee23dbf9",
   "metadata": {},
   "outputs": [],
   "source": [
    "show_zcr('disco', '00090')"
   ]
  },
  {
   "cell_type": "code",
   "execution_count": null,
   "id": "9917b09f",
   "metadata": {},
   "outputs": [],
   "source": [
    "show_zcr('hiphop', '00090')"
   ]
  },
  {
   "cell_type": "code",
   "execution_count": null,
   "id": "76b38f34",
   "metadata": {},
   "outputs": [],
   "source": [
    "show_zcr('jazz', '00090')"
   ]
  },
  {
   "cell_type": "code",
   "execution_count": null,
   "id": "6e7c6909",
   "metadata": {},
   "outputs": [],
   "source": [
    "show_zcr('pop', '00090')"
   ]
  },
  {
   "cell_type": "code",
   "execution_count": null,
   "id": "b1df2b20",
   "metadata": {},
   "outputs": [],
   "source": [
    "show_zcr('reggae', '00090')"
   ]
  },
  {
   "cell_type": "code",
   "execution_count": null,
   "id": "a2e37627",
   "metadata": {},
   "outputs": [],
   "source": [
    "show_zcr('rock', '00090')"
   ]
  },
  {
   "cell_type": "markdown",
   "id": "d642835c",
   "metadata": {},
   "source": [
    "<a id='summary-statistics'></a>\n",
    "<font size=\"+1\" color='#780404'><b> 4.3 Summary Statistics</b></font>  \n",
    "[back to top](#table-of-contents)"
   ]
  },
  {
   "cell_type": "code",
   "execution_count": null,
   "id": "4bd55d2a",
   "metadata": {},
   "outputs": [],
   "source": [
    "df.describe(include='all')"
   ]
  },
  {
   "cell_type": "code",
   "execution_count": null,
   "id": "33f9aa3d",
   "metadata": {},
   "outputs": [],
   "source": [
    "def skew_kurt(data, col):\n",
    "    # Calculate skewness and kurtosis of Income column\n",
    "    _skewness = skew(data[col])\n",
    "    _kurtosis = kurtosis(data[col])\n",
    "\n",
    "    # Create histogram of Income column with mean, median, and mode\n",
    "    sns.histplot(data=data, x=col, kde=True)\n",
    "    plt.axvline(data[col].mean(), color='r', linestyle='--', label='Mean')\n",
    "    plt.axvline(data[col].median(), color='g', linestyle='--', label='Median')\n",
    "    plt.axvline(data[col].mode()[0], color='b', linestyle='--', label='Mode')\n",
    "    plt.legend()\n",
    "\n",
    "    # Add text annotation for skewness and kurtosis values\n",
    "    plt.annotate('Skewness: {:.2f}'.format(_skewness), xy=(0.5, 0.9), xycoords='axes fraction')\n",
    "    plt.annotate('Kurtosis: {:.2f}'.format(_kurtosis), xy=(0.5, 0.85), xycoords='axes fraction')\n",
    "\n",
    "    plt.show()"
   ]
  },
  {
   "cell_type": "code",
   "execution_count": null,
   "id": "516f48ff",
   "metadata": {
    "scrolled": false
   },
   "outputs": [],
   "source": [
    "skew_kurt(df[df['Genre'] == 'blues'], 'Tempo')"
   ]
  },
  {
   "cell_type": "code",
   "execution_count": null,
   "id": "9fc0cf94",
   "metadata": {},
   "outputs": [],
   "source": [
    "skew_kurt(df[df['Genre'] == 'classical'], 'Tempo')"
   ]
  },
  {
   "cell_type": "code",
   "execution_count": null,
   "id": "2847578b",
   "metadata": {},
   "outputs": [],
   "source": [
    "skew_kurt(df[df['Genre'] == 'country'], 'Tempo')"
   ]
  },
  {
   "cell_type": "code",
   "execution_count": null,
   "id": "f3758ce5",
   "metadata": {},
   "outputs": [],
   "source": [
    "skew_kurt(df[df['Genre'] == 'disco'], 'Tempo')"
   ]
  },
  {
   "cell_type": "code",
   "execution_count": null,
   "id": "8d668351",
   "metadata": {},
   "outputs": [],
   "source": [
    "skew_kurt(df[df['Genre'] == 'hiphop'], 'Tempo')"
   ]
  },
  {
   "cell_type": "code",
   "execution_count": null,
   "id": "5306d4f8",
   "metadata": {},
   "outputs": [],
   "source": [
    "skew_kurt(df[df['Genre'] == 'jazz'], 'Tempo')"
   ]
  },
  {
   "cell_type": "code",
   "execution_count": null,
   "id": "c093d5d4",
   "metadata": {},
   "outputs": [],
   "source": [
    "skew_kurt(df[df['Genre'] == 'metal'], 'Tempo')"
   ]
  },
  {
   "cell_type": "code",
   "execution_count": null,
   "id": "9e0cc118",
   "metadata": {},
   "outputs": [],
   "source": [
    "skew_kurt(df[df['Genre'] == 'pop'], 'Tempo')"
   ]
  },
  {
   "cell_type": "code",
   "execution_count": null,
   "id": "3422ccf8",
   "metadata": {},
   "outputs": [],
   "source": [
    "skew_kurt(df[df['Genre'] == 'reggae'], 'Tempo')"
   ]
  },
  {
   "cell_type": "code",
   "execution_count": null,
   "id": "90db7508",
   "metadata": {},
   "outputs": [],
   "source": [
    "skew_kurt(df[df['Genre'] == 'rock'], 'Tempo')"
   ]
  },
  {
   "cell_type": "markdown",
   "id": "67ea1afa",
   "metadata": {},
   "source": [
    "<a id='feature-correlation'></a>\n",
    "<font size=\"+1\" color='#780404'><b> 4.4 Feature Correlation</b></font>  \n",
    "[back to top](#table-of-contents)"
   ]
  },
  {
   "cell_type": "code",
   "execution_count": null,
   "id": "8aad7e9b",
   "metadata": {},
   "outputs": [],
   "source": [
    "df_corr = df.corr()"
   ]
  },
  {
   "cell_type": "code",
   "execution_count": null,
   "id": "7b02106e",
   "metadata": {},
   "outputs": [],
   "source": [
    "# Compute correlation matrix\n",
    "\n",
    "# Set figure size and font sizes\n",
    "fig, ax = plt.subplots(figsize=(50, 50))\n",
    "sns.set(font_scale=1.9)\n",
    "\n",
    "# Plot heatmap with adjusted color map\n",
    "sns.heatmap(df_corr, cmap='coolwarm', annot=True, center=0, square=True)\n",
    "\n",
    "# Adjust font size of features\n",
    "ax.set_xticklabels(ax.get_xticklabels(), fontsize=35)\n",
    "ax.set_yticklabels(ax.get_yticklabels(), fontsize=35)\n",
    "\n",
    "# Add title and axis labels\n",
    "plt.title('Correlation Matrix', fontsize=30)\n",
    "plt.xlabel('Features', fontsize=20)\n",
    "plt.ylabel('Features', fontsize=20)\n",
    "\n",
    "# Show plot\n",
    "plt.show()"
   ]
  },
  {
   "cell_type": "markdown",
   "id": "1727a626",
   "metadata": {},
   "source": [
    "<a id='data-preparation'></a>\n",
    "<font size=\"+2\" color='#053c96'><b> 5. Data Preparation</b></font>  \n",
    "[back to top](#table-of-contents)"
   ]
  },
  {
   "cell_type": "markdown",
   "id": "8a5fc006",
   "metadata": {},
   "source": [
    "<a id='data-cleaning'></a>\n",
    "<font size=\"+1\" color='#780404'><b> 5.1 Data Cleaning</b></font>  \n",
    "[back to top](#table-of-contents)"
   ]
  },
  {
   "cell_type": "markdown",
   "id": "96ab2b48",
   "metadata": {},
   "source": [
    "<a id='feature-engineering'></a>\n",
    "<font size=\"+1\" color='#780404'><b> 5.2 Feature Engineering</b></font>  \n",
    "[back to top](#table-of-contents)"
   ]
  },
  {
   "cell_type": "code",
   "execution_count": null,
   "id": "f98ce3e8",
   "metadata": {},
   "outputs": [],
   "source": [
    "df['Beats Mean'] = df['Beats'].apply(lambda x: np.mean(x))\n",
    "df['Central Moments Mean'] = df['Central Moments'].apply(lambda x: np.mean(x))\n",
    "df['Zero Crossing Rate Mean'] = df['Zero Crossing Rate'].apply(lambda x: np.mean(x))\n",
    "df['RMSE Mean'] = df['RMSE'].apply(lambda x: np.mean(x))\n",
    "df['Spectral Contrast Mean'] = df['Spectral Contrast'].apply(lambda x: np.mean(x))\n",
    "df['Spectral Roll-off Mean'] = df['Spectral Roll-off'].apply(lambda x: np.mean(x))\n",
    "df['MFCC Mean'] = df['MFCC'].apply(lambda x: np.mean(x))\n",
    "df['Chroma Mean'] = df['Chroma'].apply(lambda x: np.mean(x))\n",
    "df['Spectral Centroid Mean'] = df['Spectral Centroid'].apply(lambda x: np.mean(x))\n",
    "df['Spectral Bandwidth Mean'] = df['Spectral Bandwidth'].apply(lambda x: np.mean(x))"
   ]
  },
  {
   "cell_type": "code",
   "execution_count": null,
   "id": "e92bbc9c",
   "metadata": {},
   "outputs": [],
   "source": [
    "df['Beats Var'] = df['Beats'].apply(lambda x: np.var(x))\n",
    "df['Central Moments Var'] = df['Central Moments'].apply(lambda x: np.var(x))\n",
    "df['Zero Crossing Rate Var'] = df['Zero Crossing Rate'].apply(lambda x: np.var(x))\n",
    "df['RMSE Var'] = df['RMSE'].apply(lambda x: np.var(x))\n",
    "df['Spectral Contrast Var'] = df['Spectral Contrast'].apply(lambda x: np.var(x))\n",
    "df['Spectral Roll-off Var'] = df['Spectral Roll-off'].apply(lambda x: np.var(x))\n",
    "df['MFCC Var'] = df['MFCC'].apply(lambda x: np.var(x))\n",
    "df['Chroma Var'] = df['Chroma'].apply(lambda x: np.var(x))\n",
    "df['Spectral Centroid Var'] = df['Spectral Centroid'].apply(lambda x: np.var(x))\n",
    "df['Spectral Bandwidth Var'] = df['Spectral Bandwidth'].apply(lambda x: np.var(x))"
   ]
  },
  {
   "cell_type": "code",
   "execution_count": null,
   "id": "16aa6825",
   "metadata": {},
   "outputs": [],
   "source": [
    "df['Beats Std'] = df['Beats'].apply(lambda x: np.std(x))\n",
    "df['Central Moments Std'] = df['Central Moments'].apply(lambda x: np.std(x))\n",
    "df['Zero Crossing Rate Std'] = df['Zero Crossing Rate'].apply(lambda x: np.std(x))\n",
    "df['RMSE Std'] = df['RMSE'].apply(lambda x: np.std(x))\n",
    "df['Spectral Contrast Std'] = df['Spectral Contrast'].apply(lambda x: np.std(x))\n",
    "df['Spectral Roll-off Std'] = df['Spectral Roll-off'].apply(lambda x: np.std(x))\n",
    "df['MFCC Std'] = df['MFCC'].apply(lambda x: np.std(x))\n",
    "df['Chroma Std'] = df['Chroma'].apply(lambda x: np.std(x))\n",
    "df['Spectral Centroid Std'] = df['Spectral Centroid'].apply(lambda x: np.std(x))\n",
    "df['Spectral Bandwidth Std'] = df['Spectral Bandwidth'].apply(lambda x: np.std(x))"
   ]
  },
  {
   "cell_type": "markdown",
   "id": "6cff5001",
   "metadata": {},
   "source": [
    "<a id='data-transformation'></a>\n",
    "<font size=\"+1\" color='#780404'><b> 5.3 Data Transformation</b></font>  \n",
    "[back to top](#table-of-contents)\n",
    "<a id='modeling'></a>"
   ]
  },
  {
   "cell_type": "code",
   "execution_count": null,
   "id": "09402f1b",
   "metadata": {},
   "outputs": [],
   "source": [
    "genre_col = df['Genre']\n",
    "le = LabelEncoder()\n",
    "y = le.fit_transform(genre_col)"
   ]
  },
  {
   "cell_type": "code",
   "execution_count": null,
   "id": "74a4e6f5",
   "metadata": {},
   "outputs": [],
   "source": [
    "# create target dataset\n",
    "#y = df['Genre']"
   ]
  },
  {
   "cell_type": "code",
   "execution_count": null,
   "id": "be8952a5",
   "metadata": {},
   "outputs": [],
   "source": [
    "x = df.drop(['Genre', 'Filename', 'Unnamed: 0', 'Beats', 'SR',\n",
    "             'Central Moments', 'Zero Crossing Rate', 'RMSE',\n",
    "             'Spectral Contrast', 'Spectral Roll-off', 'MFCC',\n",
    "             'Chroma', 'Spectral Centroid', 'Spectral Bandwidth'], axis=1)"
   ]
  },
  {
   "cell_type": "code",
   "execution_count": null,
   "id": "bf5b329d",
   "metadata": {},
   "outputs": [],
   "source": [
    "x.shape"
   ]
  },
  {
   "cell_type": "code",
   "execution_count": null,
   "id": "4c9f5ed8",
   "metadata": {},
   "outputs": [],
   "source": [
    "#Create a TF-IDF object instance\n",
    "scaler = StandardScaler()\n",
    "X = scaler.fit_transform(x)"
   ]
  },
  {
   "cell_type": "code",
   "execution_count": null,
   "id": "131a9b19",
   "metadata": {},
   "outputs": [],
   "source": [
    "#Pareto Principle Split\n",
    "X_train, X_test, y_train, y_test = train_test_split(X, y,\n",
    "                                                    test_size= 0.3,\n",
    "                                                    random_state= 42)"
   ]
  },
  {
   "cell_type": "markdown",
   "id": "3d43353f",
   "metadata": {},
   "source": [
    "<a id='modeling'></a>\n",
    "\n",
    "<font size=\"+2\" color='#053c96'><b> 6. Modeling</b></font>  \n",
    "[back to top](#table-of-contents)"
   ]
  },
  {
   "cell_type": "markdown",
   "id": "aa5ddcd8",
   "metadata": {},
   "source": [
    "<a id='model-selection'></a>\n",
    "\n",
    "<font size=\"+1\" color='#780404'><b> 6.1 Model Selection</b></font>  \n",
    "[back to top](#table-of-contents)"
   ]
  },
  {
   "cell_type": "code",
   "execution_count": null,
   "id": "ac15df90",
   "metadata": {},
   "outputs": [],
   "source": [
    "# Multiclass Support Vector Machines (SVM)\n",
    "svm_pipeline = Pipeline([\n",
    "    ('scaler', StandardScaler()),\n",
    "    ('clf', OneVsRestClassifier(SVC(kernel='rbf', C=1, gamma='scale')))\n",
    "])\n",
    "\n",
    "# K-Means Clustering\n",
    "kmeans_pipeline = Pipeline([\n",
    "    ('scaler', StandardScaler()),\n",
    "    ('kmeans', KMeans(n_clusters=10))\n",
    "])\n",
    "\n",
    "# K-Nearest Neighbors (KNN)\n",
    "knn_pipeline = Pipeline([\n",
    "    ('scaler', StandardScaler()),\n",
    "    ('knn', KNeighborsClassifier(n_neighbors=5))\n",
    "])\n",
    "\n",
    "# Convolutional Neural Networks (CNNs)\n",
    "cnn_pipeline = Pipeline([\n",
    "    ('clf', Sequential([\n",
    "        Conv2D(32, (3, 3), activation='relu', input_shape=(28, 28, 1)),\n",
    "        MaxPooling2D((2, 2)),\n",
    "        Flatten(),\n",
    "        Dense(10, activation='softmax')\n",
    "    ]))\n",
    "])\n",
    "\n",
    "# Compile the CNN model\n",
    "cnn_pipeline.named_steps['clf'].compile(optimizer='adam', loss='categorical_crossentropy', metrics=['accuracy'])\n"
   ]
  },
  {
   "cell_type": "markdown",
   "id": "dcadadaf",
   "metadata": {},
   "source": [
    "<a id='model-training'></a>\n",
    "\n",
    "<font size=\"+1\" color='#780404'><b> 6.2 Model Training</b></font>  \n",
    "[back to top](#table-of-contents)"
   ]
  },
  {
   "cell_type": "code",
   "execution_count": null,
   "id": "025cade7",
   "metadata": {},
   "outputs": [],
   "source": [
    "# Fit SVM pipeline\n",
    "svm_pipeline.fit(X_train, y_train)\n",
    "\n",
    "# Fit K-Means pipeline\n",
    "kmeans_pipeline.fit(X_train)\n",
    "\n",
    "# Fit KNN pipeline\n",
    "knn_pipeline.fit(X_train, y_train)\n"
   ]
  },
  {
   "cell_type": "markdown",
   "id": "43d33277",
   "metadata": {},
   "source": [
    "<a id='model-evaluation'></a>\n",
    "\n",
    "<font size=\"+1\" color='#780404'><b> 6.3 Model Evaluation</b></font>  \n",
    "[back to top](#table-of-contents)"
   ]
  },
  {
   "cell_type": "code",
   "execution_count": null,
   "id": "d294d522",
   "metadata": {},
   "outputs": [],
   "source": [
    "# Initialize the lists for performance metrics and confusion matrices\n",
    "f1_list = []\n",
    "pr_list = []\n",
    "rc_list = []\n",
    "acc_list = []\n",
    "cm_list = []\n",
    "\n",
    "# Evaluate additional models\n",
    "# evaluate the SVM pipeline\n",
    "\n",
    "y_pred_svm = svm_pipeline.predict(X_test)\n",
    "f1_list.append(f1_score(y_test, y_pred_svm, average='weighted'))\n",
    "pr_list.append(precision_score(y_test, y_pred_svm, average='weighted'))\n",
    "rc_list.append(recall_score(y_test, y_pred_svm, average='weighted'))\n",
    "acc_list.append(accuracy_score(y_test, y_pred_svm))\n",
    "cm_list.append(confusion_matrix(y_test, y_pred_svm))\n",
    "\n",
    "# evaluate the K-Means pipeline\n",
    "y_pred_kmeans = kmeans_pipeline.predict(X_test)\n",
    "f1_list.append(f1_score(y_test, y_pred_kmeans, average='weighted'))\n",
    "pr_list.append(precision_score(y_test, y_pred_kmeans, average='weighted'))\n",
    "rc_list.append(recall_score(y_test, y_pred_kmeans, average='weighted'))\n",
    "acc_list.append(accuracy_score(y_test, y_pred_kmeans))\n",
    "cm_list.append(confusion_matrix(y_test, y_pred_kmeans))\n",
    "\n",
    "# evaluate the KNN pipeline\n",
    "y_pred_knn = knn_pipeline.predict(X_test)\n",
    "f1_list.append(f1_score(y_test, y_pred_knn, average='weighted'))\n",
    "pr_list.append(precision_score(y_test, y_pred_knn, average='weighted'))\n",
    "rc_list.append(recall_score(y_test, y_pred_knn, average='weighted'))\n",
    "acc_list.append(accuracy_score(y_test, y_pred_knn))\n",
    "cm_list.append(confusion_matrix(y_test, y_pred_knn))\n",
    "\n",
    "# evaluate the CNN pipeline\n",
    "y_pred_cnn = cnn_pipeline.predict(X_test)\n",
    "f1_list.append(f1_score(y_test, y_pred_cnn, average='weighted'))\n",
    "pr_list.append(precision_score(y_test, y_pred_cnn, average='weighted'))\n",
    "rc_list.append(recall_score(y_test, y_pred_cnn, average='weighted'))\n",
    "acc_list.append(accuracy_score(y_test, y_pred_cnn))\n",
    "cm_list.append(confusion_matrix(y_test, y_pred_cnn))"
   ]
  },
  {
   "cell_type": "code",
   "execution_count": null,
   "id": "62cd936e",
   "metadata": {},
   "outputs": [],
   "source": [
    "model_list = ['SVM', 'Kmeans', 'KNN']"
   ]
  },
  {
   "cell_type": "markdown",
   "id": "e091e1e0",
   "metadata": {},
   "source": [
    "<a id='results'></a>\n",
    "<font size=\"+2\" color='#053c96'><b> 7. Results</b></font>  \n",
    "[back to top](#table-of-contents)"
   ]
  },
  {
   "cell_type": "code",
   "execution_count": null,
   "id": "87a65abe",
   "metadata": {},
   "outputs": [],
   "source": [
    "result = pd.DataFrame({'Model': model_list, 'F1': f1_list, 'Precision': pr_list, 'Recall': rc_list, 'Accuracy': acc_list})"
   ]
  },
  {
   "cell_type": "code",
   "execution_count": null,
   "id": "a2626b26",
   "metadata": {},
   "outputs": [],
   "source": [
    "result"
   ]
  },
  {
   "cell_type": "markdown",
   "id": "baa9d457",
   "metadata": {},
   "source": [
    "<a id='analysis-results'></a>\n",
    "\n",
    "<font size=\"+1\" color='#780404'><b> 7.1 Analysis of Results</b></font>  \n",
    "[back to top](#table-of-contents)  \n",
    "\n",
    "The results suggest that the SVM and KNN models perform better than the Kmeans model, based on F1-score, precision, recall, and accuracy.  \n",
    "\n",
    "Overall, the SVM and KNN models appear to be more suitable for this task than the Kmeans model. However, the performance of the models may depend on the specific characteristics of the dataset, and further analysis may be necessary to confirm the generalizability of the models."
   ]
  },
  {
   "cell_type": "markdown",
   "id": "daea103b",
   "metadata": {},
   "source": [
    "<a id='model-performance'></a>\n",
    "\n",
    "<font size=\"+1\" color='#780404'><b> 7.2 Model Performance</b></font>  \n",
    "[back to top](#table-of-contents)  \n",
    "\n",
    "From the given results, the SVM and KNN models perform better than the Kmeans model in terms of F1-score, precision, and recall. The SVM model has the highest F1-score and recall, while the KNN model has the highest precision. However, the SVM model has slightly lower precision than the KNN model.\n",
    "\n",
    "The Kmeans model has the lowest F1-score, precision, and recall among the three models, indicating that it performs poorly in predicting positive cases. Although the accuracy of the Kmeans model is the same as that of the SVM model, accuracy alone is not a reliable metric for imbalanced datasets where the majority class dominates the prediction.\n",
    "\n",
    "Therefore, based on the given results, the SVM and KNN models appear to be more suitable for the given task than the Kmeans model. However, it is important to note that the performance of the models may depend on the specific characteristics of the dataset, and further analysis may be necessary to confirm the generalizability of the models."
   ]
  },
  {
   "cell_type": "markdown",
   "id": "a7b54eb5",
   "metadata": {},
   "source": [
    "<a id='implications'></a>\n",
    "\n",
    "<font size=\"+1\" color='#780404'><b> 7.3 Implications</b></font>  \n",
    "[back to top](#table-of-contents)  \n",
    "\n",
    "The given results have several implications, such as:\n",
    "\n",
    "Model Selection: The results suggest that the SVM and KNN models may be more suitable for this task than the Kmeans model. Therefore, the SVM or KNN model may be selected for further analysis or implementation.\n",
    "\n",
    "Hyperparameter Tuning: The performance of the models may depend on the hyperparameters chosen. Therefore, hyperparameter tuning can be performed to optimize the model performance.\n",
    "\n",
    "Dataset Characteristics: The performance of the models may depend on the specific characteristics of the dataset, such as the distribution of the classes or the presence of outliers. Therefore, further analysis may be necessary to confirm the generalizability of the models to other datasets.\n",
    "\n",
    "Performance Metrics: The selection of performance metrics can have implications for the evaluation of the models. For example, the accuracy metric may not be reliable for imbalanced datasets. Therefore, multiple metrics should be used to evaluate the models comprehensively.\n",
    "\n",
    "Overall, the given results provide insights into the performance of the models and can guide further analysis or implementation of the models."
   ]
  },
  {
   "cell_type": "markdown",
   "id": "0cfb8f75",
   "metadata": {},
   "source": [
    "<a id='conclusion'></a>\n",
    "\n",
    "<font size=\"+2\" color='#053c96'><b> 8. Conclusion</b></font>  \n",
    "[back to top](#table-of-contents)"
   ]
  },
  {
   "cell_type": "markdown",
   "id": "c7c6ce88",
   "metadata": {},
   "source": [
    "<a id='summary'></a>\n",
    "\n",
    "<font size=\"+1\" color='#780404'><b> 8.1 Summary</b></font>  \n",
    "[back to top](#table-of-contents)  \n",
    "\n",
    "In conclusion, the results of the machine learning models developed for music genre classification suggest that the SVM and KNN models perform better than the Kmeans model. Both the SVM and KNN models have higher F1-scores, precision, and recall than the Kmeans model, indicating better performance in predicting the different music genres, including Classically Punk. This implies that the developed machine learning application can automate the process of music genre classification, making it faster, more accurate, and scalable. The application can extract features from audio files and train an SVM or KNN model to classify music into different genres without the need for human intervention. However, further analysis is necessary to confirm the generalizability of the models to other datasets, and hyperparameter tuning may be required to optimize the performance of the models. Overall, the developed machine learning application has the potential to revolutionize the music industry by streamlining the process of music genre classification."
   ]
  },
  {
   "cell_type": "markdown",
   "id": "9d6b300b",
   "metadata": {},
   "source": [
    "<a id='recommendations'></a>\n",
    "\n",
    "<font size=\"+1\" color='#780404'><b> 8.2 Recommendations</b></font>  \n",
    "[back to top](#table-of-contents)  \n",
    "\n",
    "Based on the problem statement and the results obtained from the machine learning models, here are some recommendations that could help to further improve the music genre classification application:\n",
    "\n",
    "1. Data Augmentation: To improve the performance of the machine learning models, it may be helpful to augment the training data by adding variations of the existing data. This can be done by applying audio effects such as pitch shifting, time stretching, or adding noise to create a more diverse training set.\n",
    "\n",
    "2. Feature Engineering: Feature engineering involves selecting and extracting meaningful features from audio files to train the machine learning model. By experimenting with different audio features and selecting the most informative ones, the performance of the machine learning model can be improved.\n",
    "\n",
    "3. Ensemble Learning: Ensemble learning involves combining the predictions of multiple machine learning models to improve the overall performance. By training multiple models using different algorithms or hyperparameters and combining their predictions, the overall accuracy of the application can be improved.\n",
    "\n",
    "4. User Feedback: Collecting feedback from users of the application can help to improve the accuracy of the machine learning model over time. By allowing users to provide feedback on the accuracy of the classification results, the application can learn from its mistakes and continuously improve its performance.\n",
    "\n",
    "5. Continuous Monitoring: It is important to continuously monitor the performance of the machine learning model to ensure that it is accurately classifying the different music genres. Regularly updating the model with new data and retraining it can help to improve its accuracy and keep up with changes in the music industry."
   ]
  },
  {
   "cell_type": "markdown",
   "id": "3342fdf5",
   "metadata": {},
   "source": [
    "<a id='references'></a>\n",
    "\n",
    "<font size=\"+2\" color='#053c96'><b> 9. References</b></font>  \n",
    "[back to top](#table-of-contents)  \n",
    "\n",
    "1. Arsh Chowdhry. Music Genre Classification Using CNN. https://blog.clairvoyantsoft.com/music-genre-classification-using-cnn-ef9461553726\n",
    "2. Faisal Ahmed, Padma Polash Paul, Marina Gavrilova. Music Genre Classification Using a Gradient-Based Local Texture Descriptor https://www.researchgate.net/publication/303860385_Music_Genre_Classification_Using_a_Gradient-Based_Local_Texture_Descriptor\n",
    "3. Albert Jiménez. Music Genre Classification with Deep Learning https://github.com/jsalbert/Music-Genre-Classification-with-Deep-Learning\n",
    "4. Insiyah Hajoori. Music Genre Classification https://github.com/Insiyaa/Music-Genre-Classification\n",
    "5. A. Elbir, N. Aydin. Music genre classification and music recommendation by using deep learning https://ietresearch.onlinelibrary.wiley.com/doi/full/10.1049/el.2019.4202"
   ]
  },
  {
   "cell_type": "code",
   "execution_count": null,
   "id": "07af53da",
   "metadata": {},
   "outputs": [],
   "source": []
  }
 ],
 "metadata": {
  "kernelspec": {
   "display_name": "Python 3 (ipykernel)",
   "language": "python",
   "name": "python3"
  },
  "language_info": {
   "codemirror_mode": {
    "name": "ipython",
    "version": 3
   },
   "file_extension": ".py",
   "mimetype": "text/x-python",
   "name": "python",
   "nbconvert_exporter": "python",
   "pygments_lexer": "ipython3",
   "version": "3.10.9"
  }
 },
 "nbformat": 4,
 "nbformat_minor": 5
}
