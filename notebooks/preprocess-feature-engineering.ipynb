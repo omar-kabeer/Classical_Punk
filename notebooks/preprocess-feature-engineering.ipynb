{
 "cells": [
  {
   "cell_type": "markdown",
   "id": "a9bfb526",
   "metadata": {},
   "source": [
    "<font size=\"+3\" color='#053c96'><h2><center> Preprocessing and Feature Engineering</h2></center></font>\n",
    "<figure>\n",
    "<center><img src =\"https://miro.medium.com/v2/resize:fit:828/format:webp/1*637kim0dxEy5AouQ2chsNQ.jpeg\" width = \"750\" height = '600' alt=\"Classical Punk\"/>\n",
    "<font size=\"0\" color='#053c96'><h4><center> Photo Credit: [analyticsvidhya](https://www.analyticsvidhya.com/blog/2018/11/data-engineer-comprehensive-list-resources-get-started/)</h4></center></font>"
   ]
  },
  {
   "cell_type": "markdown",
   "id": "0fd8aca5",
   "metadata": {},
   "source": [
    "<font size=\"+2\" color='#053c96'><b> Contributor</b></font>  \n",
    "<font size=\"+0\" ><b> Umar Kabir</b></font>  "
   ]
  },
  {
   "cell_type": "markdown",
   "id": "5c866556",
   "metadata": {},
   "source": [
    "<a id='table-of-contents'></a>\n",
    "[Table of Contents](#table-of-contents)\n",
    "\n",
    "- [Importing Libraries](#importing-dependencies)\n",
    "- [Data](#data)\n",
    "- [Exploratory Data Analysis](#exploratory-data-analysis)\n",
    "- [Data Preparation](#data-preparation)\n",
    "  * [Data Cleaning](#data-cleaning)\n",
    "  * [Feature Engineering](#feature-engineering)"
   ]
  },
  {
   "cell_type": "markdown",
   "id": "63c48e75",
   "metadata": {},
   "source": [
    "<a id='importing-dependencies'></a>\n",
    "<font size=\"+2\" color='#053c96'><b> 1. Importing Libraries</b></font>  \n",
    "[back to top](#table-of-contents)"
   ]
  },
  {
   "cell_type": "code",
   "execution_count": 1,
   "id": "b70ac95f",
   "metadata": {},
   "outputs": [],
   "source": [
    "import sys\n",
    "# Insert the parent path relative to this notebook so we can import from the src folder.\n",
    "sys.path.insert(0, \"..\")\n",
    "\n",
    "from src.dependencies import *\n",
    "from src.functions import *"
   ]
  },
  {
   "cell_type": "markdown",
   "id": "8e2a29aa",
   "metadata": {},
   "source": [
    "<a id='data'></a>\n",
    "<font size=\"+2\" color='#053c96'><b> 2. Data</b></font>  \n",
    "[back to top](#table-of-contents)  \n",
    "\n",
    "The dataset was used for the well-known paper in genre classification \"Musical genre classification of audio signals\" by G. Tzanetakis and P. Cook in IEEE Transactions on Audio and Speech Processing 2002."
   ]
  },
  {
   "cell_type": "code",
   "execution_count": 2,
   "id": "f12d0496",
   "metadata": {
    "scrolled": false
   },
   "outputs": [],
   "source": [
    "df = pd.read_csv('../data/data.csv')"
   ]
  },
  {
   "cell_type": "markdown",
   "id": "47144d6c",
   "metadata": {},
   "source": [
    "<a id='exploratory-data-analysis'></a>\n",
    "<font size=\"+2\" color='#053c96'><b> 3. Exploratory Data Anaysis</b></font>  \n",
    "[back to top](#table-of-contents)"
   ]
  },
  {
   "cell_type": "code",
   "execution_count": 3,
   "id": "34e9185d",
   "metadata": {},
   "outputs": [
    {
     "data": {
      "text/html": [
       "<div>\n",
       "<style scoped>\n",
       "    .dataframe tbody tr th:only-of-type {\n",
       "        vertical-align: middle;\n",
       "    }\n",
       "\n",
       "    .dataframe tbody tr th {\n",
       "        vertical-align: top;\n",
       "    }\n",
       "\n",
       "    .dataframe thead th {\n",
       "        text-align: right;\n",
       "    }\n",
       "</style>\n",
       "<table border=\"1\" class=\"dataframe\">\n",
       "  <thead>\n",
       "    <tr style=\"text-align: right;\">\n",
       "      <th></th>\n",
       "      <th>Genre</th>\n",
       "      <th>Filename</th>\n",
       "      <th>Beats</th>\n",
       "      <th>SR</th>\n",
       "      <th>Central Moments</th>\n",
       "      <th>Zero Crossing Rate</th>\n",
       "      <th>RMSE</th>\n",
       "      <th>Tempo</th>\n",
       "      <th>Spectral Contrast</th>\n",
       "      <th>Spectral Roll-off</th>\n",
       "      <th>MFCC</th>\n",
       "      <th>Chroma</th>\n",
       "      <th>Spectral Centroid</th>\n",
       "      <th>Spectral Bandwidth</th>\n",
       "      <th>Spectral Flatness</th>\n",
       "      <th>Loudness</th>\n",
       "      <th>Complexity</th>\n",
       "      <th>Timbre</th>\n",
       "      <th>Spectral Energy</th>\n",
       "      <th>Temporal Energy</th>\n",
       "      <th>Harmonicity</th>\n",
       "      <th>Percussiveness</th>\n",
       "    </tr>\n",
       "  </thead>\n",
       "  <tbody>\n",
       "    <tr>\n",
       "      <th>0</th>\n",
       "      <td>blues</td>\n",
       "      <td>blues.00000.wav</td>\n",
       "      <td>[  11   32   53   73   94  114  135  156  177 ...</td>\n",
       "      <td>22050</td>\n",
       "      <td>[ 1.9598199e-10  1.9793237e-02 -5.6590850e-04 ...</td>\n",
       "      <td>[0.06494141 0.08300781 0.10791016 ... 0.086425...</td>\n",
       "      <td>[0.01908039 0.03683019 0.0497628  ... 0.140552...</td>\n",
       "      <td>123.046875</td>\n",
       "      <td>[[ 8.88813143 12.94743439 14.04482159 ...  8.7...</td>\n",
       "      <td>[[4705.00488281 4640.40527344 4715.77148438 .....</td>\n",
       "      <td>[[-2.40635422e+02 -2.11214355e+02 -1.93908890e...</td>\n",
       "      <td>[[0.33112547 0.2349237  0.8714165  ... 0.15691...</td>\n",
       "      <td>[[2122.97750086 2102.62107328 1955.28566681 .....</td>\n",
       "      <td>[[2283.0843996  2247.35232089 2308.61530036 .....</td>\n",
       "      <td>[[0.01456181 0.01049567 0.00578466 ... 0.00196...</td>\n",
       "      <td>[[-34.388256 -28.67592  -26.061905 ... -17.043...</td>\n",
       "      <td>-1.080439e-07</td>\n",
       "      <td>20.523289</td>\n",
       "      <td>8.668871e+09</td>\n",
       "      <td>13099.0450</td>\n",
       "      <td>[ 0.00691394  0.01504066  0.00982569 ... -0.01...</td>\n",
       "      <td>[ 0.00041028  0.0015609  -0.0021963  ... -0.03...</td>\n",
       "    </tr>\n",
       "    <tr>\n",
       "      <th>1</th>\n",
       "      <td>blues</td>\n",
       "      <td>blues.00001.wav</td>\n",
       "      <td>[   3   41   80  118  156  194  231  267  304 ...</td>\n",
       "      <td>22050</td>\n",
       "      <td>[2.6082897e-10 1.1581921e-02 8.0263242e-05 7.1...</td>\n",
       "      <td>[0.015625   0.01806641 0.02148438 ... 0.070312...</td>\n",
       "      <td>[0.04788139 0.10656705 0.14316952 ... 0.137602...</td>\n",
       "      <td>67.999589</td>\n",
       "      <td>[[17.79094137 11.06542308 11.43209494 ... 19.3...</td>\n",
       "      <td>[[1625.75683594 2260.98632812 2723.95019531 .....</td>\n",
       "      <td>[[-3.39146393e+02 -2.23899673e+02 -1.56065292e...</td>\n",
       "      <td>[[0.36823648 0.8158752  1.         ... 0.83394...</td>\n",
       "      <td>[[ 886.90855361 1051.83134299 1125.26706995 .....</td>\n",
       "      <td>[[1322.56608095 1750.98898746 1915.93500528 .....</td>\n",
       "      <td>[[0.00080758 0.00106355 0.00085136 ... 0.00215...</td>\n",
       "      <td>[[-26.396664 -19.44754  -16.882988 ... -17.227...</td>\n",
       "      <td>-2.336109e-07</td>\n",
       "      <td>20.672486</td>\n",
       "      <td>5.072549e+09</td>\n",
       "      <td>7664.8460</td>\n",
       "      <td>[ 0.00385567  0.00479104  0.00285076 ... -0.07...</td>\n",
       "      <td>[-0.0004377  -0.00048806 -0.00147747 ... -0.04...</td>\n",
       "    </tr>\n",
       "    <tr>\n",
       "      <th>2</th>\n",
       "      <td>blues</td>\n",
       "      <td>blues.00002.wav</td>\n",
       "      <td>[  13   30   46   64   80   96  112  129  146 ...</td>\n",
       "      <td>22050</td>\n",
       "      <td>[-1.2630751e-09  3.3572275e-02 -9.4693369e-04 ...</td>\n",
       "      <td>[0.04638672 0.06396484 0.0859375  ... 0.086914...</td>\n",
       "      <td>[0.12294307 0.14580017 0.15829462 ... 0.134463...</td>\n",
       "      <td>161.499023</td>\n",
       "      <td>[[ 9.9482166  17.3706133  26.02688982 ... 20.8...</td>\n",
       "      <td>[[2433.25195312 2368.65234375 2390.18554688 .....</td>\n",
       "      <td>[[-92.80102   -77.73783   -96.38281   ... -84....</td>\n",
       "      <td>[[0.27561098 0.20460801 0.19981515 ... 0.24957...</td>\n",
       "      <td>[[1510.21141028 1419.00318588 1386.42492231 .....</td>\n",
       "      <td>[[1480.48652053 1525.31517934 1567.39297006 .....</td>\n",
       "      <td>[[0.00218783 0.00097655 0.00057822 ... 0.00327...</td>\n",
       "      <td>[[-18.205917 -16.724838 -16.010677 ... -17.427...</td>\n",
       "      <td>-2.173789e-07</td>\n",
       "      <td>22.191292</td>\n",
       "      <td>1.470369e+10</td>\n",
       "      <td>22217.9280</td>\n",
       "      <td>[-0.00043778  0.02810758  0.02810844 ... -0.01...</td>\n",
       "      <td>[ 0.01945023  0.0195914   0.00131051 ...  0.02...</td>\n",
       "    </tr>\n",
       "    <tr>\n",
       "      <th>3</th>\n",
       "      <td>blues</td>\n",
       "      <td>blues.00003.wav</td>\n",
       "      <td>[  28   69  113  155  195  236  279  320  360 ...</td>\n",
       "      <td>22050</td>\n",
       "      <td>[3.1796636e-09 2.6253546e-02 5.5292981e-05 2.9...</td>\n",
       "      <td>[0.01025391 0.01464844 0.01855469 ... 0.034179...</td>\n",
       "      <td>[0.10660144 0.13829172 0.16152988 ... 0.017918...</td>\n",
       "      <td>63.024009</td>\n",
       "      <td>[[11.78803377 16.61964769 31.87276376 ... 24.0...</td>\n",
       "      <td>[[1205.859375   1248.92578125 1119.7265625  .....</td>\n",
       "      <td>[[-2.2065663e+02 -2.0152414e+02 -2.1341223e+02...</td>\n",
       "      <td>[[0.60287297 0.36729065 0.33834004 ... 0.55220...</td>\n",
       "      <td>[[ 694.20628788  696.3364192   659.96426081 .....</td>\n",
       "      <td>[[1162.25843622 1184.84755668 1146.65869359 .....</td>\n",
       "      <td>[[1.98361915e-04 1.11818306e-04 6.90561428e-05...</td>\n",
       "      <td>[[-19.444738 -17.184076 -15.834942 ... -34.933...</td>\n",
       "      <td>3.749026e-08</td>\n",
       "      <td>21.423621</td>\n",
       "      <td>1.149830e+10</td>\n",
       "      <td>17374.4410</td>\n",
       "      <td>[-0.01958259 -0.02814689 -0.0322431  ...  0.00...</td>\n",
       "      <td>[ 0.0065821  -0.00246225 -0.00382868 ...  0.00...</td>\n",
       "    </tr>\n",
       "    <tr>\n",
       "      <th>4</th>\n",
       "      <td>blues</td>\n",
       "      <td>blues.00004.wav</td>\n",
       "      <td>[   8   27   48   67   85  104  125  145  164 ...</td>\n",
       "      <td>22050</td>\n",
       "      <td>[2.0570905e-10 1.0682435e-02 1.4974119e-04 7.9...</td>\n",
       "      <td>[0.03955078 0.06494141 0.08935547 ... 0.065917...</td>\n",
       "      <td>[0.05263326 0.07990757 0.09952808 ... 0.054372...</td>\n",
       "      <td>135.999178</td>\n",
       "      <td>[[11.99368033 13.25920714 15.62874838 ... 15.4...</td>\n",
       "      <td>[[2293.28613281 2788.54980469 3025.41503906 .....</td>\n",
       "      <td>[[-281.78323   -180.33914   -155.01845   ... -...</td>\n",
       "      <td>[[0.19081402 0.17394003 0.06381712 ... 0.05633...</td>\n",
       "      <td>[[1367.54433603 1552.98979661 1630.62768824 .....</td>\n",
       "      <td>[[1544.2611461  1538.50945801 1543.53500673 .....</td>\n",
       "      <td>[[0.00295216 0.00145499 0.00069517 ... 0.00108...</td>\n",
       "      <td>[[-25.574795 -21.948242 -20.041086 ... -25.292...</td>\n",
       "      <td>9.259587e-08</td>\n",
       "      <td>21.459618</td>\n",
       "      <td>4.678600e+09</td>\n",
       "      <td>7069.5728</td>\n",
       "      <td>[-0.01237604 -0.01373281 -0.0110881  ...  0.02...</td>\n",
       "      <td>[0.00605891 0.00445547 0.00275681 ... 0.013665...</td>\n",
       "    </tr>\n",
       "  </tbody>\n",
       "</table>\n",
       "</div>"
      ],
      "text/plain": [
       "   Genre         Filename                                              Beats  \\\n",
       "0  blues  blues.00000.wav  [  11   32   53   73   94  114  135  156  177 ...   \n",
       "1  blues  blues.00001.wav  [   3   41   80  118  156  194  231  267  304 ...   \n",
       "2  blues  blues.00002.wav  [  13   30   46   64   80   96  112  129  146 ...   \n",
       "3  blues  blues.00003.wav  [  28   69  113  155  195  236  279  320  360 ...   \n",
       "4  blues  blues.00004.wav  [   8   27   48   67   85  104  125  145  164 ...   \n",
       "\n",
       "      SR                                    Central Moments  \\\n",
       "0  22050  [ 1.9598199e-10  1.9793237e-02 -5.6590850e-04 ...   \n",
       "1  22050  [2.6082897e-10 1.1581921e-02 8.0263242e-05 7.1...   \n",
       "2  22050  [-1.2630751e-09  3.3572275e-02 -9.4693369e-04 ...   \n",
       "3  22050  [3.1796636e-09 2.6253546e-02 5.5292981e-05 2.9...   \n",
       "4  22050  [2.0570905e-10 1.0682435e-02 1.4974119e-04 7.9...   \n",
       "\n",
       "                                  Zero Crossing Rate  \\\n",
       "0  [0.06494141 0.08300781 0.10791016 ... 0.086425...   \n",
       "1  [0.015625   0.01806641 0.02148438 ... 0.070312...   \n",
       "2  [0.04638672 0.06396484 0.0859375  ... 0.086914...   \n",
       "3  [0.01025391 0.01464844 0.01855469 ... 0.034179...   \n",
       "4  [0.03955078 0.06494141 0.08935547 ... 0.065917...   \n",
       "\n",
       "                                                RMSE       Tempo  \\\n",
       "0  [0.01908039 0.03683019 0.0497628  ... 0.140552...  123.046875   \n",
       "1  [0.04788139 0.10656705 0.14316952 ... 0.137602...   67.999589   \n",
       "2  [0.12294307 0.14580017 0.15829462 ... 0.134463...  161.499023   \n",
       "3  [0.10660144 0.13829172 0.16152988 ... 0.017918...   63.024009   \n",
       "4  [0.05263326 0.07990757 0.09952808 ... 0.054372...  135.999178   \n",
       "\n",
       "                                   Spectral Contrast  \\\n",
       "0  [[ 8.88813143 12.94743439 14.04482159 ...  8.7...   \n",
       "1  [[17.79094137 11.06542308 11.43209494 ... 19.3...   \n",
       "2  [[ 9.9482166  17.3706133  26.02688982 ... 20.8...   \n",
       "3  [[11.78803377 16.61964769 31.87276376 ... 24.0...   \n",
       "4  [[11.99368033 13.25920714 15.62874838 ... 15.4...   \n",
       "\n",
       "                                   Spectral Roll-off  \\\n",
       "0  [[4705.00488281 4640.40527344 4715.77148438 .....   \n",
       "1  [[1625.75683594 2260.98632812 2723.95019531 .....   \n",
       "2  [[2433.25195312 2368.65234375 2390.18554688 .....   \n",
       "3  [[1205.859375   1248.92578125 1119.7265625  .....   \n",
       "4  [[2293.28613281 2788.54980469 3025.41503906 .....   \n",
       "\n",
       "                                                MFCC  \\\n",
       "0  [[-2.40635422e+02 -2.11214355e+02 -1.93908890e...   \n",
       "1  [[-3.39146393e+02 -2.23899673e+02 -1.56065292e...   \n",
       "2  [[-92.80102   -77.73783   -96.38281   ... -84....   \n",
       "3  [[-2.2065663e+02 -2.0152414e+02 -2.1341223e+02...   \n",
       "4  [[-281.78323   -180.33914   -155.01845   ... -...   \n",
       "\n",
       "                                              Chroma  \\\n",
       "0  [[0.33112547 0.2349237  0.8714165  ... 0.15691...   \n",
       "1  [[0.36823648 0.8158752  1.         ... 0.83394...   \n",
       "2  [[0.27561098 0.20460801 0.19981515 ... 0.24957...   \n",
       "3  [[0.60287297 0.36729065 0.33834004 ... 0.55220...   \n",
       "4  [[0.19081402 0.17394003 0.06381712 ... 0.05633...   \n",
       "\n",
       "                                   Spectral Centroid  \\\n",
       "0  [[2122.97750086 2102.62107328 1955.28566681 .....   \n",
       "1  [[ 886.90855361 1051.83134299 1125.26706995 .....   \n",
       "2  [[1510.21141028 1419.00318588 1386.42492231 .....   \n",
       "3  [[ 694.20628788  696.3364192   659.96426081 .....   \n",
       "4  [[1367.54433603 1552.98979661 1630.62768824 .....   \n",
       "\n",
       "                                  Spectral Bandwidth  \\\n",
       "0  [[2283.0843996  2247.35232089 2308.61530036 .....   \n",
       "1  [[1322.56608095 1750.98898746 1915.93500528 .....   \n",
       "2  [[1480.48652053 1525.31517934 1567.39297006 .....   \n",
       "3  [[1162.25843622 1184.84755668 1146.65869359 .....   \n",
       "4  [[1544.2611461  1538.50945801 1543.53500673 .....   \n",
       "\n",
       "                                   Spectral Flatness  \\\n",
       "0  [[0.01456181 0.01049567 0.00578466 ... 0.00196...   \n",
       "1  [[0.00080758 0.00106355 0.00085136 ... 0.00215...   \n",
       "2  [[0.00218783 0.00097655 0.00057822 ... 0.00327...   \n",
       "3  [[1.98361915e-04 1.11818306e-04 6.90561428e-05...   \n",
       "4  [[0.00295216 0.00145499 0.00069517 ... 0.00108...   \n",
       "\n",
       "                                            Loudness    Complexity     Timbre  \\\n",
       "0  [[-34.388256 -28.67592  -26.061905 ... -17.043... -1.080439e-07  20.523289   \n",
       "1  [[-26.396664 -19.44754  -16.882988 ... -17.227... -2.336109e-07  20.672486   \n",
       "2  [[-18.205917 -16.724838 -16.010677 ... -17.427... -2.173789e-07  22.191292   \n",
       "3  [[-19.444738 -17.184076 -15.834942 ... -34.933...  3.749026e-08  21.423621   \n",
       "4  [[-25.574795 -21.948242 -20.041086 ... -25.292...  9.259587e-08  21.459618   \n",
       "\n",
       "   Spectral Energy  Temporal Energy  \\\n",
       "0     8.668871e+09       13099.0450   \n",
       "1     5.072549e+09        7664.8460   \n",
       "2     1.470369e+10       22217.9280   \n",
       "3     1.149830e+10       17374.4410   \n",
       "4     4.678600e+09        7069.5728   \n",
       "\n",
       "                                         Harmonicity  \\\n",
       "0  [ 0.00691394  0.01504066  0.00982569 ... -0.01...   \n",
       "1  [ 0.00385567  0.00479104  0.00285076 ... -0.07...   \n",
       "2  [-0.00043778  0.02810758  0.02810844 ... -0.01...   \n",
       "3  [-0.01958259 -0.02814689 -0.0322431  ...  0.00...   \n",
       "4  [-0.01237604 -0.01373281 -0.0110881  ...  0.02...   \n",
       "\n",
       "                                      Percussiveness  \n",
       "0  [ 0.00041028  0.0015609  -0.0021963  ... -0.03...  \n",
       "1  [-0.0004377  -0.00048806 -0.00147747 ... -0.04...  \n",
       "2  [ 0.01945023  0.0195914   0.00131051 ...  0.02...  \n",
       "3  [ 0.0065821  -0.00246225 -0.00382868 ...  0.00...  \n",
       "4  [0.00605891 0.00445547 0.00275681 ... 0.013665...  "
      ]
     },
     "execution_count": 3,
     "metadata": {},
     "output_type": "execute_result"
    }
   ],
   "source": [
    "df.head()"
   ]
  },
  {
   "cell_type": "markdown",
   "id": "5a56e95f",
   "metadata": {},
   "source": [
    "Many of the extracted features from the music files are structured as lists or nested lists. While this format is suitable for capturing the data, it may not be optimal for direct analysis and modeling purposes. Consequently, a more suitable data transformation or organization strategy is necessary to ensure that the data is effectively prepared for rigorous analysis and modeling tasks."
   ]
  },
  {
   "cell_type": "code",
   "execution_count": 4,
   "id": "1fbd4ec5",
   "metadata": {},
   "outputs": [
    {
     "name": "stdout",
     "output_type": "stream",
     "text": [
      "<class 'pandas.core.frame.DataFrame'>\n",
      "RangeIndex: 1000 entries, 0 to 999\n",
      "Data columns (total 22 columns):\n",
      " #   Column              Non-Null Count  Dtype  \n",
      "---  ------              --------------  -----  \n",
      " 0   Genre               1000 non-null   object \n",
      " 1   Filename            1000 non-null   object \n",
      " 2   Beats               1000 non-null   object \n",
      " 3   SR                  1000 non-null   int64  \n",
      " 4   Central Moments     1000 non-null   object \n",
      " 5   Zero Crossing Rate  1000 non-null   object \n",
      " 6   RMSE                1000 non-null   object \n",
      " 7   Tempo               1000 non-null   float64\n",
      " 8   Spectral Contrast   1000 non-null   object \n",
      " 9   Spectral Roll-off   1000 non-null   object \n",
      " 10  MFCC                1000 non-null   object \n",
      " 11  Chroma              1000 non-null   object \n",
      " 12  Spectral Centroid   1000 non-null   object \n",
      " 13  Spectral Bandwidth  1000 non-null   object \n",
      " 14  Spectral Flatness   1000 non-null   object \n",
      " 15  Loudness            1000 non-null   object \n",
      " 16  Complexity          1000 non-null   float64\n",
      " 17  Timbre              1000 non-null   float64\n",
      " 18  Spectral Energy     1000 non-null   float64\n",
      " 19  Temporal Energy     1000 non-null   float64\n",
      " 20  Harmonicity         1000 non-null   object \n",
      " 21  Percussiveness      1000 non-null   object \n",
      "dtypes: float64(5), int64(1), object(16)\n",
      "memory usage: 172.0+ KB\n"
     ]
    }
   ],
   "source": [
    "df.info()"
   ]
  },
  {
   "cell_type": "code",
   "execution_count": 5,
   "id": "7e03ad98",
   "metadata": {},
   "outputs": [
    {
     "data": {
      "text/plain": [
       "(1000, 22)"
      ]
     },
     "execution_count": 5,
     "metadata": {},
     "output_type": "execute_result"
    }
   ],
   "source": [
    "df.shape"
   ]
  },
  {
   "cell_type": "markdown",
   "id": "f0afdcb3",
   "metadata": {},
   "source": [
    "<a id='exploratory-data-analysis'></a>\n",
    "<font size=\"+2\" color='#053c96'><b> 4. Data Preparation</b></font>  \n",
    "[back to top](#table-of-contents)"
   ]
  },
  {
   "cell_type": "markdown",
   "id": "40b442d4",
   "metadata": {},
   "source": [
    "<a id='data-exploration'></a>\n",
    "<font size=\"+1\" color='#780404'><b> 4.1 Data Cleaning</b></font>  \n",
    "[back to top](#table-of-contents)"
   ]
  },
  {
   "cell_type": "code",
   "execution_count": 6,
   "id": "c51c419a",
   "metadata": {},
   "outputs": [],
   "source": [
    "df['Zero Crossing Rate'] = [[x] for x in df['Zero Crossing Rate']]\n",
    "df['RMSE'] = [[x] for x in df['RMSE']]\n",
    "df['Spectral Flatness'] = [[x] for x in df['Spectral Flatness']]\n",
    "df['Loudness'] = [[x] for x in df['Loudness']]\n",
    "df['Harmonicity'] = [[x] for x in df['Harmonicity']]\n",
    "df['Percussiveness'] = [[x] for x in df['Percussiveness']]\n",
    "df['Central Moments'] = [[x] for x in df['Central Moments']]\n",
    "df['Spectral Centroid'] = [[x] for x in df['Spectral Centroid']]\n",
    "df['Spectral Bandwidth'] = [[x] for x in df['Spectral Bandwidth']]\n",
    "df['Spectral Roll-off'] = [[x] for x in df['Spectral Roll-off']]"
   ]
  },
  {
   "cell_type": "markdown",
   "id": "de9dc952",
   "metadata": {},
   "source": [
    "This code snippet seperates the datapoints in our DataFrame by enclosing each value from existing columns ('Zero Crossing Rate', 'RMSE', 'Spectral Flatness', etc.) in a list."
   ]
  },
  {
   "cell_type": "code",
   "execution_count": 7,
   "id": "75a61b0d",
   "metadata": {},
   "outputs": [],
   "source": [
    "# Process the Beats column\n",
    "df['Beats'] = df['Beats'].str.replace('[', '').str.replace(']', '')\n",
    "df['Spectral Contrast'] = df['Spectral Contrast'].str.replace('[', '').str.replace(']', '').str.replace('...', '').str.replace('\\n', '').str.replace(' ', '')\n",
    "df['MFCC'] = df['MFCC'].str.replace('[', '').str.replace(']', '').str.replace('...', '').str.replace('\\n', '').str.replace(' ', '')\n",
    "df['Chroma'] = df['Chroma'].str.replace('[', '').str.replace(']', '').str.replace('...', '').str.replace('\\n', '').str.replace(' ', '')"
   ]
  },
  {
   "cell_type": "markdown",
   "id": "a9bc65e2",
   "metadata": {},
   "source": [
    "This code snippet removes square brackets, ellipses, newlines, and spaces from the specified columns in the dataframe."
   ]
  },
  {
   "cell_type": "code",
   "execution_count": 8,
   "id": "fc71523c",
   "metadata": {},
   "outputs": [],
   "source": [
    "# Apply the modification to the 'Zero Crossing Rate' column\n",
    "\n",
    "df['Zero Crossing Rate'] = df['Zero Crossing Rate'].apply(process_list)\n",
    "df['RMSE'] = df['RMSE'].apply(process_list)\n",
    "df['Spectral Flatness'] = df['Spectral Flatness'].apply(process_list)\n",
    "df['Loudness'] = df['Loudness'].apply(process_list)\n",
    "df['Harmonicity'] = df['Harmonicity'].apply(process_list)\n",
    "df['Percussiveness'] = df['Percussiveness'].apply(process_list)\n",
    "df['Central Moments'] = df['Central Moments'].apply(process_list)\n",
    "df['Spectral Centroid'] = df['Spectral Centroid'].apply(process_list)\n",
    "df['Spectral Bandwidth'] = df['Spectral Bandwidth'].apply(process_list)\n",
    "df['Spectral Roll-off'] = df['Spectral Roll-off'].apply(process_list)"
   ]
  },
  {
   "cell_type": "markdown",
   "id": "b12ae5bc",
   "metadata": {},
   "source": [
    "This code snippet applies the function process_list some columns of the DataFrame. The function is applied to columns named 'Zero Crossing Rate', 'RMSE', 'Spectral Flatness', etc. The result of applying the function is stored back in the respective columns."
   ]
  },
  {
   "cell_type": "code",
   "execution_count": 9,
   "id": "b869c5a5",
   "metadata": {},
   "outputs": [],
   "source": [
    "df['MFCC'] = df['MFCC'].apply(lambda x: modify(x))\n",
    "df['Chroma'] = df['Chroma'].apply(lambda x: modify(x))"
   ]
  },
  {
   "cell_type": "markdown",
   "id": "c4ea09b4",
   "metadata": {},
   "source": [
    "This code snippet applies the modify function to the 'MFCC' and 'Chroma' columns of a DataFrame. The modify function is applied to each element of the columns using the apply method."
   ]
  },
  {
   "cell_type": "code",
   "execution_count": 10,
   "id": "3a350f93",
   "metadata": {},
   "outputs": [],
   "source": [
    "df['MFCC']= df['MFCC'].str.replace('320.0..0.0.0.0', '320.0')"
   ]
  },
  {
   "cell_type": "code",
   "execution_count": 11,
   "id": "cecb0dcc",
   "metadata": {},
   "outputs": [],
   "source": [
    "df['Beats'] = df['Beats'].str.split().apply(lambda x: [int(val) for val in x])\n",
    "df['Spectral Contrast'] = df['Spectral Contrast'].str.split().apply(lambda x: [float(val) for val in x])\n",
    "df['MFCC'] = df['MFCC'].str.split().apply(lambda x: [float(val) for val in x])\n",
    "df['Chroma'] = df['Chroma'].str.split().apply(lambda x: [float(val) for val in x])"
   ]
  },
  {
   "cell_type": "markdown",
   "id": "e8021226",
   "metadata": {},
   "source": [
    "This code snippet splits the values in some columns of our DataFrame and converts them into lists of integers or floats."
   ]
  },
  {
   "cell_type": "markdown",
   "id": "3b2506c6",
   "metadata": {},
   "source": [
    "<a id='data-exploration'></a>\n",
    "<font size=\"+1\" color='#780404'><b> 4.2 Feature Engineering</b></font>  \n",
    "[back to top](#table-of-contents)"
   ]
  },
  {
   "cell_type": "code",
   "execution_count": 12,
   "id": "ce137b19",
   "metadata": {},
   "outputs": [],
   "source": [
    "\n",
    "df['Beats Mean'] = df['Beats'].apply(lambda x: np.mean(x))\n",
    "df['Central Moments Mean'] = df['Central Moments'].apply(lambda x: np.mean(x))\n",
    "df['Zero Crossing Rate Mean'] = df['Zero Crossing Rate'].apply(lambda x: np.mean(x))\n",
    "df['RMSE Mean'] = df['RMSE'].apply(lambda x: np.mean(x))\n",
    "df['Spectral Contrast Mean'] = df['Spectral Contrast'].apply(lambda x: np.mean(x))\n",
    "df['Spectral Roll-off Mean'] = df['Spectral Roll-off'].apply(lambda x: np.mean(x))\n",
    "df['MFCC Mean'] = df['MFCC'].apply(lambda x: np.mean(x))\n",
    "df['Chroma Mean'] = df['Chroma'].apply(lambda x: np.mean(x))\n",
    "df['Spectral Centroid Mean'] = df['Spectral Centroid'].apply(lambda x: np.mean(x))\n",
    "df['Spectral Bandwidth Mean'] = df['Spectral Bandwidth'].apply(lambda x: np.mean(x))\n",
    "df['Spectral Flatness Mean'] = df['Spectral Flatness'].apply(lambda x: np.mean(x))\n",
    "df['Loudness Mean'] = df['Loudness'].apply(lambda x: np.mean(x))\n",
    "df['Harmonicity Mean'] = df['Harmonicity'].apply(lambda x: np.mean(x))\n",
    "df['Percussiveness Mean'] = df['Percussiveness'].apply(lambda x: np.mean(x))"
   ]
  },
  {
   "cell_type": "code",
   "execution_count": 13,
   "id": "55618b99",
   "metadata": {},
   "outputs": [],
   "source": [
    "df['Beats std'] = df['Beats'].apply(lambda x: np.std(x))\n",
    "df['Central Moments std'] = df['Central Moments'].apply(lambda x: np.std(x))\n",
    "df['Zero Crossing Rate std'] = df['Zero Crossing Rate'].apply(lambda x: np.std(x))\n",
    "df['RMSE std'] = df['RMSE'].apply(lambda x: np.std(x))\n",
    "df['Spectral Contrast std'] = df['Spectral Contrast'].apply(lambda x: np.std(x))\n",
    "df['Spectral Roll-off std'] = df['Spectral Roll-off'].apply(lambda x: np.std(x))\n",
    "df['MFCC std'] = df['MFCC'].apply(lambda x: np.std(x))\n",
    "df['Chroma std'] = df['Chroma'].apply(lambda x: np.std(x))\n",
    "df['Spectral Centroid std'] = df['Spectral Centroid'].apply(lambda x: np.std(x))\n",
    "df['Spectral Bandwidth std'] = df['Spectral Bandwidth'].apply(lambda x: np.std(x))\n",
    "df['Spectral Flatness std'] = df['Spectral Flatness'].apply(lambda x: np.std(x))\n",
    "df['Loudness std'] = df['Loudness'].apply(lambda x: np.std(x))\n",
    "df['Harmonicity std'] = df['Harmonicity'].apply(lambda x: np.std(x))\n",
    "df['Percussiveness std'] = df['Percussiveness'].apply(lambda x: np.std(x))"
   ]
  },
  {
   "cell_type": "code",
   "execution_count": 14,
   "id": "c606cbd8",
   "metadata": {},
   "outputs": [],
   "source": [
    "df['Beats var'] = df['Beats'].apply(lambda x: np.var(x))\n",
    "df['Central Moments var'] = df['Central Moments'].apply(lambda x: np.var(x))\n",
    "df['Zero Crossing Rate var'] = df['Zero Crossing Rate'].apply(lambda x: np.var(x))\n",
    "df['RMSE var'] = df['RMSE'].apply(lambda x: np.var(x))\n",
    "df['Spectral Contrast var'] = df['Spectral Contrast'].apply(lambda x: np.var(x))\n",
    "df['Spectral Roll-off var'] = df['Spectral Roll-off'].apply(lambda x: np.var(x))\n",
    "df['MFCC var'] = df['MFCC'].apply(lambda x: np.var(x))\n",
    "df['Chroma var'] = df['Chroma'].apply(lambda x: np.var(x))\n",
    "df['Spectral Centroid var'] = df['Spectral Centroid'].apply(lambda x: np.var(x))\n",
    "df['Spectral Bandwidth var'] = df['Spectral Bandwidth'].apply(lambda x: np.var(x))\n",
    "df['Spectral Flatness var'] = df['Spectral Flatness'].apply(lambda x: np.var(x))\n",
    "df['Loudness var'] = df['Loudness'].apply(lambda x: np.var(x))\n",
    "df['Harmonicity var'] = df['Harmonicity'].apply(lambda x: np.var(x))\n",
    "df['Percussiveness var'] = df['Percussiveness'].apply(lambda x: np.var(x))"
   ]
  },
  {
   "cell_type": "code",
   "execution_count": 15,
   "id": "dff22ef5",
   "metadata": {},
   "outputs": [],
   "source": [
    "df['Beats sum'] = df['Beats'].apply(lambda x: np.sum(x))\n",
    "df['Central Moments sum'] = df['Central Moments'].apply(lambda x: np.sum(x))\n",
    "df['Zero Crossing Rate sum'] = df['Zero Crossing Rate'].apply(lambda x: np.sum(x))\n",
    "df['RMSE sum'] = df['RMSE'].apply(lambda x: np.sum(x))\n",
    "df['Spectral Contrast sum'] = df['Spectral Contrast'].apply(lambda x: np.sum(x))\n",
    "df['Spectral Roll-off sum'] = df['Spectral Roll-off'].apply(lambda x: np.sum(x))\n",
    "df['MFCC sum'] = df['MFCC'].apply(lambda x: np.sum(x))\n",
    "df['Chroma sum'] = df['Chroma'].apply(lambda x: np.sum(x))\n",
    "df['Spectral Centroid sum'] = df['Spectral Centroid'].apply(lambda x: np.sum(x))\n",
    "df['Spectral Bandwidth sum'] = df['Spectral Bandwidth'].apply(lambda x: np.sum(x))\n",
    "df['Spectral Flatness sum'] = df['Spectral Flatness'].apply(lambda x: np.sum(x))\n",
    "df['Loudness sum'] = df['Loudness'].apply(lambda x: np.sum(x))\n",
    "df['Harmonicity sum'] = df['Harmonicity'].apply(lambda x: np.sum(x))\n",
    "df['Percussiveness sum'] = df['Percussiveness'].apply(lambda x: np.sum(x))"
   ]
  },
  {
   "cell_type": "code",
   "execution_count": 16,
   "id": "3897c497",
   "metadata": {},
   "outputs": [],
   "source": [
    "df['Beats max'] = df['Beats'].apply(lambda x: np.max(x))\n",
    "df['Central Moments max'] = df['Central Moments'].apply(lambda x: np.max(x))\n",
    "df['Zero Crossing Rate max'] = df['Zero Crossing Rate'].apply(lambda x: np.max(x))\n",
    "df['RMSE max'] = df['RMSE'].apply(lambda x: np.max(x))\n",
    "df['Spectral Contrast max'] = df['Spectral Contrast'].apply(lambda x: np.max(x))\n",
    "df['Spectral Roll-off max'] = df['Spectral Roll-off'].apply(lambda x: np.max(x))\n",
    "df['MFCC max'] = df['MFCC'].apply(lambda x: np.max(x))\n",
    "df['Chroma max'] = df['Chroma'].apply(lambda x: np.max(x))\n",
    "df['Spectral Centroid max'] = df['Spectral Centroid'].apply(lambda x: np.max(x))\n",
    "df['Spectral Bandwidth max'] = df['Spectral Bandwidth'].apply(lambda x: np.max(x))\n",
    "df['Spectral Flatness max'] = df['Spectral Flatness'].apply(lambda x: np.max(x))\n",
    "df['Loudness max'] = df['Loudness'].apply(lambda x: np.max(x))\n",
    "df['Harmonicity max'] = df['Harmonicity'].apply(lambda x: np.max(x))\n",
    "df['Percussiveness max'] = df['Percussiveness'].apply(lambda x: np.max(x))"
   ]
  },
  {
   "cell_type": "code",
   "execution_count": 17,
   "id": "2f0c881f",
   "metadata": {},
   "outputs": [],
   "source": [
    "df['Beats min'] = df['Beats'].apply(lambda x: np.min(x))\n",
    "df['Central Moments min'] = df['Central Moments'].apply(lambda x: np.min(x))\n",
    "df['Zero Crossing Rate min'] = df['Zero Crossing Rate'].apply(lambda x: np.min(x))\n",
    "df['RMSE min'] = df['RMSE'].apply(lambda x: np.min(x))\n",
    "df['Spectral Contrast min'] = df['Spectral Contrast'].apply(lambda x: np.min(x))\n",
    "df['Spectral Roll-off min'] = df['Spectral Roll-off'].apply(lambda x: np.min(x))\n",
    "df['MFCC min'] = df['MFCC'].apply(lambda x: np.min(x))\n",
    "df['Chroma min'] = df['Chroma'].apply(lambda x: np.min(x))\n",
    "df['Spectral Centroid min'] = df['Spectral Centroid'].apply(lambda x: np.min(x))\n",
    "df['Spectral Bandwidth min'] = df['Spectral Bandwidth'].apply(lambda x: np.min(x))\n",
    "df['Spectral Flatness min'] = df['Spectral Flatness'].apply(lambda x: np.min(x))\n",
    "df['Loudness min'] = df['Loudness'].apply(lambda x: np.min(x))\n",
    "df['Harmonicity min'] = df['Harmonicity'].apply(lambda x: np.min(x))\n",
    "df['Percussiveness min'] = df['Percussiveness'].apply(lambda x: np.min(x))"
   ]
  },
  {
   "cell_type": "code",
   "execution_count": 18,
   "id": "58a6709b",
   "metadata": {},
   "outputs": [],
   "source": [
    "df['Beats zscore'] = df['Beats'].apply(lambda x: np.mean(zscore(x)))\n",
    "df['Central Moments zscore'] = df['Central Moments'].apply(lambda x: np.mean(zscore(x)))\n",
    "df['Zero Crossing Rate zscore'] = df['Zero Crossing Rate'].apply(lambda x: np.mean(zscore(x)))\n",
    "df['RMSE zscore'] = df['RMSE'].apply(lambda x: np.mean(zscore(x)))\n",
    "df['Spectral Contrast zscore'] = df['Spectral Contrast'].apply(lambda x: np.mean(zscore(x)))\n",
    "df['Spectral Roll-off zscore'] = df['Spectral Roll-off'].apply(lambda x: np.mean(zscore(x)))\n",
    "df['MFCC zscore'] = df['MFCC'].apply(lambda x: np.mean(zscore(x)))\n",
    "df['Chroma zscore'] = df['Chroma'].apply(lambda x: np.mean(zscore(x)))\n",
    "df['Spectral Centroid zscore'] = df['Spectral Centroid'].apply(lambda x: np.mean(zscore(x)))\n",
    "df['Spectral Bandwidth zscore'] = df['Spectral Bandwidth'].apply(lambda x: np.mean(zscore(x)))\n",
    "df['Spectral Flatness zscore'] = df['Spectral Flatness'].apply(lambda x: np.mean(zscore(x)))\n",
    "df['Loudness zscore'] = df['Loudness'].apply(lambda x: np.mean(zscore(x)))\n",
    "df['Harmonicity zscore'] = df['Harmonicity'].apply(lambda x: np.mean(zscore(x)))\n",
    "df['Percussiveness zscore'] = df['Percussiveness'].apply(lambda x: np.mean(zscore(x)))"
   ]
  },
  {
   "cell_type": "code",
   "execution_count": 19,
   "id": "7c1499f9",
   "metadata": {},
   "outputs": [],
   "source": [
    "df['Beats kurtosis'] = df['Beats'].apply(lambda x: kurtosis(x))\n",
    "df['Central Moments kurtosis'] = df['Central Moments'].apply(lambda x: kurtosis(x))\n",
    "df['Zero Crossing Rate kurtosis'] = df['Zero Crossing Rate'].apply(lambda x: kurtosis(x))\n",
    "df['RMSE kurtosis'] = df['RMSE'].apply(lambda x: kurtosis(x))\n",
    "df['Spectral Contrast kurtosis'] = df['Spectral Contrast'].apply(lambda x: kurtosis(x))\n",
    "df['Spectral Roll-off kurtosis'] = df['Spectral Roll-off'].apply(lambda x: kurtosis(x))\n",
    "df['MFCC kurtosis'] = df['MFCC'].apply(lambda x: kurtosis(x))\n",
    "df['Chroma kurtosis'] = df['Chroma'].apply(lambda x: kurtosis(x))\n",
    "df['Spectral Centroid kurtosis'] = df['Spectral Centroid'].apply(lambda x: kurtosis(x))\n",
    "df['Spectral Bandwidth kurtosis'] = df['Spectral Bandwidth'].apply(lambda x: kurtosis(x))\n",
    "df['Spectral Flatness kurtosis'] = df['Spectral Flatness'].apply(lambda x: kurtosis(x))\n",
    "df['Loudness kurtosis'] = df['Loudness'].apply(lambda x: kurtosis(x))\n",
    "df['Harmonicity kurtosis'] = df['Harmonicity'].apply(lambda x: kurtosis(x))\n",
    "df['Percussiveness kurtosis'] = df['Percussiveness'].apply(lambda x: kurtosis(x))"
   ]
  },
  {
   "cell_type": "code",
   "execution_count": 20,
   "id": "17a7b4cf",
   "metadata": {},
   "outputs": [],
   "source": [
    "df['Beats skew'] = df['Beats'].apply(lambda x: skew(x))\n",
    "df['Central Moments skew'] = df['Central Moments'].apply(lambda x: skew(x))\n",
    "df['Zero Crossing Rate skew'] = df['Zero Crossing Rate'].apply(lambda x: skew(x))\n",
    "df['RMSE skew'] = df['RMSE'].apply(lambda x: skew(x))\n",
    "df['Spectral Contrast skew'] = df['Spectral Contrast'].apply(lambda x: skew(x))\n",
    "df['Spectral Roll-off skew'] = df['Spectral Roll-off'].apply(lambda x: skew(x))\n",
    "df['MFCC skew'] = df['MFCC'].apply(lambda x: skew(x))\n",
    "df['Chroma skew'] = df['Chroma'].apply(lambda x: skew(x))\n",
    "df['Spectral Centroid skew'] = df['Spectral Centroid'].apply(lambda x: skew(x))\n",
    "df['Spectral Bandwidth skew'] = df['Spectral Bandwidth'].apply(lambda x: skew(x))\n",
    "df['Spectral Flatness skew'] = df['Spectral Flatness'].apply(lambda x: skew(x))\n",
    "df['Loudness skew'] = df['Loudness'].apply(lambda x: skew(x))\n",
    "df['Harmonicity skew'] = df['Harmonicity'].apply(lambda x: skew(x))\n",
    "df['Percussiveness skew'] = df['Percussiveness'].apply(lambda x: skew(x))"
   ]
  },
  {
   "cell_type": "code",
   "execution_count": 21,
   "id": "b79ea468",
   "metadata": {},
   "outputs": [],
   "source": [
    "df['Beats iqr'] = df['Beats'].apply(lambda x: iqr(x))\n",
    "df['Central Moments iqr'] = df['Central Moments'].apply(lambda x: iqr(x))\n",
    "df['Zero Crossing Rate iqr'] = df['Zero Crossing Rate'].apply(lambda x: iqr(x))\n",
    "df['RMSE iqr'] = df['RMSE'].apply(lambda x: iqr(x))\n",
    "df['Spectral Contrast iqr'] = df['Spectral Contrast'].apply(lambda x: iqr(x))\n",
    "df['Spectral Roll-off iqr'] = df['Spectral Roll-off'].apply(lambda x: iqr(x))\n",
    "df['MFCC iqr'] = df['MFCC'].apply(lambda x: iqr(x))\n",
    "df['Chroma iqr'] = df['Chroma'].apply(lambda x: iqr(x))\n",
    "df['Spectral Centroid iqr'] = df['Spectral Centroid'].apply(lambda x: iqr(x))\n",
    "df['Spectral Bandwidth iqr'] = df['Spectral Bandwidth'].apply(lambda x: iqr(x))\n",
    "df['Spectral Flatness iqr'] = df['Spectral Flatness'].apply(lambda x: iqr(x))\n",
    "df['Loudness iqr'] = df['Loudness'].apply(lambda x: iqr(x))\n",
    "df['Harmonicity iqr'] = df['Harmonicity'].apply(lambda x: iqr(x))\n",
    "df['Percussiveness iqr'] = df['Percussiveness'].apply(lambda x: iqr(x))"
   ]
  },
  {
   "cell_type": "markdown",
   "metadata": {},
   "source": [
    "This code snippet calculates the interquartile range (IQR) for several features in a DataFrame called df. It uses the apply method to apply the iqr function to each column of the DataFrame and assigns the result to a new column with the suffix \"iqr\". The iqr function calculates the IQR of a given array or column."
   ]
  },
  {
   "cell_type": "code",
   "execution_count": 22,
   "id": "3445fca6",
   "metadata": {},
   "outputs": [],
   "source": [
    "df = df.drop(['Beats', 'SR', 'Central Moments', 'Zero Crossing Rate',\n",
    "            'RMSE', 'Spectral Contrast', 'Spectral Roll-off',\n",
    "            'MFCC', 'Chroma', 'Spectral Centroid', 'Spectral Bandwidth',\n",
    "            'Spectral Flatness', 'Loudness', 'Harmonicity', 'Percussiveness',], axis=1)"
   ]
  },
  {
   "cell_type": "code",
   "execution_count": 23,
   "id": "5657d5ce",
   "metadata": {},
   "outputs": [],
   "source": [
    "df.to_csv('../data/processed_data.csv')"
   ]
  }
 ],
 "metadata": {
  "kernelspec": {
   "display_name": "Python 3 (ipykernel)",
   "language": "python",
   "name": "python3"
  },
  "language_info": {
   "codemirror_mode": {
    "name": "ipython",
    "version": 3
   },
   "file_extension": ".py",
   "mimetype": "text/x-python",
   "name": "python",
   "nbconvert_exporter": "python",
   "pygments_lexer": "ipython3",
   "version": "3.10.9"
  }
 },
 "nbformat": 4,
 "nbformat_minor": 5
}
